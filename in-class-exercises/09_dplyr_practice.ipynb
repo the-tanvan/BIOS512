{
 "cells": [
  {
   "cell_type": "code",
   "execution_count": 1,
   "metadata": {},
   "outputs": [
    {
     "name": "stderr",
     "output_type": "stream",
     "text": [
      "── \u001b[1mAttaching packages\u001b[22m ─────────────────────────────────────── tidyverse 1.2.1 ──\n",
      "\n",
      "\u001b[32m✔\u001b[39m \u001b[34mggplot2\u001b[39m 3.2.0     \u001b[32m✔\u001b[39m \u001b[34mpurrr  \u001b[39m 0.3.2\n",
      "\u001b[32m✔\u001b[39m \u001b[34mtibble \u001b[39m 2.1.3     \u001b[32m✔\u001b[39m \u001b[34mdplyr  \u001b[39m 0.8.3\n",
      "\u001b[32m✔\u001b[39m \u001b[34mtidyr  \u001b[39m 0.8.3     \u001b[32m✔\u001b[39m \u001b[34mstringr\u001b[39m 1.4.0\n",
      "\u001b[32m✔\u001b[39m \u001b[34mreadr  \u001b[39m 1.3.1     \u001b[32m✔\u001b[39m \u001b[34mforcats\u001b[39m 0.4.0\n",
      "\n",
      "── \u001b[1mConflicts\u001b[22m ────────────────────────────────────────── tidyverse_conflicts() ──\n",
      "\u001b[31m✖\u001b[39m \u001b[34mdplyr\u001b[39m::\u001b[32mfilter()\u001b[39m masks \u001b[34mstats\u001b[39m::filter()\n",
      "\u001b[31m✖\u001b[39m \u001b[34mdplyr\u001b[39m::\u001b[32mlag()\u001b[39m    masks \u001b[34mstats\u001b[39m::lag()\n",
      "\n"
     ]
    }
   ],
   "source": [
    "library('tidyverse')"
   ]
  },
  {
   "cell_type": "code",
   "execution_count": 2,
   "metadata": {},
   "outputs": [
    {
     "data": {
      "text/html": [
       "<table>\n",
       "<caption>A data.frame: 6 × 7</caption>\n",
       "<thead>\n",
       "\t<tr><th scope=col>year</th><th scope=col>name</th><th scope=col>country</th><th scope=col>time</th><th scope=col>race.time</th><th scope=col>MF</th><th scope=col>country.simple</th></tr>\n",
       "\t<tr><th scope=col>&lt;int&gt;</th><th scope=col>&lt;fct&gt;</th><th scope=col>&lt;fct&gt;</th><th scope=col>&lt;fct&gt;</th><th scope=col>&lt;dbl&gt;</th><th scope=col>&lt;fct&gt;</th><th scope=col>&lt;fct&gt;</th></tr>\n",
       "</thead>\n",
       "<tbody>\n",
       "\t<tr><td>2019</td><td>Lawrence Cherono          </td><td>Kenya        </td><td>2H 7M 57S </td><td>2.132500</td><td>Men's</td><td>Kenya        </td></tr>\n",
       "\t<tr><td>2018</td><td>Yuki Kawauchi             </td><td>Japan        </td><td>2H 15M 58S</td><td>2.266111</td><td>Men's</td><td>Japan        </td></tr>\n",
       "\t<tr><td>2017</td><td>Geoffrey Kirui            </td><td>Kenya        </td><td>2H 9M 37S </td><td>2.160278</td><td>Men's</td><td>Kenya        </td></tr>\n",
       "\t<tr><td>2016</td><td>Lemi Berhanu              </td><td>Ethiopia     </td><td>2H 12M 45S</td><td>2.212500</td><td>Men's</td><td>Ethiopia     </td></tr>\n",
       "\t<tr><td>2015</td><td>Lelisa Desisa             </td><td>Ethiopia     </td><td>2H 9M 17S </td><td>2.154722</td><td>Men's</td><td>Ethiopia     </td></tr>\n",
       "\t<tr><td>2014</td><td>Mebrahtom \"Meb\" Keflezighi</td><td>United States</td><td>2H 8M 37S </td><td>2.143611</td><td>Men's</td><td>United States</td></tr>\n",
       "</tbody>\n",
       "</table>\n"
      ],
      "text/latex": [
       "A data.frame: 6 × 7\n",
       "\\begin{tabular}{r|lllllll}\n",
       " year & name & country & time & race.time & MF & country.simple\\\\\n",
       " <int> & <fct> & <fct> & <fct> & <dbl> & <fct> & <fct>\\\\\n",
       "\\hline\n",
       "\t 2019 & Lawrence Cherono           & Kenya         & 2H 7M 57S  & 2.132500 & Men's & Kenya        \\\\\n",
       "\t 2018 & Yuki Kawauchi              & Japan         & 2H 15M 58S & 2.266111 & Men's & Japan        \\\\\n",
       "\t 2017 & Geoffrey Kirui             & Kenya         & 2H 9M 37S  & 2.160278 & Men's & Kenya        \\\\\n",
       "\t 2016 & Lemi Berhanu               & Ethiopia      & 2H 12M 45S & 2.212500 & Men's & Ethiopia     \\\\\n",
       "\t 2015 & Lelisa Desisa              & Ethiopia      & 2H 9M 17S  & 2.154722 & Men's & Ethiopia     \\\\\n",
       "\t 2014 & Mebrahtom \"Meb\" Keflezighi & United States & 2H 8M 37S  & 2.143611 & Men's & United States\\\\\n",
       "\\end{tabular}\n"
      ],
      "text/markdown": [
       "\n",
       "A data.frame: 6 × 7\n",
       "\n",
       "| year &lt;int&gt; | name &lt;fct&gt; | country &lt;fct&gt; | time &lt;fct&gt; | race.time &lt;dbl&gt; | MF &lt;fct&gt; | country.simple &lt;fct&gt; |\n",
       "|---|---|---|---|---|---|---|\n",
       "| 2019 | Lawrence Cherono           | Kenya         | 2H 7M 57S  | 2.132500 | Men's | Kenya         |\n",
       "| 2018 | Yuki Kawauchi              | Japan         | 2H 15M 58S | 2.266111 | Men's | Japan         |\n",
       "| 2017 | Geoffrey Kirui             | Kenya         | 2H 9M 37S  | 2.160278 | Men's | Kenya         |\n",
       "| 2016 | Lemi Berhanu               | Ethiopia      | 2H 12M 45S | 2.212500 | Men's | Ethiopia      |\n",
       "| 2015 | Lelisa Desisa              | Ethiopia      | 2H 9M 17S  | 2.154722 | Men's | Ethiopia      |\n",
       "| 2014 | Mebrahtom \"Meb\" Keflezighi | United States | 2H 8M 37S  | 2.143611 | Men's | United States |\n",
       "\n"
      ],
      "text/plain": [
       "  year name                       country       time       race.time MF   \n",
       "1 2019 Lawrence Cherono           Kenya         2H 7M 57S  2.132500  Men's\n",
       "2 2018 Yuki Kawauchi              Japan         2H 15M 58S 2.266111  Men's\n",
       "3 2017 Geoffrey Kirui             Kenya         2H 9M 37S  2.160278  Men's\n",
       "4 2016 Lemi Berhanu               Ethiopia      2H 12M 45S 2.212500  Men's\n",
       "5 2015 Lelisa Desisa              Ethiopia      2H 9M 17S  2.154722  Men's\n",
       "6 2014 Mebrahtom \"Meb\" Keflezighi United States 2H 8M 37S  2.143611  Men's\n",
       "  country.simple\n",
       "1 Kenya         \n",
       "2 Japan         \n",
       "3 Kenya         \n",
       "4 Ethiopia      \n",
       "5 Ethiopia      \n",
       "6 United States "
      ]
     },
     "metadata": {},
     "output_type": "display_data"
    }
   ],
   "source": [
    "df.marathon = read.csv('../data/marathon.csv')\n",
    "df.marathon %>% head"
   ]
  },
  {
   "cell_type": "markdown",
   "metadata": {},
   "source": [
    "# Filter"
   ]
  },
  {
   "cell_type": "markdown",
   "metadata": {},
   "source": [
    "- the filter operation does exactly what you expect given its name."
   ]
  },
  {
   "cell_type": "code",
   "execution_count": 3,
   "metadata": {},
   "outputs": [],
   "source": [
    "# e.g.\n",
    "\n",
    "# iris %>% filter(Species == 'setosa', Petal.Width > 0.2)"
   ]
  },
  {
   "cell_type": "markdown",
   "metadata": {},
   "source": [
    "- The syntax for the `equals` operator in R is `==`.\n",
    "- Greater than (`>` or `>=`) and less than (`<` or `<=`) are intuitive.\n",
    "- You can fitler on multiple columns by adding arguments to the filter operation."
   ]
  },
  {
   "cell_type": "markdown",
   "metadata": {},
   "source": [
    "Filter the marathon data to just the runners from Kenya."
   ]
  },
  {
   "cell_type": "code",
   "execution_count": 5,
   "metadata": {},
   "outputs": [
    {
     "data": {
      "text/html": [
       "<table>\n",
       "<caption>A data.frame: 6 × 7</caption>\n",
       "<thead>\n",
       "\t<tr><th scope=col>year</th><th scope=col>name</th><th scope=col>country</th><th scope=col>time</th><th scope=col>race.time</th><th scope=col>MF</th><th scope=col>country.simple</th></tr>\n",
       "\t<tr><th scope=col>&lt;int&gt;</th><th scope=col>&lt;fct&gt;</th><th scope=col>&lt;fct&gt;</th><th scope=col>&lt;fct&gt;</th><th scope=col>&lt;dbl&gt;</th><th scope=col>&lt;fct&gt;</th><th scope=col>&lt;fct&gt;</th></tr>\n",
       "</thead>\n",
       "<tbody>\n",
       "\t<tr><td>2019</td><td>Lawrence Cherono         </td><td>Kenya</td><td>2H 7M 57S </td><td>2.132500</td><td>Men's</td><td>Kenya</td></tr>\n",
       "\t<tr><td>2017</td><td>Geoffrey Kirui           </td><td>Kenya</td><td>2H 9M 37S </td><td>2.160278</td><td>Men's</td><td>Kenya</td></tr>\n",
       "\t<tr><td>2012</td><td>Wesley Korir             </td><td>Kenya</td><td>2H 12M 40S</td><td>2.211111</td><td>Men's</td><td>Kenya</td></tr>\n",
       "\t<tr><td>2011</td><td>Geoffrey Mutai           </td><td>Kenya</td><td>2H 3M 2S  </td><td>2.050556</td><td>Men's</td><td>Kenya</td></tr>\n",
       "\t<tr><td>2010</td><td>Robert Kiprono Cheruiyot </td><td>Kenya</td><td>2H 5M 52S </td><td>2.097778</td><td>Men's</td><td>Kenya</td></tr>\n",
       "\t<tr><td>2008</td><td>Robert Kipkoech Cheruiyot</td><td>Kenya</td><td>2H 7M 46S </td><td>2.129444</td><td>Men's</td><td>Kenya</td></tr>\n",
       "</tbody>\n",
       "</table>\n"
      ],
      "text/latex": [
       "A data.frame: 6 × 7\n",
       "\\begin{tabular}{r|lllllll}\n",
       " year & name & country & time & race.time & MF & country.simple\\\\\n",
       " <int> & <fct> & <fct> & <fct> & <dbl> & <fct> & <fct>\\\\\n",
       "\\hline\n",
       "\t 2019 & Lawrence Cherono          & Kenya & 2H 7M 57S  & 2.132500 & Men's & Kenya\\\\\n",
       "\t 2017 & Geoffrey Kirui            & Kenya & 2H 9M 37S  & 2.160278 & Men's & Kenya\\\\\n",
       "\t 2012 & Wesley Korir              & Kenya & 2H 12M 40S & 2.211111 & Men's & Kenya\\\\\n",
       "\t 2011 & Geoffrey Mutai            & Kenya & 2H 3M 2S   & 2.050556 & Men's & Kenya\\\\\n",
       "\t 2010 & Robert Kiprono Cheruiyot  & Kenya & 2H 5M 52S  & 2.097778 & Men's & Kenya\\\\\n",
       "\t 2008 & Robert Kipkoech Cheruiyot & Kenya & 2H 7M 46S  & 2.129444 & Men's & Kenya\\\\\n",
       "\\end{tabular}\n"
      ],
      "text/markdown": [
       "\n",
       "A data.frame: 6 × 7\n",
       "\n",
       "| year &lt;int&gt; | name &lt;fct&gt; | country &lt;fct&gt; | time &lt;fct&gt; | race.time &lt;dbl&gt; | MF &lt;fct&gt; | country.simple &lt;fct&gt; |\n",
       "|---|---|---|---|---|---|---|\n",
       "| 2019 | Lawrence Cherono          | Kenya | 2H 7M 57S  | 2.132500 | Men's | Kenya |\n",
       "| 2017 | Geoffrey Kirui            | Kenya | 2H 9M 37S  | 2.160278 | Men's | Kenya |\n",
       "| 2012 | Wesley Korir              | Kenya | 2H 12M 40S | 2.211111 | Men's | Kenya |\n",
       "| 2011 | Geoffrey Mutai            | Kenya | 2H 3M 2S   | 2.050556 | Men's | Kenya |\n",
       "| 2010 | Robert Kiprono Cheruiyot  | Kenya | 2H 5M 52S  | 2.097778 | Men's | Kenya |\n",
       "| 2008 | Robert Kipkoech Cheruiyot | Kenya | 2H 7M 46S  | 2.129444 | Men's | Kenya |\n",
       "\n"
      ],
      "text/plain": [
       "  year name                      country time       race.time MF   \n",
       "1 2019 Lawrence Cherono          Kenya   2H 7M 57S  2.132500  Men's\n",
       "2 2017 Geoffrey Kirui            Kenya   2H 9M 37S  2.160278  Men's\n",
       "3 2012 Wesley Korir              Kenya   2H 12M 40S 2.211111  Men's\n",
       "4 2011 Geoffrey Mutai            Kenya   2H 3M 2S   2.050556  Men's\n",
       "5 2010 Robert Kiprono Cheruiyot  Kenya   2H 5M 52S  2.097778  Men's\n",
       "6 2008 Robert Kipkoech Cheruiyot Kenya   2H 7M 46S  2.129444  Men's\n",
       "  country.simple\n",
       "1 Kenya         \n",
       "2 Kenya         \n",
       "3 Kenya         \n",
       "4 Kenya         \n",
       "5 Kenya         \n",
       "6 Kenya         "
      ]
     },
     "metadata": {},
     "output_type": "display_data"
    }
   ],
   "source": [
    "df.marathon %>% filter(country == \"Kenya\") %>% head"
   ]
  },
  {
   "cell_type": "markdown",
   "metadata": {},
   "source": [
    "# Select"
   ]
  },
  {
   "cell_type": "markdown",
   "metadata": {},
   "source": [
    "- select let's you include/exclude columns."
   ]
  },
  {
   "cell_type": "code",
   "execution_count": 4,
   "metadata": {},
   "outputs": [],
   "source": [
    "# e.g.\n",
    "\n",
    "# iris %>% select(Species, Sepal.Length) %>% head"
   ]
  },
  {
   "cell_type": "markdown",
   "metadata": {},
   "source": [
    "Select just the columns that represent runner names and country from the marathon data."
   ]
  },
  {
   "cell_type": "code",
   "execution_count": 6,
   "metadata": {},
   "outputs": [
    {
     "data": {
      "text/html": [
       "<table>\n",
       "<caption>A data.frame: 6 × 2</caption>\n",
       "<thead>\n",
       "\t<tr><th scope=col>name</th><th scope=col>country</th></tr>\n",
       "\t<tr><th scope=col>&lt;fct&gt;</th><th scope=col>&lt;fct&gt;</th></tr>\n",
       "</thead>\n",
       "<tbody>\n",
       "\t<tr><td>Lawrence Cherono          </td><td>Kenya        </td></tr>\n",
       "\t<tr><td>Yuki Kawauchi             </td><td>Japan        </td></tr>\n",
       "\t<tr><td>Geoffrey Kirui            </td><td>Kenya        </td></tr>\n",
       "\t<tr><td>Lemi Berhanu              </td><td>Ethiopia     </td></tr>\n",
       "\t<tr><td>Lelisa Desisa             </td><td>Ethiopia     </td></tr>\n",
       "\t<tr><td>Mebrahtom \"Meb\" Keflezighi</td><td>United States</td></tr>\n",
       "</tbody>\n",
       "</table>\n"
      ],
      "text/latex": [
       "A data.frame: 6 × 2\n",
       "\\begin{tabular}{r|ll}\n",
       " name & country\\\\\n",
       " <fct> & <fct>\\\\\n",
       "\\hline\n",
       "\t Lawrence Cherono           & Kenya        \\\\\n",
       "\t Yuki Kawauchi              & Japan        \\\\\n",
       "\t Geoffrey Kirui             & Kenya        \\\\\n",
       "\t Lemi Berhanu               & Ethiopia     \\\\\n",
       "\t Lelisa Desisa              & Ethiopia     \\\\\n",
       "\t Mebrahtom \"Meb\" Keflezighi & United States\\\\\n",
       "\\end{tabular}\n"
      ],
      "text/markdown": [
       "\n",
       "A data.frame: 6 × 2\n",
       "\n",
       "| name &lt;fct&gt; | country &lt;fct&gt; |\n",
       "|---|---|\n",
       "| Lawrence Cherono           | Kenya         |\n",
       "| Yuki Kawauchi              | Japan         |\n",
       "| Geoffrey Kirui             | Kenya         |\n",
       "| Lemi Berhanu               | Ethiopia      |\n",
       "| Lelisa Desisa              | Ethiopia      |\n",
       "| Mebrahtom \"Meb\" Keflezighi | United States |\n",
       "\n"
      ],
      "text/plain": [
       "  name                       country      \n",
       "1 Lawrence Cherono           Kenya        \n",
       "2 Yuki Kawauchi              Japan        \n",
       "3 Geoffrey Kirui             Kenya        \n",
       "4 Lemi Berhanu               Ethiopia     \n",
       "5 Lelisa Desisa              Ethiopia     \n",
       "6 Mebrahtom \"Meb\" Keflezighi United States"
      ]
     },
     "metadata": {},
     "output_type": "display_data"
    }
   ],
   "source": [
    "df.marathon %>% select(name, country) %>% head"
   ]
  },
  {
   "cell_type": "markdown",
   "metadata": {},
   "source": [
    "# Putting it all together"
   ]
  },
  {
   "cell_type": "markdown",
   "metadata": {},
   "source": [
    "Use `group_by`, `filter`, and `summarize` to show the best race times for US and Kenyan women runners. (*Hint: use the `%in%` operator to filter by two values for one column*). Fill in the missing pieces below:"
   ]
  },
  {
   "cell_type": "code",
   "execution_count": 5,
   "metadata": {},
   "outputs": [],
   "source": [
    "# df.marathon %>%\n",
    "#     filter(MF == \"Women's\", country %in% c(?, ?)) %>%\n",
    "#     group_by(?) %>%\n",
    "#     summarize(best.race.time = ?)"
   ]
  },
  {
   "cell_type": "markdown",
   "metadata": {},
   "source": [
    "Use `filter`, `select`, `head`, and `arrange` to show the best women's race times in the data and the country of the runners. Fill in the missing pieces below:"
   ]
  },
  {
   "cell_type": "code",
   "execution_count": 7,
   "metadata": {},
   "outputs": [
    {
     "data": {
      "text/html": [
       "<table>\n",
       "<caption>A data.frame: 6 × 2</caption>\n",
       "<thead>\n",
       "\t<tr><th scope=col>race.time</th><th scope=col>country</th></tr>\n",
       "\t<tr><th scope=col>&lt;dbl&gt;</th><th scope=col>&lt;fct&gt;</th></tr>\n",
       "</thead>\n",
       "<tbody>\n",
       "\t<tr><td>2.333056</td><td>Ethiopia     </td></tr>\n",
       "\t<tr><td>2.345278</td><td>Kenya        </td></tr>\n",
       "\t<tr><td>2.362500</td><td>Germany      </td></tr>\n",
       "\t<tr><td>2.364444</td><td>Kenya        </td></tr>\n",
       "\t<tr><td>2.376667</td><td>Kenya        </td></tr>\n",
       "\t<tr><td>2.378611</td><td>United States</td></tr>\n",
       "</tbody>\n",
       "</table>\n"
      ],
      "text/latex": [
       "A data.frame: 6 × 2\n",
       "\\begin{tabular}{r|ll}\n",
       " race.time & country\\\\\n",
       " <dbl> & <fct>\\\\\n",
       "\\hline\n",
       "\t 2.333056 & Ethiopia     \\\\\n",
       "\t 2.345278 & Kenya        \\\\\n",
       "\t 2.362500 & Germany      \\\\\n",
       "\t 2.364444 & Kenya        \\\\\n",
       "\t 2.376667 & Kenya        \\\\\n",
       "\t 2.378611 & United States\\\\\n",
       "\\end{tabular}\n"
      ],
      "text/markdown": [
       "\n",
       "A data.frame: 6 × 2\n",
       "\n",
       "| race.time &lt;dbl&gt; | country &lt;fct&gt; |\n",
       "|---|---|\n",
       "| 2.333056 | Ethiopia      |\n",
       "| 2.345278 | Kenya         |\n",
       "| 2.362500 | Germany       |\n",
       "| 2.364444 | Kenya         |\n",
       "| 2.376667 | Kenya         |\n",
       "| 2.378611 | United States |\n",
       "\n"
      ],
      "text/plain": [
       "  race.time country      \n",
       "1 2.333056  Ethiopia     \n",
       "2 2.345278  Kenya        \n",
       "3 2.362500  Germany      \n",
       "4 2.364444  Kenya        \n",
       "5 2.376667  Kenya        \n",
       "6 2.378611  United States"
      ]
     },
     "metadata": {},
     "output_type": "display_data"
    }
   ],
   "source": [
    "df.marathon %>%\n",
    "    filter(MF == \"Women's\") %>%\n",
    "    select(race.time, country) %>%\n",
    "    arrange(race.time) %>%\n",
    "    head()"
   ]
  },
  {
   "cell_type": "markdown",
   "metadata": {},
   "source": [
    "What's the best race time ever for a US man?"
   ]
  },
  {
   "cell_type": "code",
   "execution_count": 8,
   "metadata": {},
   "outputs": [
    {
     "data": {
      "text/html": [
       "<table>\n",
       "<caption>A data.frame: 6 × 1</caption>\n",
       "<thead>\n",
       "\t<tr><th scope=col>race.time</th></tr>\n",
       "\t<tr><th scope=col>&lt;dbl&gt;</th></tr>\n",
       "</thead>\n",
       "<tbody>\n",
       "\t<tr><td>2.050556</td></tr>\n",
       "\t<tr><td>2.097778</td></tr>\n",
       "\t<tr><td>2.120556</td></tr>\n",
       "\t<tr><td>2.120833</td></tr>\n",
       "\t<tr><td>2.126111</td></tr>\n",
       "\t<tr><td>2.129444</td></tr>\n",
       "</tbody>\n",
       "</table>\n"
      ],
      "text/latex": [
       "A data.frame: 6 × 1\n",
       "\\begin{tabular}{r|l}\n",
       " race.time\\\\\n",
       " <dbl>\\\\\n",
       "\\hline\n",
       "\t 2.050556\\\\\n",
       "\t 2.097778\\\\\n",
       "\t 2.120556\\\\\n",
       "\t 2.120833\\\\\n",
       "\t 2.126111\\\\\n",
       "\t 2.129444\\\\\n",
       "\\end{tabular}\n"
      ],
      "text/markdown": [
       "\n",
       "A data.frame: 6 × 1\n",
       "\n",
       "| race.time &lt;dbl&gt; |\n",
       "|---|\n",
       "| 2.050556 |\n",
       "| 2.097778 |\n",
       "| 2.120556 |\n",
       "| 2.120833 |\n",
       "| 2.126111 |\n",
       "| 2.129444 |\n",
       "\n"
      ],
      "text/plain": [
       "  race.time\n",
       "1 2.050556 \n",
       "2 2.097778 \n",
       "3 2.120556 \n",
       "4 2.120833 \n",
       "5 2.126111 \n",
       "6 2.129444 "
      ]
     },
     "metadata": {},
     "output_type": "display_data"
    }
   ],
   "source": [
    "df.marathon %>%\n",
    "    filter(MF == \"Men's\") %>%\n",
    "    select(race.time) %>%\n",
    "    arrange(race.time) %>%\n",
    "    head()\n",
    "\n",
    "# Best Race Time for Man = 2.05"
   ]
  },
  {
   "cell_type": "markdown",
   "metadata": {},
   "source": [
    "How does the best US men's time compare the the best race time in the data overall?"
   ]
  },
  {
   "cell_type": "code",
   "execution_count": 9,
   "metadata": {},
   "outputs": [
    {
     "data": {
      "text/html": [
       "<table>\n",
       "<caption>A data.frame: 6 × 1</caption>\n",
       "<thead>\n",
       "\t<tr><th scope=col>race.time</th></tr>\n",
       "\t<tr><th scope=col>&lt;dbl&gt;</th></tr>\n",
       "</thead>\n",
       "<tbody>\n",
       "\t<tr><td>2.050556</td></tr>\n",
       "\t<tr><td>2.097778</td></tr>\n",
       "\t<tr><td>2.120556</td></tr>\n",
       "\t<tr><td>2.120833</td></tr>\n",
       "\t<tr><td>2.126111</td></tr>\n",
       "\t<tr><td>2.129444</td></tr>\n",
       "</tbody>\n",
       "</table>\n"
      ],
      "text/latex": [
       "A data.frame: 6 × 1\n",
       "\\begin{tabular}{r|l}\n",
       " race.time\\\\\n",
       " <dbl>\\\\\n",
       "\\hline\n",
       "\t 2.050556\\\\\n",
       "\t 2.097778\\\\\n",
       "\t 2.120556\\\\\n",
       "\t 2.120833\\\\\n",
       "\t 2.126111\\\\\n",
       "\t 2.129444\\\\\n",
       "\\end{tabular}\n"
      ],
      "text/markdown": [
       "\n",
       "A data.frame: 6 × 1\n",
       "\n",
       "| race.time &lt;dbl&gt; |\n",
       "|---|\n",
       "| 2.050556 |\n",
       "| 2.097778 |\n",
       "| 2.120556 |\n",
       "| 2.120833 |\n",
       "| 2.126111 |\n",
       "| 2.129444 |\n",
       "\n"
      ],
      "text/plain": [
       "  race.time\n",
       "1 2.050556 \n",
       "2 2.097778 \n",
       "3 2.120556 \n",
       "4 2.120833 \n",
       "5 2.126111 \n",
       "6 2.129444 "
      ]
     },
     "metadata": {},
     "output_type": "display_data"
    }
   ],
   "source": [
    "df.marathon %>%\n",
    "    select(race.time) %>%\n",
    "    arrange(race.time) %>%\n",
    "    head()\n",
    "\n",
    "# It is the same."
   ]
  },
  {
   "cell_type": "markdown",
   "metadata": {},
   "source": [
    "# Bonus"
   ]
  },
  {
   "cell_type": "markdown",
   "metadata": {},
   "source": [
    "For all countries with at least 5 winners in the men's category, which country has the best median race time in the men's category? (*Hint: use the `n()` function to count the winners by country.) "
   ]
  },
  {
   "cell_type": "code",
   "execution_count": 22,
   "metadata": {},
   "outputs": [
    {
     "data": {
      "text/html": [
       "<table>\n",
       "<caption>A grouped_df: 100 × 9</caption>\n",
       "<thead>\n",
       "\t<tr><th scope=col>year</th><th scope=col>name</th><th scope=col>country</th><th scope=col>time</th><th scope=col>race.time</th><th scope=col>MF</th><th scope=col>country.simple</th><th scope=col>N.winners</th><th scope=col>Median</th></tr>\n",
       "\t<tr><th scope=col>&lt;int&gt;</th><th scope=col>&lt;fct&gt;</th><th scope=col>&lt;fct&gt;</th><th scope=col>&lt;fct&gt;</th><th scope=col>&lt;dbl&gt;</th><th scope=col>&lt;fct&gt;</th><th scope=col>&lt;fct&gt;</th><th scope=col>&lt;int&gt;</th><th scope=col>&lt;dbl&gt;</th></tr>\n",
       "</thead>\n",
       "<tbody>\n",
       "\t<tr><td>2019</td><td>Lawrence Cherono         </td><td>Kenya   </td><td>2H 7M 57S </td><td>2.132500</td><td>Men's</td><td>Kenya   </td><td>22</td><td>2.155139</td></tr>\n",
       "\t<tr><td>2017</td><td>Geoffrey Kirui           </td><td>Kenya   </td><td>2H 9M 37S </td><td>2.160278</td><td>Men's</td><td>Kenya   </td><td>22</td><td>2.155139</td></tr>\n",
       "\t<tr><td>2012</td><td>Wesley Korir             </td><td>Kenya   </td><td>2H 12M 40S</td><td>2.211111</td><td>Men's</td><td>Kenya   </td><td>22</td><td>2.155139</td></tr>\n",
       "\t<tr><td>2011</td><td>Geoffrey Mutai           </td><td>Kenya   </td><td>2H 3M 2S  </td><td>2.050556</td><td>Men's</td><td>Kenya   </td><td>22</td><td>2.155139</td></tr>\n",
       "\t<tr><td>2010</td><td>Robert Kiprono Cheruiyot </td><td>Kenya   </td><td>2H 5M 52S </td><td>2.097778</td><td>Men's</td><td>Kenya   </td><td>22</td><td>2.155139</td></tr>\n",
       "\t<tr><td>2008</td><td>Robert Kipkoech Cheruiyot</td><td>Kenya   </td><td>2H 7M 46S </td><td>2.129444</td><td>Men's</td><td>Kenya   </td><td>22</td><td>2.155139</td></tr>\n",
       "\t<tr><td>2007</td><td>Robert Kipkoech Cheruiyot</td><td>Kenya   </td><td>2H 14M 13S</td><td>2.236944</td><td>Men's</td><td>Kenya   </td><td>22</td><td>2.155139</td></tr>\n",
       "\t<tr><td>2006</td><td>Robert Kipkoech Cheruiyot</td><td>Kenya   </td><td>2H 7M 14S </td><td>2.120556</td><td>Men's</td><td>Kenya   </td><td>22</td><td>2.155139</td></tr>\n",
       "\t<tr><td>2004</td><td>Timothy Cherigat         </td><td>Kenya   </td><td>2H 10M 37S</td><td>2.176944</td><td>Men's</td><td>Kenya   </td><td>22</td><td>2.155139</td></tr>\n",
       "\t<tr><td>2003</td><td>Robert Kipkoech Cheruiyot</td><td>Kenya   </td><td>2H 10M 11S</td><td>2.169722</td><td>Men's</td><td>Kenya   </td><td>22</td><td>2.155139</td></tr>\n",
       "\t<tr><td>2002</td><td>Rodgers Rop              </td><td>Kenya   </td><td>2H 9M 2S  </td><td>2.150556</td><td>Men's</td><td>Kenya   </td><td>22</td><td>2.155139</td></tr>\n",
       "\t<tr><td>2000</td><td>Elijah Lagat             </td><td>Kenya   </td><td>2H 9M 47S </td><td>2.163056</td><td>Men's</td><td>Kenya   </td><td>22</td><td>2.155139</td></tr>\n",
       "\t<tr><td>1999</td><td>Joseph Chebet            </td><td>Kenya   </td><td>2H 9M 52S </td><td>2.164444</td><td>Men's</td><td>Kenya   </td><td>22</td><td>2.155139</td></tr>\n",
       "\t<tr><td>1998</td><td>Moses Tanui              </td><td>Kenya   </td><td>2H 7M 34S </td><td>2.126111</td><td>Men's</td><td>Kenya   </td><td>22</td><td>2.155139</td></tr>\n",
       "\t<tr><td>1997</td><td>Lameck Aguta             </td><td>Kenya   </td><td>2H 10M 34S</td><td>2.176111</td><td>Men's</td><td>Kenya   </td><td>22</td><td>2.155139</td></tr>\n",
       "\t<tr><td>1996</td><td>Moses Tanui              </td><td>Kenya   </td><td>2H 9M 15S </td><td>2.154167</td><td>Men's</td><td>Kenya   </td><td>22</td><td>2.155139</td></tr>\n",
       "\t<tr><td>1995</td><td>Cosmas Ndeti             </td><td>Kenya   </td><td>2H 9M 22S </td><td>2.156111</td><td>Men's</td><td>Kenya   </td><td>22</td><td>2.155139</td></tr>\n",
       "\t<tr><td>1994</td><td>Cosmas Ndeti             </td><td>Kenya   </td><td>2H 7M 15S </td><td>2.120833</td><td>Men's</td><td>Kenya   </td><td>22</td><td>2.155139</td></tr>\n",
       "\t<tr><td>1993</td><td>Cosmas Ndeti             </td><td>Kenya   </td><td>2H 9M 33S </td><td>2.159167</td><td>Men's</td><td>Kenya   </td><td>22</td><td>2.155139</td></tr>\n",
       "\t<tr><td>1992</td><td>Ibrahim Hussein          </td><td>Kenya   </td><td>2H 8M 14S </td><td>2.137222</td><td>Men's</td><td>Kenya   </td><td>22</td><td>2.155139</td></tr>\n",
       "\t<tr><td>1991</td><td>Ibrahim Hussein          </td><td>Kenya   </td><td>2H 11M 6S </td><td>2.185000</td><td>Men's</td><td>Kenya   </td><td>22</td><td>2.155139</td></tr>\n",
       "\t<tr><td>1988</td><td>Ibrahim Hussein          </td><td>Kenya   </td><td>2H 8M 43S </td><td>2.145278</td><td>Men's</td><td>Kenya   </td><td>22</td><td>2.155139</td></tr>\n",
       "\t<tr><td>2016</td><td>Lemi Berhanu             </td><td>Ethiopia</td><td>2H 12M 45S</td><td>2.212500</td><td>Men's</td><td>Ethiopia</td><td> 6</td><td>2.163750</td></tr>\n",
       "\t<tr><td>2015</td><td>Lelisa Desisa            </td><td>Ethiopia</td><td>2H 9M 17S </td><td>2.154722</td><td>Men's</td><td>Ethiopia</td><td> 6</td><td>2.163750</td></tr>\n",
       "\t<tr><td>2013</td><td>Lelisa Desisa            </td><td>Ethiopia</td><td>2H 10M 22S</td><td>2.172778</td><td>Men's</td><td>Ethiopia</td><td> 6</td><td>2.163750</td></tr>\n",
       "\t<tr><td>2009</td><td>Deriba Merga             </td><td>Ethiopia</td><td>2H 8M 42S </td><td>2.145000</td><td>Men's</td><td>Ethiopia</td><td> 6</td><td>2.163750</td></tr>\n",
       "\t<tr><td>2005</td><td>Hailu Negussie           </td><td>Ethiopia</td><td>2H 11M 45S</td><td>2.195833</td><td>Men's</td><td>Ethiopia</td><td> 6</td><td>2.163750</td></tr>\n",
       "\t<tr><td>1989</td><td>Abebe Mekonnen           </td><td>Ethiopia</td><td>2H 9M 6S  </td><td>2.151667</td><td>Men's</td><td>Ethiopia</td><td> 6</td><td>2.163750</td></tr>\n",
       "\t<tr><td>2018</td><td>Yuki Kawauchi            </td><td>Japan   </td><td>2H 15M 58S</td><td>2.266111</td><td>Men's</td><td>Japan   </td><td> 9</td><td>2.275833</td></tr>\n",
       "\t<tr><td>1987</td><td>Toshihiko Seko           </td><td>Japan   </td><td>2H 11M 50S</td><td>2.197222</td><td>Men's</td><td>Japan   </td><td> 9</td><td>2.275833</td></tr>\n",
       "\t<tr><td>⋮</td><td>⋮</td><td>⋮</td><td>⋮</td><td>⋮</td><td>⋮</td><td>⋮</td><td>⋮</td><td>⋮</td></tr>\n",
       "\t<tr><td>1922</td><td>Clarence H. DeMar          </td><td>United States</td><td>2H 18M 10S</td><td>2.302778</td><td>Men's</td><td>United States</td><td>44</td><td>2.478889</td></tr>\n",
       "\t<tr><td>1921</td><td>Frank T. Zuna              </td><td>United States</td><td>2H 18M 57S</td><td>2.315833</td><td>Men's</td><td>United States</td><td>44</td><td>2.478889</td></tr>\n",
       "\t<tr><td>1919</td><td>Carl W. A. Linder          </td><td>United States</td><td>2H 29M 13S</td><td>2.486944</td><td>Men's</td><td>United States</td><td>44</td><td>2.478889</td></tr>\n",
       "\t<tr><td>1918</td><td>Camp Devens Divisional Team</td><td>United States</td><td>2H 24M 53S</td><td>2.414722</td><td>Men's</td><td>United States</td><td>44</td><td>2.478889</td></tr>\n",
       "\t<tr><td>1917</td><td>William J. (Bill) Kennedy  </td><td>United States</td><td>2H 28M 37S</td><td>2.476944</td><td>Men's</td><td>United States</td><td>44</td><td>2.478889</td></tr>\n",
       "\t<tr><td>1916</td><td>Arthur V. Roth             </td><td>United States</td><td>2H 27M 16S</td><td>2.454444</td><td>Men's</td><td>United States</td><td>44</td><td>2.478889</td></tr>\n",
       "\t<tr><td>1913</td><td>Fritz Carlson              </td><td>United States</td><td>2H 25M 14S</td><td>2.420556</td><td>Men's</td><td>United States</td><td>44</td><td>2.478889</td></tr>\n",
       "\t<tr><td>1912</td><td>Michael J. Ryan            </td><td>United States</td><td>2H 21M 18S</td><td>2.355000</td><td>Men's</td><td>United States</td><td>44</td><td>2.478889</td></tr>\n",
       "\t<tr><td>1911</td><td>Clarence H. DeMar          </td><td>United States</td><td>2H 21M 39S</td><td>2.360833</td><td>Men's</td><td>United States</td><td>44</td><td>2.478889</td></tr>\n",
       "\t<tr><td>1909</td><td>Henri Renaud               </td><td>United States</td><td>2H 53M 36S</td><td>2.893333</td><td>Men's</td><td>United States</td><td>44</td><td>2.478889</td></tr>\n",
       "\t<tr><td>1908</td><td>Thomas P. Morrissey        </td><td>United States</td><td>2H 25M 43S</td><td>2.428611</td><td>Men's</td><td>United States</td><td>44</td><td>2.478889</td></tr>\n",
       "\t<tr><td>1906</td><td>Timothy Ford               </td><td>United States</td><td>2H 45M 45S</td><td>2.762500</td><td>Men's</td><td>United States</td><td>44</td><td>2.478889</td></tr>\n",
       "\t<tr><td>1905</td><td>Frederick Lorz             </td><td>United States</td><td>2H 38M 25S</td><td>2.640278</td><td>Men's</td><td>United States</td><td>44</td><td>2.478889</td></tr>\n",
       "\t<tr><td>1904</td><td>Michael Spring             </td><td>United States</td><td>2H 38M 4S </td><td>2.634444</td><td>Men's</td><td>United States</td><td>44</td><td>2.478889</td></tr>\n",
       "\t<tr><td>1903</td><td>John C. Lorden             </td><td>United States</td><td>2H 41M 29S</td><td>2.691389</td><td>Men's</td><td>United States</td><td>44</td><td>2.478889</td></tr>\n",
       "\t<tr><td>1902</td><td>Sammy A. Mellor            </td><td>United States</td><td>2H 43M 12S</td><td>2.720000</td><td>Men's</td><td>United States</td><td>44</td><td>2.478889</td></tr>\n",
       "\t<tr><td>1899</td><td>Lawrence Brignolia         </td><td>United States</td><td>2H 54M 38S</td><td>2.910556</td><td>Men's</td><td>United States</td><td>44</td><td>2.478889</td></tr>\n",
       "\t<tr><td>1897</td><td>John J. McDermott          </td><td>United States</td><td>2H 55M 10S</td><td>2.919444</td><td>Men's</td><td>United States</td><td>44</td><td>2.478889</td></tr>\n",
       "\t<tr><td>1977</td><td>Jerome Drayton             </td><td>Canada       </td><td>2H 14M 46S</td><td>2.246111</td><td>Men's</td><td>other        </td><td>16</td><td>2.503472</td></tr>\n",
       "\t<tr><td>1948</td><td>Gerard Cote                </td><td>Canada       </td><td>2H 31M 2S </td><td>2.517222</td><td>Men's</td><td>other        </td><td>16</td><td>2.503472</td></tr>\n",
       "\t<tr><td>1944</td><td>Gerard Cote                </td><td>Canada       </td><td>2H 31M 50S</td><td>2.530556</td><td>Men's</td><td>other        </td><td>16</td><td>2.503472</td></tr>\n",
       "\t<tr><td>1943</td><td>Gerard Cote                </td><td>Canada       </td><td>2H 28M 25S</td><td>2.473611</td><td>Men's</td><td>other        </td><td>16</td><td>2.503472</td></tr>\n",
       "\t<tr><td>1940</td><td>Gerard Cote                </td><td>Canada       </td><td>2H 28M 28S</td><td>2.474444</td><td>Men's</td><td>other        </td><td>16</td><td>2.503472</td></tr>\n",
       "\t<tr><td>1937</td><td>Walter Young               </td><td>Canada       </td><td>2H 33M 20S</td><td>2.555556</td><td>Men's</td><td>other        </td><td>16</td><td>2.503472</td></tr>\n",
       "\t<tr><td>1934</td><td>Dave Komonen               </td><td>Canada       </td><td>2H 32M 53S</td><td>2.548056</td><td>Men's</td><td>other        </td><td>16</td><td>2.503472</td></tr>\n",
       "\t<tr><td>1929</td><td>John C. Miles              </td><td>Canada       </td><td>2H 33M 8S </td><td>2.552222</td><td>Men's</td><td>other        </td><td>16</td><td>2.503472</td></tr>\n",
       "\t<tr><td>1926</td><td>John C. Miles              </td><td>Canada       </td><td>2H 25M 40S</td><td>2.427778</td><td>Men's</td><td>other        </td><td>16</td><td>2.503472</td></tr>\n",
       "\t<tr><td>1915</td><td>Edouard Fabre              </td><td>Canada       </td><td>2H 31M 41S</td><td>2.528056</td><td>Men's</td><td>other        </td><td>16</td><td>2.503472</td></tr>\n",
       "\t<tr><td>1914</td><td>James Duffy                </td><td>Canada       </td><td>2H 25M 1S </td><td>2.416944</td><td>Men's</td><td>other        </td><td>16</td><td>2.503472</td></tr>\n",
       "\t<tr><td>1910</td><td>Fred L. Cameron            </td><td>Canada       </td><td>2H 28M 52S</td><td>2.481111</td><td>Men's</td><td>other        </td><td>16</td><td>2.503472</td></tr>\n",
       "</tbody>\n",
       "</table>\n"
      ],
      "text/latex": [
       "A grouped_df: 100 × 9\n",
       "\\begin{tabular}{r|lllllllll}\n",
       " year & name & country & time & race.time & MF & country.simple & N.winners & Median\\\\\n",
       " <int> & <fct> & <fct> & <fct> & <dbl> & <fct> & <fct> & <int> & <dbl>\\\\\n",
       "\\hline\n",
       "\t 2019 & Lawrence Cherono          & Kenya    & 2H 7M 57S  & 2.132500 & Men's & Kenya    & 22 & 2.155139\\\\\n",
       "\t 2017 & Geoffrey Kirui            & Kenya    & 2H 9M 37S  & 2.160278 & Men's & Kenya    & 22 & 2.155139\\\\\n",
       "\t 2012 & Wesley Korir              & Kenya    & 2H 12M 40S & 2.211111 & Men's & Kenya    & 22 & 2.155139\\\\\n",
       "\t 2011 & Geoffrey Mutai            & Kenya    & 2H 3M 2S   & 2.050556 & Men's & Kenya    & 22 & 2.155139\\\\\n",
       "\t 2010 & Robert Kiprono Cheruiyot  & Kenya    & 2H 5M 52S  & 2.097778 & Men's & Kenya    & 22 & 2.155139\\\\\n",
       "\t 2008 & Robert Kipkoech Cheruiyot & Kenya    & 2H 7M 46S  & 2.129444 & Men's & Kenya    & 22 & 2.155139\\\\\n",
       "\t 2007 & Robert Kipkoech Cheruiyot & Kenya    & 2H 14M 13S & 2.236944 & Men's & Kenya    & 22 & 2.155139\\\\\n",
       "\t 2006 & Robert Kipkoech Cheruiyot & Kenya    & 2H 7M 14S  & 2.120556 & Men's & Kenya    & 22 & 2.155139\\\\\n",
       "\t 2004 & Timothy Cherigat          & Kenya    & 2H 10M 37S & 2.176944 & Men's & Kenya    & 22 & 2.155139\\\\\n",
       "\t 2003 & Robert Kipkoech Cheruiyot & Kenya    & 2H 10M 11S & 2.169722 & Men's & Kenya    & 22 & 2.155139\\\\\n",
       "\t 2002 & Rodgers Rop               & Kenya    & 2H 9M 2S   & 2.150556 & Men's & Kenya    & 22 & 2.155139\\\\\n",
       "\t 2000 & Elijah Lagat              & Kenya    & 2H 9M 47S  & 2.163056 & Men's & Kenya    & 22 & 2.155139\\\\\n",
       "\t 1999 & Joseph Chebet             & Kenya    & 2H 9M 52S  & 2.164444 & Men's & Kenya    & 22 & 2.155139\\\\\n",
       "\t 1998 & Moses Tanui               & Kenya    & 2H 7M 34S  & 2.126111 & Men's & Kenya    & 22 & 2.155139\\\\\n",
       "\t 1997 & Lameck Aguta              & Kenya    & 2H 10M 34S & 2.176111 & Men's & Kenya    & 22 & 2.155139\\\\\n",
       "\t 1996 & Moses Tanui               & Kenya    & 2H 9M 15S  & 2.154167 & Men's & Kenya    & 22 & 2.155139\\\\\n",
       "\t 1995 & Cosmas Ndeti              & Kenya    & 2H 9M 22S  & 2.156111 & Men's & Kenya    & 22 & 2.155139\\\\\n",
       "\t 1994 & Cosmas Ndeti              & Kenya    & 2H 7M 15S  & 2.120833 & Men's & Kenya    & 22 & 2.155139\\\\\n",
       "\t 1993 & Cosmas Ndeti              & Kenya    & 2H 9M 33S  & 2.159167 & Men's & Kenya    & 22 & 2.155139\\\\\n",
       "\t 1992 & Ibrahim Hussein           & Kenya    & 2H 8M 14S  & 2.137222 & Men's & Kenya    & 22 & 2.155139\\\\\n",
       "\t 1991 & Ibrahim Hussein           & Kenya    & 2H 11M 6S  & 2.185000 & Men's & Kenya    & 22 & 2.155139\\\\\n",
       "\t 1988 & Ibrahim Hussein           & Kenya    & 2H 8M 43S  & 2.145278 & Men's & Kenya    & 22 & 2.155139\\\\\n",
       "\t 2016 & Lemi Berhanu              & Ethiopia & 2H 12M 45S & 2.212500 & Men's & Ethiopia &  6 & 2.163750\\\\\n",
       "\t 2015 & Lelisa Desisa             & Ethiopia & 2H 9M 17S  & 2.154722 & Men's & Ethiopia &  6 & 2.163750\\\\\n",
       "\t 2013 & Lelisa Desisa             & Ethiopia & 2H 10M 22S & 2.172778 & Men's & Ethiopia &  6 & 2.163750\\\\\n",
       "\t 2009 & Deriba Merga              & Ethiopia & 2H 8M 42S  & 2.145000 & Men's & Ethiopia &  6 & 2.163750\\\\\n",
       "\t 2005 & Hailu Negussie            & Ethiopia & 2H 11M 45S & 2.195833 & Men's & Ethiopia &  6 & 2.163750\\\\\n",
       "\t 1989 & Abebe Mekonnen            & Ethiopia & 2H 9M 6S   & 2.151667 & Men's & Ethiopia &  6 & 2.163750\\\\\n",
       "\t 2018 & Yuki Kawauchi             & Japan    & 2H 15M 58S & 2.266111 & Men's & Japan    &  9 & 2.275833\\\\\n",
       "\t 1987 & Toshihiko Seko            & Japan    & 2H 11M 50S & 2.197222 & Men's & Japan    &  9 & 2.275833\\\\\n",
       "\t ⋮ & ⋮ & ⋮ & ⋮ & ⋮ & ⋮ & ⋮ & ⋮ & ⋮\\\\\n",
       "\t 1922 & Clarence H. DeMar           & United States & 2H 18M 10S & 2.302778 & Men's & United States & 44 & 2.478889\\\\\n",
       "\t 1921 & Frank T. Zuna               & United States & 2H 18M 57S & 2.315833 & Men's & United States & 44 & 2.478889\\\\\n",
       "\t 1919 & Carl W. A. Linder           & United States & 2H 29M 13S & 2.486944 & Men's & United States & 44 & 2.478889\\\\\n",
       "\t 1918 & Camp Devens Divisional Team & United States & 2H 24M 53S & 2.414722 & Men's & United States & 44 & 2.478889\\\\\n",
       "\t 1917 & William J. (Bill) Kennedy   & United States & 2H 28M 37S & 2.476944 & Men's & United States & 44 & 2.478889\\\\\n",
       "\t 1916 & Arthur V. Roth              & United States & 2H 27M 16S & 2.454444 & Men's & United States & 44 & 2.478889\\\\\n",
       "\t 1913 & Fritz Carlson               & United States & 2H 25M 14S & 2.420556 & Men's & United States & 44 & 2.478889\\\\\n",
       "\t 1912 & Michael J. Ryan             & United States & 2H 21M 18S & 2.355000 & Men's & United States & 44 & 2.478889\\\\\n",
       "\t 1911 & Clarence H. DeMar           & United States & 2H 21M 39S & 2.360833 & Men's & United States & 44 & 2.478889\\\\\n",
       "\t 1909 & Henri Renaud                & United States & 2H 53M 36S & 2.893333 & Men's & United States & 44 & 2.478889\\\\\n",
       "\t 1908 & Thomas P. Morrissey         & United States & 2H 25M 43S & 2.428611 & Men's & United States & 44 & 2.478889\\\\\n",
       "\t 1906 & Timothy Ford                & United States & 2H 45M 45S & 2.762500 & Men's & United States & 44 & 2.478889\\\\\n",
       "\t 1905 & Frederick Lorz              & United States & 2H 38M 25S & 2.640278 & Men's & United States & 44 & 2.478889\\\\\n",
       "\t 1904 & Michael Spring              & United States & 2H 38M 4S  & 2.634444 & Men's & United States & 44 & 2.478889\\\\\n",
       "\t 1903 & John C. Lorden              & United States & 2H 41M 29S & 2.691389 & Men's & United States & 44 & 2.478889\\\\\n",
       "\t 1902 & Sammy A. Mellor             & United States & 2H 43M 12S & 2.720000 & Men's & United States & 44 & 2.478889\\\\\n",
       "\t 1899 & Lawrence Brignolia          & United States & 2H 54M 38S & 2.910556 & Men's & United States & 44 & 2.478889\\\\\n",
       "\t 1897 & John J. McDermott           & United States & 2H 55M 10S & 2.919444 & Men's & United States & 44 & 2.478889\\\\\n",
       "\t 1977 & Jerome Drayton              & Canada        & 2H 14M 46S & 2.246111 & Men's & other         & 16 & 2.503472\\\\\n",
       "\t 1948 & Gerard Cote                 & Canada        & 2H 31M 2S  & 2.517222 & Men's & other         & 16 & 2.503472\\\\\n",
       "\t 1944 & Gerard Cote                 & Canada        & 2H 31M 50S & 2.530556 & Men's & other         & 16 & 2.503472\\\\\n",
       "\t 1943 & Gerard Cote                 & Canada        & 2H 28M 25S & 2.473611 & Men's & other         & 16 & 2.503472\\\\\n",
       "\t 1940 & Gerard Cote                 & Canada        & 2H 28M 28S & 2.474444 & Men's & other         & 16 & 2.503472\\\\\n",
       "\t 1937 & Walter Young                & Canada        & 2H 33M 20S & 2.555556 & Men's & other         & 16 & 2.503472\\\\\n",
       "\t 1934 & Dave Komonen                & Canada        & 2H 32M 53S & 2.548056 & Men's & other         & 16 & 2.503472\\\\\n",
       "\t 1929 & John C. Miles               & Canada        & 2H 33M 8S  & 2.552222 & Men's & other         & 16 & 2.503472\\\\\n",
       "\t 1926 & John C. Miles               & Canada        & 2H 25M 40S & 2.427778 & Men's & other         & 16 & 2.503472\\\\\n",
       "\t 1915 & Edouard Fabre               & Canada        & 2H 31M 41S & 2.528056 & Men's & other         & 16 & 2.503472\\\\\n",
       "\t 1914 & James Duffy                 & Canada        & 2H 25M 1S  & 2.416944 & Men's & other         & 16 & 2.503472\\\\\n",
       "\t 1910 & Fred L. Cameron             & Canada        & 2H 28M 52S & 2.481111 & Men's & other         & 16 & 2.503472\\\\\n",
       "\\end{tabular}\n"
      ],
      "text/markdown": [
       "\n",
       "A grouped_df: 100 × 9\n",
       "\n",
       "| year &lt;int&gt; | name &lt;fct&gt; | country &lt;fct&gt; | time &lt;fct&gt; | race.time &lt;dbl&gt; | MF &lt;fct&gt; | country.simple &lt;fct&gt; | N.winners &lt;int&gt; | Median &lt;dbl&gt; |\n",
       "|---|---|---|---|---|---|---|---|---|\n",
       "| 2019 | Lawrence Cherono          | Kenya    | 2H 7M 57S  | 2.132500 | Men's | Kenya    | 22 | 2.155139 |\n",
       "| 2017 | Geoffrey Kirui            | Kenya    | 2H 9M 37S  | 2.160278 | Men's | Kenya    | 22 | 2.155139 |\n",
       "| 2012 | Wesley Korir              | Kenya    | 2H 12M 40S | 2.211111 | Men's | Kenya    | 22 | 2.155139 |\n",
       "| 2011 | Geoffrey Mutai            | Kenya    | 2H 3M 2S   | 2.050556 | Men's | Kenya    | 22 | 2.155139 |\n",
       "| 2010 | Robert Kiprono Cheruiyot  | Kenya    | 2H 5M 52S  | 2.097778 | Men's | Kenya    | 22 | 2.155139 |\n",
       "| 2008 | Robert Kipkoech Cheruiyot | Kenya    | 2H 7M 46S  | 2.129444 | Men's | Kenya    | 22 | 2.155139 |\n",
       "| 2007 | Robert Kipkoech Cheruiyot | Kenya    | 2H 14M 13S | 2.236944 | Men's | Kenya    | 22 | 2.155139 |\n",
       "| 2006 | Robert Kipkoech Cheruiyot | Kenya    | 2H 7M 14S  | 2.120556 | Men's | Kenya    | 22 | 2.155139 |\n",
       "| 2004 | Timothy Cherigat          | Kenya    | 2H 10M 37S | 2.176944 | Men's | Kenya    | 22 | 2.155139 |\n",
       "| 2003 | Robert Kipkoech Cheruiyot | Kenya    | 2H 10M 11S | 2.169722 | Men's | Kenya    | 22 | 2.155139 |\n",
       "| 2002 | Rodgers Rop               | Kenya    | 2H 9M 2S   | 2.150556 | Men's | Kenya    | 22 | 2.155139 |\n",
       "| 2000 | Elijah Lagat              | Kenya    | 2H 9M 47S  | 2.163056 | Men's | Kenya    | 22 | 2.155139 |\n",
       "| 1999 | Joseph Chebet             | Kenya    | 2H 9M 52S  | 2.164444 | Men's | Kenya    | 22 | 2.155139 |\n",
       "| 1998 | Moses Tanui               | Kenya    | 2H 7M 34S  | 2.126111 | Men's | Kenya    | 22 | 2.155139 |\n",
       "| 1997 | Lameck Aguta              | Kenya    | 2H 10M 34S | 2.176111 | Men's | Kenya    | 22 | 2.155139 |\n",
       "| 1996 | Moses Tanui               | Kenya    | 2H 9M 15S  | 2.154167 | Men's | Kenya    | 22 | 2.155139 |\n",
       "| 1995 | Cosmas Ndeti              | Kenya    | 2H 9M 22S  | 2.156111 | Men's | Kenya    | 22 | 2.155139 |\n",
       "| 1994 | Cosmas Ndeti              | Kenya    | 2H 7M 15S  | 2.120833 | Men's | Kenya    | 22 | 2.155139 |\n",
       "| 1993 | Cosmas Ndeti              | Kenya    | 2H 9M 33S  | 2.159167 | Men's | Kenya    | 22 | 2.155139 |\n",
       "| 1992 | Ibrahim Hussein           | Kenya    | 2H 8M 14S  | 2.137222 | Men's | Kenya    | 22 | 2.155139 |\n",
       "| 1991 | Ibrahim Hussein           | Kenya    | 2H 11M 6S  | 2.185000 | Men's | Kenya    | 22 | 2.155139 |\n",
       "| 1988 | Ibrahim Hussein           | Kenya    | 2H 8M 43S  | 2.145278 | Men's | Kenya    | 22 | 2.155139 |\n",
       "| 2016 | Lemi Berhanu              | Ethiopia | 2H 12M 45S | 2.212500 | Men's | Ethiopia |  6 | 2.163750 |\n",
       "| 2015 | Lelisa Desisa             | Ethiopia | 2H 9M 17S  | 2.154722 | Men's | Ethiopia |  6 | 2.163750 |\n",
       "| 2013 | Lelisa Desisa             | Ethiopia | 2H 10M 22S | 2.172778 | Men's | Ethiopia |  6 | 2.163750 |\n",
       "| 2009 | Deriba Merga              | Ethiopia | 2H 8M 42S  | 2.145000 | Men's | Ethiopia |  6 | 2.163750 |\n",
       "| 2005 | Hailu Negussie            | Ethiopia | 2H 11M 45S | 2.195833 | Men's | Ethiopia |  6 | 2.163750 |\n",
       "| 1989 | Abebe Mekonnen            | Ethiopia | 2H 9M 6S   | 2.151667 | Men's | Ethiopia |  6 | 2.163750 |\n",
       "| 2018 | Yuki Kawauchi             | Japan    | 2H 15M 58S | 2.266111 | Men's | Japan    |  9 | 2.275833 |\n",
       "| 1987 | Toshihiko Seko            | Japan    | 2H 11M 50S | 2.197222 | Men's | Japan    |  9 | 2.275833 |\n",
       "| ⋮ | ⋮ | ⋮ | ⋮ | ⋮ | ⋮ | ⋮ | ⋮ | ⋮ |\n",
       "| 1922 | Clarence H. DeMar           | United States | 2H 18M 10S | 2.302778 | Men's | United States | 44 | 2.478889 |\n",
       "| 1921 | Frank T. Zuna               | United States | 2H 18M 57S | 2.315833 | Men's | United States | 44 | 2.478889 |\n",
       "| 1919 | Carl W. A. Linder           | United States | 2H 29M 13S | 2.486944 | Men's | United States | 44 | 2.478889 |\n",
       "| 1918 | Camp Devens Divisional Team | United States | 2H 24M 53S | 2.414722 | Men's | United States | 44 | 2.478889 |\n",
       "| 1917 | William J. (Bill) Kennedy   | United States | 2H 28M 37S | 2.476944 | Men's | United States | 44 | 2.478889 |\n",
       "| 1916 | Arthur V. Roth              | United States | 2H 27M 16S | 2.454444 | Men's | United States | 44 | 2.478889 |\n",
       "| 1913 | Fritz Carlson               | United States | 2H 25M 14S | 2.420556 | Men's | United States | 44 | 2.478889 |\n",
       "| 1912 | Michael J. Ryan             | United States | 2H 21M 18S | 2.355000 | Men's | United States | 44 | 2.478889 |\n",
       "| 1911 | Clarence H. DeMar           | United States | 2H 21M 39S | 2.360833 | Men's | United States | 44 | 2.478889 |\n",
       "| 1909 | Henri Renaud                | United States | 2H 53M 36S | 2.893333 | Men's | United States | 44 | 2.478889 |\n",
       "| 1908 | Thomas P. Morrissey         | United States | 2H 25M 43S | 2.428611 | Men's | United States | 44 | 2.478889 |\n",
       "| 1906 | Timothy Ford                | United States | 2H 45M 45S | 2.762500 | Men's | United States | 44 | 2.478889 |\n",
       "| 1905 | Frederick Lorz              | United States | 2H 38M 25S | 2.640278 | Men's | United States | 44 | 2.478889 |\n",
       "| 1904 | Michael Spring              | United States | 2H 38M 4S  | 2.634444 | Men's | United States | 44 | 2.478889 |\n",
       "| 1903 | John C. Lorden              | United States | 2H 41M 29S | 2.691389 | Men's | United States | 44 | 2.478889 |\n",
       "| 1902 | Sammy A. Mellor             | United States | 2H 43M 12S | 2.720000 | Men's | United States | 44 | 2.478889 |\n",
       "| 1899 | Lawrence Brignolia          | United States | 2H 54M 38S | 2.910556 | Men's | United States | 44 | 2.478889 |\n",
       "| 1897 | John J. McDermott           | United States | 2H 55M 10S | 2.919444 | Men's | United States | 44 | 2.478889 |\n",
       "| 1977 | Jerome Drayton              | Canada        | 2H 14M 46S | 2.246111 | Men's | other         | 16 | 2.503472 |\n",
       "| 1948 | Gerard Cote                 | Canada        | 2H 31M 2S  | 2.517222 | Men's | other         | 16 | 2.503472 |\n",
       "| 1944 | Gerard Cote                 | Canada        | 2H 31M 50S | 2.530556 | Men's | other         | 16 | 2.503472 |\n",
       "| 1943 | Gerard Cote                 | Canada        | 2H 28M 25S | 2.473611 | Men's | other         | 16 | 2.503472 |\n",
       "| 1940 | Gerard Cote                 | Canada        | 2H 28M 28S | 2.474444 | Men's | other         | 16 | 2.503472 |\n",
       "| 1937 | Walter Young                | Canada        | 2H 33M 20S | 2.555556 | Men's | other         | 16 | 2.503472 |\n",
       "| 1934 | Dave Komonen                | Canada        | 2H 32M 53S | 2.548056 | Men's | other         | 16 | 2.503472 |\n",
       "| 1929 | John C. Miles               | Canada        | 2H 33M 8S  | 2.552222 | Men's | other         | 16 | 2.503472 |\n",
       "| 1926 | John C. Miles               | Canada        | 2H 25M 40S | 2.427778 | Men's | other         | 16 | 2.503472 |\n",
       "| 1915 | Edouard Fabre               | Canada        | 2H 31M 41S | 2.528056 | Men's | other         | 16 | 2.503472 |\n",
       "| 1914 | James Duffy                 | Canada        | 2H 25M 1S  | 2.416944 | Men's | other         | 16 | 2.503472 |\n",
       "| 1910 | Fred L. Cameron             | Canada        | 2H 28M 52S | 2.481111 | Men's | other         | 16 | 2.503472 |\n",
       "\n"
      ],
      "text/plain": [
       "    year name                        country       time       race.time MF   \n",
       "1   2019 Lawrence Cherono            Kenya         2H 7M 57S  2.132500  Men's\n",
       "2   2017 Geoffrey Kirui              Kenya         2H 9M 37S  2.160278  Men's\n",
       "3   2012 Wesley Korir                Kenya         2H 12M 40S 2.211111  Men's\n",
       "4   2011 Geoffrey Mutai              Kenya         2H 3M 2S   2.050556  Men's\n",
       "5   2010 Robert Kiprono Cheruiyot    Kenya         2H 5M 52S  2.097778  Men's\n",
       "6   2008 Robert Kipkoech Cheruiyot   Kenya         2H 7M 46S  2.129444  Men's\n",
       "7   2007 Robert Kipkoech Cheruiyot   Kenya         2H 14M 13S 2.236944  Men's\n",
       "8   2006 Robert Kipkoech Cheruiyot   Kenya         2H 7M 14S  2.120556  Men's\n",
       "9   2004 Timothy Cherigat            Kenya         2H 10M 37S 2.176944  Men's\n",
       "10  2003 Robert Kipkoech Cheruiyot   Kenya         2H 10M 11S 2.169722  Men's\n",
       "11  2002 Rodgers Rop                 Kenya         2H 9M 2S   2.150556  Men's\n",
       "12  2000 Elijah Lagat                Kenya         2H 9M 47S  2.163056  Men's\n",
       "13  1999 Joseph Chebet               Kenya         2H 9M 52S  2.164444  Men's\n",
       "14  1998 Moses Tanui                 Kenya         2H 7M 34S  2.126111  Men's\n",
       "15  1997 Lameck Aguta                Kenya         2H 10M 34S 2.176111  Men's\n",
       "16  1996 Moses Tanui                 Kenya         2H 9M 15S  2.154167  Men's\n",
       "17  1995 Cosmas Ndeti                Kenya         2H 9M 22S  2.156111  Men's\n",
       "18  1994 Cosmas Ndeti                Kenya         2H 7M 15S  2.120833  Men's\n",
       "19  1993 Cosmas Ndeti                Kenya         2H 9M 33S  2.159167  Men's\n",
       "20  1992 Ibrahim Hussein             Kenya         2H 8M 14S  2.137222  Men's\n",
       "21  1991 Ibrahim Hussein             Kenya         2H 11M 6S  2.185000  Men's\n",
       "22  1988 Ibrahim Hussein             Kenya         2H 8M 43S  2.145278  Men's\n",
       "23  2016 Lemi Berhanu                Ethiopia      2H 12M 45S 2.212500  Men's\n",
       "24  2015 Lelisa Desisa               Ethiopia      2H 9M 17S  2.154722  Men's\n",
       "25  2013 Lelisa Desisa               Ethiopia      2H 10M 22S 2.172778  Men's\n",
       "26  2009 Deriba Merga                Ethiopia      2H 8M 42S  2.145000  Men's\n",
       "27  2005 Hailu Negussie              Ethiopia      2H 11M 45S 2.195833  Men's\n",
       "28  1989 Abebe Mekonnen              Ethiopia      2H 9M 6S   2.151667  Men's\n",
       "29  2018 Yuki Kawauchi               Japan         2H 15M 58S 2.266111  Men's\n",
       "30  1987 Toshihiko Seko              Japan         2H 11M 50S 2.197222  Men's\n",
       "⋮   ⋮    ⋮                           ⋮             ⋮          ⋮         ⋮    \n",
       "71  1922 Clarence H. DeMar           United States 2H 18M 10S 2.302778  Men's\n",
       "72  1921 Frank T. Zuna               United States 2H 18M 57S 2.315833  Men's\n",
       "73  1919 Carl W. A. Linder           United States 2H 29M 13S 2.486944  Men's\n",
       "74  1918 Camp Devens Divisional Team United States 2H 24M 53S 2.414722  Men's\n",
       "75  1917 William J. (Bill) Kennedy   United States 2H 28M 37S 2.476944  Men's\n",
       "76  1916 Arthur V. Roth              United States 2H 27M 16S 2.454444  Men's\n",
       "77  1913 Fritz Carlson               United States 2H 25M 14S 2.420556  Men's\n",
       "78  1912 Michael J. Ryan             United States 2H 21M 18S 2.355000  Men's\n",
       "79  1911 Clarence H. DeMar           United States 2H 21M 39S 2.360833  Men's\n",
       "80  1909 Henri Renaud                United States 2H 53M 36S 2.893333  Men's\n",
       "81  1908 Thomas P. Morrissey         United States 2H 25M 43S 2.428611  Men's\n",
       "82  1906 Timothy Ford                United States 2H 45M 45S 2.762500  Men's\n",
       "83  1905 Frederick Lorz              United States 2H 38M 25S 2.640278  Men's\n",
       "84  1904 Michael Spring              United States 2H 38M 4S  2.634444  Men's\n",
       "85  1903 John C. Lorden              United States 2H 41M 29S 2.691389  Men's\n",
       "86  1902 Sammy A. Mellor             United States 2H 43M 12S 2.720000  Men's\n",
       "87  1899 Lawrence Brignolia          United States 2H 54M 38S 2.910556  Men's\n",
       "88  1897 John J. McDermott           United States 2H 55M 10S 2.919444  Men's\n",
       "89  1977 Jerome Drayton              Canada        2H 14M 46S 2.246111  Men's\n",
       "90  1948 Gerard Cote                 Canada        2H 31M 2S  2.517222  Men's\n",
       "91  1944 Gerard Cote                 Canada        2H 31M 50S 2.530556  Men's\n",
       "92  1943 Gerard Cote                 Canada        2H 28M 25S 2.473611  Men's\n",
       "93  1940 Gerard Cote                 Canada        2H 28M 28S 2.474444  Men's\n",
       "94  1937 Walter Young                Canada        2H 33M 20S 2.555556  Men's\n",
       "95  1934 Dave Komonen                Canada        2H 32M 53S 2.548056  Men's\n",
       "96  1929 John C. Miles               Canada        2H 33M 8S  2.552222  Men's\n",
       "97  1926 John C. Miles               Canada        2H 25M 40S 2.427778  Men's\n",
       "98  1915 Edouard Fabre               Canada        2H 31M 41S 2.528056  Men's\n",
       "99  1914 James Duffy                 Canada        2H 25M 1S  2.416944  Men's\n",
       "100 1910 Fred L. Cameron             Canada        2H 28M 52S 2.481111  Men's\n",
       "    country.simple N.winners Median  \n",
       "1   Kenya          22        2.155139\n",
       "2   Kenya          22        2.155139\n",
       "3   Kenya          22        2.155139\n",
       "4   Kenya          22        2.155139\n",
       "5   Kenya          22        2.155139\n",
       "6   Kenya          22        2.155139\n",
       "7   Kenya          22        2.155139\n",
       "8   Kenya          22        2.155139\n",
       "9   Kenya          22        2.155139\n",
       "10  Kenya          22        2.155139\n",
       "11  Kenya          22        2.155139\n",
       "12  Kenya          22        2.155139\n",
       "13  Kenya          22        2.155139\n",
       "14  Kenya          22        2.155139\n",
       "15  Kenya          22        2.155139\n",
       "16  Kenya          22        2.155139\n",
       "17  Kenya          22        2.155139\n",
       "18  Kenya          22        2.155139\n",
       "19  Kenya          22        2.155139\n",
       "20  Kenya          22        2.155139\n",
       "21  Kenya          22        2.155139\n",
       "22  Kenya          22        2.155139\n",
       "23  Ethiopia        6        2.163750\n",
       "24  Ethiopia        6        2.163750\n",
       "25  Ethiopia        6        2.163750\n",
       "26  Ethiopia        6        2.163750\n",
       "27  Ethiopia        6        2.163750\n",
       "28  Ethiopia        6        2.163750\n",
       "29  Japan           9        2.275833\n",
       "30  Japan           9        2.275833\n",
       "⋮   ⋮              ⋮         ⋮       \n",
       "71  United States  44        2.478889\n",
       "72  United States  44        2.478889\n",
       "73  United States  44        2.478889\n",
       "74  United States  44        2.478889\n",
       "75  United States  44        2.478889\n",
       "76  United States  44        2.478889\n",
       "77  United States  44        2.478889\n",
       "78  United States  44        2.478889\n",
       "79  United States  44        2.478889\n",
       "80  United States  44        2.478889\n",
       "81  United States  44        2.478889\n",
       "82  United States  44        2.478889\n",
       "83  United States  44        2.478889\n",
       "84  United States  44        2.478889\n",
       "85  United States  44        2.478889\n",
       "86  United States  44        2.478889\n",
       "87  United States  44        2.478889\n",
       "88  United States  44        2.478889\n",
       "89  other          16        2.503472\n",
       "90  other          16        2.503472\n",
       "91  other          16        2.503472\n",
       "92  other          16        2.503472\n",
       "93  other          16        2.503472\n",
       "94  other          16        2.503472\n",
       "95  other          16        2.503472\n",
       "96  other          16        2.503472\n",
       "97  other          16        2.503472\n",
       "98  other          16        2.503472\n",
       "99  other          16        2.503472\n",
       "100 other          16        2.503472"
      ]
     },
     "metadata": {},
     "output_type": "display_data"
    }
   ],
   "source": [
    "# This should get you started. It adds a column \"N.winners\" that represents the\n",
    "# total winners from the runner's country.\n",
    "\n",
    "df.marathon %>%\n",
    "    filter(MF == \"Men's\") %>%\n",
    "    group_by(country) %>%\n",
    "    mutate(N.winners = n(), Median = median(race.time)) %>% \n",
    "    filter(N.winners >= 5) %>%\n",
    "    arrange(Median) %>%\n",
    "    head(100)\n",
    "\n",
    "# Kenya has best median time!"
   ]
  }
 ],
 "metadata": {
  "kernelspec": {
   "display_name": "R",
   "language": "R",
   "name": "ir"
  },
  "language_info": {
   "codemirror_mode": "r",
   "file_extension": ".r",
   "mimetype": "text/x-r-source",
   "name": "R",
   "pygments_lexer": "r",
   "version": "3.6.0"
  }
 },
 "nbformat": 4,
 "nbformat_minor": 4
}
