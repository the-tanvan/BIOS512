{
 "cells": [
  {
   "cell_type": "markdown",
   "metadata": {},
   "source": [
    "# Markdown Documentation"
   ]
  },
  {
   "cell_type": "markdown",
   "metadata": {},
   "source": [
    "## Creating titles\n",
    "\n",
    "To create a title, use a `#`. More `#` means smaller title.\n",
    "\n",
    "# Example\n",
    "## Example\n",
    "### Example"
   ]
  },
  {
   "cell_type": "markdown",
   "metadata": {},
   "source": [
    "## Line breaks\n",
    "\n",
    "When writing text, inserting a line break in your text will not\n",
    "insert a line break in the output.\n",
    "\n",
    "You need to put an entire\n",
    "\n",
    "blank\n",
    "\n",
    "line\n",
    "\n",
    "for a paragraph break to appear."
   ]
  },
  {
   "cell_type": "markdown",
   "metadata": {},
   "source": [
    "## Different ways to style text\n",
    "\n",
    "Use `**` or `~~` for **bolding**.\n",
    "\n",
    "Use `*` or `_` for _italics_.\n",
    "\n",
    "Use `` for blockquotes.\n",
    "\n",
    "Note: These markings need to be directly adjacent to text to be effective. * Spacing * them out does not change the text's style."
   ]
  },
  {
   "cell_type": "markdown",
   "metadata": {},
   "source": [
    "## Hyperlinking\n",
    "\n",
    "Your display text goes in `[]` and the URL in `()`\n",
    "\n",
    "\n",
    "[Example](https://google.com)"
   ]
  },
  {
   "cell_type": "markdown",
   "metadata": {},
   "source": [
    "## Lists\n",
    "\n",
    "1. Numbered lists\n",
    "1. automatically change\n",
    "1. if you just put a `1.`\n",
    "  1. Indent with a double space\n",
    "\n",
    "\n",
    "* Bulleted lists\n",
    "* Use stars\n",
    "  * Oh look, an indent!"
   ]
  }
 ],
 "metadata": {
  "kernelspec": {
   "display_name": "R",
   "language": "R",
   "name": "ir"
  },
  "language_info": {
   "codemirror_mode": "r",
   "file_extension": ".r",
   "mimetype": "text/x-r-source",
   "name": "R",
   "pygments_lexer": "r",
   "version": "3.6.0"
  }
 },
 "nbformat": 4,
 "nbformat_minor": 2
}
