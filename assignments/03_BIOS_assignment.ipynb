{
 "cells": [
  {
   "cell_type": "markdown",
   "metadata": {},
   "source": [
    "We are going to re-create a FiveThirtyEight analysis for this assignment."
   ]
  },
  {
   "cell_type": "markdown",
   "metadata": {},
   "source": [
    "The data can be found here:  \n",
    "\n",
    "[https://github.com/fivethirtyeight/data/blob/master/bob-ross/elements-by-episode.csv](https://github.com/fivethirtyeight/data/blob/master/bob-ross/elements-by-episode.csv)"
   ]
  },
  {
   "cell_type": "markdown",
   "metadata": {},
   "source": [
    "Using the data, re-create this figure from the article:\n",
    "\n",
    "<img src=\"https://fivethirtyeight.com/wp-content/uploads/2014/04/hickey-ross-tags-1.png\" style=\"width: 500px\" />"
   ]
  },
  {
   "cell_type": "markdown",
   "metadata": {},
   "source": [
    "In your version of this figure,\n",
    "\n",
    "1. **Don't worry about using the variable names exactly as in the article (_i.e._ just use the column names from the original data).**\n",
    "1. **Plot counts instead of percentages.**\n",
    "1. **Only show the top ten categories by count and group the remaining categories into a category named 'Other'.** "
   ]
  }
 ],
 "metadata": {
  "kernelspec": {
   "display_name": "R",
   "language": "R",
   "name": "ir"
  },
  "language_info": {
   "codemirror_mode": "r",
   "file_extension": ".r",
   "mimetype": "text/x-r-source",
   "name": "R",
   "pygments_lexer": "r",
   "version": "3.6.0"
  }
 },
 "nbformat": 4,
 "nbformat_minor": 4
}
