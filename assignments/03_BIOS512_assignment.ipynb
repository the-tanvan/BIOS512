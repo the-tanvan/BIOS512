{
 "cells": [
  {
   "cell_type": "markdown",
   "metadata": {},
   "source": [
    "We are going to re-create a FiveThirtyEight analysis for this assignment."
   ]
  },
  {
   "cell_type": "markdown",
   "metadata": {},
   "source": [
    "The data can be found here:  \n",
    "\n",
    "[https://github.com/fivethirtyeight/data/blob/master/bob-ross/elements-by-episode.csv](https://github.com/fivethirtyeight/data/blob/master/bob-ross/elements-by-episode.csv)"
   ]
  },
  {
   "cell_type": "markdown",
   "metadata": {},
   "source": [
    "Using the data, re-create this figure from the article:\n",
    "\n",
    "<img src=\"https://fivethirtyeight.com/wp-content/uploads/2014/04/hickey-ross-tags-1.png\" style=\"width: 500px\" />"
   ]
  },
  {
   "cell_type": "markdown",
   "metadata": {},
   "source": [
    "In your version of this figure,\n",
    "\n",
    "1. **Don't worry about using the variable names exactly as in the article (_i.e._ just use the column names from the original data).**\n",
    "1. **Plot counts instead of percentages.**\n",
    "1. **Only show the top ten categories by count and group the remaining categories into a category named 'Other'.** "
   ]
  },
  {
   "cell_type": "code",
   "execution_count": 1,
   "metadata": {},
   "outputs": [
    {
     "name": "stderr",
     "output_type": "stream",
     "text": [
      "── \u001b[1mAttaching packages\u001b[22m ─────────────────────────────────────── tidyverse 1.2.1 ──\n",
      "\n",
      "\u001b[32m✔\u001b[39m \u001b[34mggplot2\u001b[39m 3.2.0          \u001b[32m✔\u001b[39m \u001b[34mpurrr  \u001b[39m 0.3.2     \n",
      "\u001b[32m✔\u001b[39m \u001b[34mtibble \u001b[39m 2.1.3          \u001b[32m✔\u001b[39m \u001b[34mdplyr  \u001b[39m 0.8.3     \n",
      "\u001b[32m✔\u001b[39m \u001b[34mtidyr  \u001b[39m 1.0.0.\u001b[31m9000\u001b[39m     \u001b[32m✔\u001b[39m \u001b[34mstringr\u001b[39m 1.4.0     \n",
      "\u001b[32m✔\u001b[39m \u001b[34mreadr  \u001b[39m 1.3.1          \u001b[32m✔\u001b[39m \u001b[34mforcats\u001b[39m 0.4.0     \n",
      "\n",
      "── \u001b[1mConflicts\u001b[22m ────────────────────────────────────────── tidyverse_conflicts() ──\n",
      "\u001b[31m✖\u001b[39m \u001b[34mdplyr\u001b[39m::\u001b[32mfilter()\u001b[39m masks \u001b[34mstats\u001b[39m::filter()\n",
      "\u001b[31m✖\u001b[39m \u001b[34mdplyr\u001b[39m::\u001b[32mlag()\u001b[39m    masks \u001b[34mstats\u001b[39m::lag()\n",
      "\n"
     ]
    }
   ],
   "source": [
    "library('tidyverse')"
   ]
  },
  {
   "cell_type": "code",
   "execution_count": 2,
   "metadata": {},
   "outputs": [
    {
     "name": "stderr",
     "output_type": "stream",
     "text": [
      "Parsed with column specification:\n",
      "cols(\n",
      "  .default = col_double(),\n",
      "  EPISODE = \u001b[31mcol_character()\u001b[39m,\n",
      "  TITLE = \u001b[31mcol_character()\u001b[39m\n",
      ")\n",
      "\n",
      "See spec(...) for full column specifications.\n",
      "\n"
     ]
    },
    {
     "data": {
      "text/html": [
       "<table>\n",
       "<caption>A tibble: 5 × 69</caption>\n",
       "<thead>\n",
       "\t<tr><th scope=col>EPISODE</th><th scope=col>TITLE</th><th scope=col>APPLE_FRAME</th><th scope=col>AURORA_BOREALIS</th><th scope=col>BARN</th><th scope=col>BEACH</th><th scope=col>BOAT</th><th scope=col>BRIDGE</th><th scope=col>BUILDING</th><th scope=col>BUSHES</th><th scope=col>⋯</th><th scope=col>TOMB_FRAME</th><th scope=col>TREE</th><th scope=col>TREES</th><th scope=col>TRIPLE_FRAME</th><th scope=col>WATERFALL</th><th scope=col>WAVES</th><th scope=col>WINDMILL</th><th scope=col>WINDOW_FRAME</th><th scope=col>WINTER</th><th scope=col>WOOD_FRAMED</th></tr>\n",
       "\t<tr><th scope=col>&lt;chr&gt;</th><th scope=col>&lt;chr&gt;</th><th scope=col>&lt;dbl&gt;</th><th scope=col>&lt;dbl&gt;</th><th scope=col>&lt;dbl&gt;</th><th scope=col>&lt;dbl&gt;</th><th scope=col>&lt;dbl&gt;</th><th scope=col>&lt;dbl&gt;</th><th scope=col>&lt;dbl&gt;</th><th scope=col>&lt;dbl&gt;</th><th scope=col>⋯</th><th scope=col>&lt;dbl&gt;</th><th scope=col>&lt;dbl&gt;</th><th scope=col>&lt;dbl&gt;</th><th scope=col>&lt;dbl&gt;</th><th scope=col>&lt;dbl&gt;</th><th scope=col>&lt;dbl&gt;</th><th scope=col>&lt;dbl&gt;</th><th scope=col>&lt;dbl&gt;</th><th scope=col>&lt;dbl&gt;</th><th scope=col>&lt;dbl&gt;</th></tr>\n",
       "</thead>\n",
       "<tbody>\n",
       "\t<tr><td>S01E01</td><td>\"A WALK IN THE WOODS\"</td><td>0</td><td>0</td><td>0</td><td>0</td><td>0</td><td>0</td><td>0</td><td>1</td><td>⋯</td><td>0</td><td>1</td><td>1</td><td>0</td><td>0</td><td>0</td><td>0</td><td>0</td><td>0</td><td>0</td></tr>\n",
       "\t<tr><td>S01E02</td><td>\"MT. MCKINLEY\"       </td><td>0</td><td>0</td><td>0</td><td>0</td><td>0</td><td>0</td><td>0</td><td>0</td><td>⋯</td><td>0</td><td>1</td><td>1</td><td>0</td><td>0</td><td>0</td><td>0</td><td>0</td><td>1</td><td>0</td></tr>\n",
       "\t<tr><td>S01E03</td><td>\"EBONY SUNSET\"       </td><td>0</td><td>0</td><td>0</td><td>0</td><td>0</td><td>0</td><td>0</td><td>0</td><td>⋯</td><td>0</td><td>1</td><td>1</td><td>0</td><td>0</td><td>0</td><td>0</td><td>0</td><td>1</td><td>0</td></tr>\n",
       "\t<tr><td>S01E04</td><td>\"WINTER MIST\"        </td><td>0</td><td>0</td><td>0</td><td>0</td><td>0</td><td>0</td><td>0</td><td>1</td><td>⋯</td><td>0</td><td>1</td><td>1</td><td>0</td><td>0</td><td>0</td><td>0</td><td>0</td><td>0</td><td>0</td></tr>\n",
       "\t<tr><td>S01E05</td><td>\"QUIET STREAM\"       </td><td>0</td><td>0</td><td>0</td><td>0</td><td>0</td><td>0</td><td>0</td><td>0</td><td>⋯</td><td>0</td><td>1</td><td>1</td><td>0</td><td>0</td><td>0</td><td>0</td><td>0</td><td>0</td><td>0</td></tr>\n",
       "</tbody>\n",
       "</table>\n"
      ],
      "text/latex": [
       "A tibble: 5 × 69\n",
       "\\begin{tabular}{r|lllllllllllllllllllllllllllllllllllllllllllllllllllllllllllllllllllll}\n",
       " EPISODE & TITLE & APPLE\\_FRAME & AURORA\\_BOREALIS & BARN & BEACH & BOAT & BRIDGE & BUILDING & BUSHES & CABIN & CACTUS & CIRCLE\\_FRAME & CIRRUS & CLIFF & CLOUDS & CONIFER & CUMULUS & DECIDUOUS & DIANE\\_ANDRE & DOCK & DOUBLE\\_OVAL\\_FRAME & FARM & FENCE & FIRE & FLORIDA\\_FRAME & FLOWERS & FOG & FRAMED & GRASS & GUEST & HALF\\_CIRCLE\\_FRAME & HALF\\_OVAL\\_FRAME & HILLS & LAKE & LAKES & LIGHTHOUSE & MILL & MOON & MOUNTAIN & MOUNTAINS & NIGHT & OCEAN & OVAL\\_FRAME & PALM\\_TREES & PATH & PERSON & PORTRAIT & RECTANGLE\\_3D\\_FRAME & RECTANGULAR\\_FRAME & RIVER & ROCKS & SEASHELL\\_FRAME & SNOW & SNOWY\\_MOUNTAIN & SPLIT\\_FRAME & STEVE\\_ROSS & STRUCTURE & SUN & TOMB\\_FRAME & TREE & TREES & TRIPLE\\_FRAME & WATERFALL & WAVES & WINDMILL & WINDOW\\_FRAME & WINTER & WOOD\\_FRAMED\\\\\n",
       " <chr> & <chr> & <dbl> & <dbl> & <dbl> & <dbl> & <dbl> & <dbl> & <dbl> & <dbl> & <dbl> & <dbl> & <dbl> & <dbl> & <dbl> & <dbl> & <dbl> & <dbl> & <dbl> & <dbl> & <dbl> & <dbl> & <dbl> & <dbl> & <dbl> & <dbl> & <dbl> & <dbl> & <dbl> & <dbl> & <dbl> & <dbl> & <dbl> & <dbl> & <dbl> & <dbl> & <dbl> & <dbl> & <dbl> & <dbl> & <dbl> & <dbl> & <dbl> & <dbl> & <dbl> & <dbl> & <dbl> & <dbl> & <dbl> & <dbl> & <dbl> & <dbl> & <dbl> & <dbl> & <dbl> & <dbl> & <dbl> & <dbl> & <dbl> & <dbl> & <dbl> & <dbl> & <dbl> & <dbl> & <dbl> & <dbl> & <dbl> & <dbl> & <dbl>\\\\\n",
       "\\hline\n",
       "\t S01E01 & \"A WALK IN THE WOODS\" & 0 & 0 & 0 & 0 & 0 & 0 & 0 & 1 & 0 & 0 & 0 & 0 & 0 & 0 & 0 & 0 & 1 & 0 & 0 & 0 & 0 & 0 & 0 & 0 & 0 & 0 & 0 & 1 & 0 & 0 & 0 & 0 & 0 & 0 & 0 & 0 & 0 & 0 & 0 & 0 & 0 & 0 & 0 & 0 & 0 & 0 & 0 & 0 & 1 & 0 & 0 & 0 & 0 & 0 & 0 & 0 & 0 & 0 & 1 & 1 & 0 & 0 & 0 & 0 & 0 & 0 & 0\\\\\n",
       "\t S01E02 & \"MT. MCKINLEY\"        & 0 & 0 & 0 & 0 & 0 & 0 & 0 & 0 & 1 & 0 & 0 & 0 & 0 & 1 & 1 & 0 & 0 & 0 & 0 & 0 & 0 & 0 & 0 & 0 & 0 & 0 & 0 & 0 & 0 & 0 & 0 & 0 & 0 & 0 & 0 & 0 & 0 & 1 & 0 & 0 & 0 & 0 & 0 & 0 & 0 & 0 & 0 & 0 & 0 & 0 & 0 & 1 & 1 & 0 & 0 & 0 & 0 & 0 & 1 & 1 & 0 & 0 & 0 & 0 & 0 & 1 & 0\\\\\n",
       "\t S01E03 & \"EBONY SUNSET\"        & 0 & 0 & 0 & 0 & 0 & 0 & 0 & 0 & 1 & 0 & 0 & 0 & 0 & 0 & 1 & 0 & 0 & 0 & 0 & 0 & 0 & 1 & 0 & 0 & 0 & 0 & 0 & 0 & 0 & 0 & 0 & 0 & 0 & 0 & 0 & 0 & 0 & 1 & 1 & 0 & 0 & 0 & 0 & 0 & 0 & 0 & 0 & 0 & 0 & 0 & 0 & 0 & 0 & 0 & 0 & 1 & 1 & 0 & 1 & 1 & 0 & 0 & 0 & 0 & 0 & 1 & 0\\\\\n",
       "\t S01E04 & \"WINTER MIST\"         & 0 & 0 & 0 & 0 & 0 & 0 & 0 & 1 & 0 & 0 & 0 & 0 & 0 & 1 & 1 & 0 & 0 & 0 & 0 & 0 & 0 & 0 & 0 & 0 & 0 & 0 & 0 & 0 & 0 & 0 & 0 & 0 & 1 & 0 & 0 & 0 & 0 & 1 & 0 & 0 & 0 & 0 & 0 & 0 & 0 & 0 & 0 & 0 & 0 & 0 & 0 & 0 & 1 & 0 & 0 & 0 & 0 & 0 & 1 & 1 & 0 & 0 & 0 & 0 & 0 & 0 & 0\\\\\n",
       "\t S01E05 & \"QUIET STREAM\"        & 0 & 0 & 0 & 0 & 0 & 0 & 0 & 0 & 0 & 0 & 0 & 0 & 0 & 0 & 0 & 0 & 1 & 0 & 0 & 0 & 0 & 0 & 0 & 0 & 0 & 0 & 0 & 0 & 0 & 0 & 0 & 0 & 0 & 0 & 0 & 0 & 0 & 0 & 0 & 0 & 0 & 0 & 0 & 0 & 0 & 0 & 0 & 0 & 1 & 1 & 0 & 0 & 0 & 0 & 0 & 0 & 0 & 0 & 1 & 1 & 0 & 0 & 0 & 0 & 0 & 0 & 0\\\\\n",
       "\\end{tabular}\n"
      ],
      "text/markdown": [
       "\n",
       "A tibble: 5 × 69\n",
       "\n",
       "| EPISODE &lt;chr&gt; | TITLE &lt;chr&gt; | APPLE_FRAME &lt;dbl&gt; | AURORA_BOREALIS &lt;dbl&gt; | BARN &lt;dbl&gt; | BEACH &lt;dbl&gt; | BOAT &lt;dbl&gt; | BRIDGE &lt;dbl&gt; | BUILDING &lt;dbl&gt; | BUSHES &lt;dbl&gt; | ⋯ ⋯ | TOMB_FRAME &lt;dbl&gt; | TREE &lt;dbl&gt; | TREES &lt;dbl&gt; | TRIPLE_FRAME &lt;dbl&gt; | WATERFALL &lt;dbl&gt; | WAVES &lt;dbl&gt; | WINDMILL &lt;dbl&gt; | WINDOW_FRAME &lt;dbl&gt; | WINTER &lt;dbl&gt; | WOOD_FRAMED &lt;dbl&gt; |\n",
       "|---|---|---|---|---|---|---|---|---|---|---|---|---|---|---|---|---|---|---|---|---|\n",
       "| S01E01 | \"A WALK IN THE WOODS\" | 0 | 0 | 0 | 0 | 0 | 0 | 0 | 1 | ⋯ | 0 | 1 | 1 | 0 | 0 | 0 | 0 | 0 | 0 | 0 |\n",
       "| S01E02 | \"MT. MCKINLEY\"        | 0 | 0 | 0 | 0 | 0 | 0 | 0 | 0 | ⋯ | 0 | 1 | 1 | 0 | 0 | 0 | 0 | 0 | 1 | 0 |\n",
       "| S01E03 | \"EBONY SUNSET\"        | 0 | 0 | 0 | 0 | 0 | 0 | 0 | 0 | ⋯ | 0 | 1 | 1 | 0 | 0 | 0 | 0 | 0 | 1 | 0 |\n",
       "| S01E04 | \"WINTER MIST\"         | 0 | 0 | 0 | 0 | 0 | 0 | 0 | 1 | ⋯ | 0 | 1 | 1 | 0 | 0 | 0 | 0 | 0 | 0 | 0 |\n",
       "| S01E05 | \"QUIET STREAM\"        | 0 | 0 | 0 | 0 | 0 | 0 | 0 | 0 | ⋯ | 0 | 1 | 1 | 0 | 0 | 0 | 0 | 0 | 0 | 0 |\n",
       "\n"
      ],
      "text/plain": [
       "  EPISODE TITLE                 APPLE_FRAME AURORA_BOREALIS BARN BEACH BOAT\n",
       "1 S01E01  \"A WALK IN THE WOODS\" 0           0               0    0     0   \n",
       "2 S01E02  \"MT. MCKINLEY\"        0           0               0    0     0   \n",
       "3 S01E03  \"EBONY SUNSET\"        0           0               0    0     0   \n",
       "4 S01E04  \"WINTER MIST\"         0           0               0    0     0   \n",
       "5 S01E05  \"QUIET STREAM\"        0           0               0    0     0   \n",
       "  BRIDGE BUILDING BUSHES ⋯ TOMB_FRAME TREE TREES TRIPLE_FRAME WATERFALL WAVES\n",
       "1 0      0        1      ⋯ 0          1    1     0            0         0    \n",
       "2 0      0        0      ⋯ 0          1    1     0            0         0    \n",
       "3 0      0        0      ⋯ 0          1    1     0            0         0    \n",
       "4 0      0        1      ⋯ 0          1    1     0            0         0    \n",
       "5 0      0        0      ⋯ 0          1    1     0            0         0    \n",
       "  WINDMILL WINDOW_FRAME WINTER WOOD_FRAMED\n",
       "1 0        0            0      0          \n",
       "2 0        0            1      0          \n",
       "3 0        0            1      0          \n",
       "4 0        0            0      0          \n",
       "5 0        0            0      0          "
      ]
     },
     "metadata": {},
     "output_type": "display_data"
    }
   ],
   "source": [
    "df = read_csv('https://raw.githubusercontent.com/fivethirtyeight/data/master/bob-ross/elements-by-episode.csv')\n",
    "df %>% head(5)"
   ]
  },
  {
   "cell_type": "code",
   "execution_count": 10,
   "metadata": {},
   "outputs": [
    {
     "data": {
      "text/html": [
       "<table>\n",
       "<caption>A tibble: 15 × 4</caption>\n",
       "<thead>\n",
       "\t<tr><th scope=col>EPISODE</th><th scope=col>TITLE</th><th scope=col>element</th><th scope=col>contained</th></tr>\n",
       "\t<tr><th scope=col>&lt;chr&gt;</th><th scope=col>&lt;chr&gt;</th><th scope=col>&lt;fct&gt;</th><th scope=col>&lt;dbl&gt;</th></tr>\n",
       "</thead>\n",
       "<tbody>\n",
       "\t<tr><td>S01E01</td><td>\"A WALK IN THE WOODS\"</td><td>BUSHES   </td><td>1</td></tr>\n",
       "\t<tr><td>S01E01</td><td>\"A WALK IN THE WOODS\"</td><td>DECIDUOUS</td><td>1</td></tr>\n",
       "\t<tr><td>S01E01</td><td>\"A WALK IN THE WOODS\"</td><td>GRASS    </td><td>1</td></tr>\n",
       "\t<tr><td>S01E01</td><td>\"A WALK IN THE WOODS\"</td><td>RIVER    </td><td>1</td></tr>\n",
       "\t<tr><td>S01E01</td><td>\"A WALK IN THE WOODS\"</td><td>TREE     </td><td>1</td></tr>\n",
       "\t<tr><td>S01E01</td><td>\"A WALK IN THE WOODS\"</td><td>TREES    </td><td>1</td></tr>\n",
       "\t<tr><td>S01E02</td><td>\"MT. MCKINLEY\"       </td><td>Other    </td><td>1</td></tr>\n",
       "\t<tr><td>S01E02</td><td>\"MT. MCKINLEY\"       </td><td>CLOUDS   </td><td>1</td></tr>\n",
       "\t<tr><td>S01E02</td><td>\"MT. MCKINLEY\"       </td><td>CONIFER  </td><td>1</td></tr>\n",
       "\t<tr><td>S01E02</td><td>\"MT. MCKINLEY\"       </td><td>MOUNTAIN </td><td>1</td></tr>\n",
       "\t<tr><td>S01E02</td><td>\"MT. MCKINLEY\"       </td><td>Other    </td><td>1</td></tr>\n",
       "\t<tr><td>S01E02</td><td>\"MT. MCKINLEY\"       </td><td>Other    </td><td>1</td></tr>\n",
       "\t<tr><td>S01E02</td><td>\"MT. MCKINLEY\"       </td><td>TREE     </td><td>1</td></tr>\n",
       "\t<tr><td>S01E02</td><td>\"MT. MCKINLEY\"       </td><td>TREES    </td><td>1</td></tr>\n",
       "\t<tr><td>S01E02</td><td>\"MT. MCKINLEY\"       </td><td>Other    </td><td>1</td></tr>\n",
       "</tbody>\n",
       "</table>\n"
      ],
      "text/latex": [
       "A tibble: 15 × 4\n",
       "\\begin{tabular}{r|llll}\n",
       " EPISODE & TITLE & element & contained\\\\\n",
       " <chr> & <chr> & <fct> & <dbl>\\\\\n",
       "\\hline\n",
       "\t S01E01 & \"A WALK IN THE WOODS\" & BUSHES    & 1\\\\\n",
       "\t S01E01 & \"A WALK IN THE WOODS\" & DECIDUOUS & 1\\\\\n",
       "\t S01E01 & \"A WALK IN THE WOODS\" & GRASS     & 1\\\\\n",
       "\t S01E01 & \"A WALK IN THE WOODS\" & RIVER     & 1\\\\\n",
       "\t S01E01 & \"A WALK IN THE WOODS\" & TREE      & 1\\\\\n",
       "\t S01E01 & \"A WALK IN THE WOODS\" & TREES     & 1\\\\\n",
       "\t S01E02 & \"MT. MCKINLEY\"        & Other     & 1\\\\\n",
       "\t S01E02 & \"MT. MCKINLEY\"        & CLOUDS    & 1\\\\\n",
       "\t S01E02 & \"MT. MCKINLEY\"        & CONIFER   & 1\\\\\n",
       "\t S01E02 & \"MT. MCKINLEY\"        & MOUNTAIN  & 1\\\\\n",
       "\t S01E02 & \"MT. MCKINLEY\"        & Other     & 1\\\\\n",
       "\t S01E02 & \"MT. MCKINLEY\"        & Other     & 1\\\\\n",
       "\t S01E02 & \"MT. MCKINLEY\"        & TREE      & 1\\\\\n",
       "\t S01E02 & \"MT. MCKINLEY\"        & TREES     & 1\\\\\n",
       "\t S01E02 & \"MT. MCKINLEY\"        & Other     & 1\\\\\n",
       "\\end{tabular}\n"
      ],
      "text/markdown": [
       "\n",
       "A tibble: 15 × 4\n",
       "\n",
       "| EPISODE &lt;chr&gt; | TITLE &lt;chr&gt; | element &lt;fct&gt; | contained &lt;dbl&gt; |\n",
       "|---|---|---|---|\n",
       "| S01E01 | \"A WALK IN THE WOODS\" | BUSHES    | 1 |\n",
       "| S01E01 | \"A WALK IN THE WOODS\" | DECIDUOUS | 1 |\n",
       "| S01E01 | \"A WALK IN THE WOODS\" | GRASS     | 1 |\n",
       "| S01E01 | \"A WALK IN THE WOODS\" | RIVER     | 1 |\n",
       "| S01E01 | \"A WALK IN THE WOODS\" | TREE      | 1 |\n",
       "| S01E01 | \"A WALK IN THE WOODS\" | TREES     | 1 |\n",
       "| S01E02 | \"MT. MCKINLEY\"        | Other     | 1 |\n",
       "| S01E02 | \"MT. MCKINLEY\"        | CLOUDS    | 1 |\n",
       "| S01E02 | \"MT. MCKINLEY\"        | CONIFER   | 1 |\n",
       "| S01E02 | \"MT. MCKINLEY\"        | MOUNTAIN  | 1 |\n",
       "| S01E02 | \"MT. MCKINLEY\"        | Other     | 1 |\n",
       "| S01E02 | \"MT. MCKINLEY\"        | Other     | 1 |\n",
       "| S01E02 | \"MT. MCKINLEY\"        | TREE      | 1 |\n",
       "| S01E02 | \"MT. MCKINLEY\"        | TREES     | 1 |\n",
       "| S01E02 | \"MT. MCKINLEY\"        | Other     | 1 |\n",
       "\n"
      ],
      "text/plain": [
       "   EPISODE TITLE                 element   contained\n",
       "1  S01E01  \"A WALK IN THE WOODS\" BUSHES    1        \n",
       "2  S01E01  \"A WALK IN THE WOODS\" DECIDUOUS 1        \n",
       "3  S01E01  \"A WALK IN THE WOODS\" GRASS     1        \n",
       "4  S01E01  \"A WALK IN THE WOODS\" RIVER     1        \n",
       "5  S01E01  \"A WALK IN THE WOODS\" TREE      1        \n",
       "6  S01E01  \"A WALK IN THE WOODS\" TREES     1        \n",
       "7  S01E02  \"MT. MCKINLEY\"        Other     1        \n",
       "8  S01E02  \"MT. MCKINLEY\"        CLOUDS    1        \n",
       "9  S01E02  \"MT. MCKINLEY\"        CONIFER   1        \n",
       "10 S01E02  \"MT. MCKINLEY\"        MOUNTAIN  1        \n",
       "11 S01E02  \"MT. MCKINLEY\"        Other     1        \n",
       "12 S01E02  \"MT. MCKINLEY\"        Other     1        \n",
       "13 S01E02  \"MT. MCKINLEY\"        TREE      1        \n",
       "14 S01E02  \"MT. MCKINLEY\"        TREES     1        \n",
       "15 S01E02  \"MT. MCKINLEY\"        Other     1        "
      ]
     },
     "metadata": {},
     "output_type": "display_data"
    }
   ],
   "source": [
    "# bob = df %>%\n",
    "#     pivot_longer(cols = -one_of('EPISODE', 'TITLE'), names_to = 'element', values_to = 'contained') %>%\n",
    "#     group_by(element) %>%\n",
    "#     summarize(count=sum(contained)) %>%\n",
    "#     mutate_other(element, n=10)\n",
    "# bob %>% head(5)\n",
    "\n",
    "bob = df %>%\n",
    "    pivot_longer(cols = -one_of('EPISODE', 'TITLE'), names_to = 'element', values_to = 'contained') %>%\n",
    "    filter(contained>0) %>%\n",
    "    mutate(element=fct_lump(element,n=10)) %>%\n",
    "    mutate(element=fct_infreq(element))\n",
    "\n",
    "bob %>% head(15)\n",
    "    "
   ]
  },
  {
   "cell_type": "code",
   "execution_count": 43,
   "metadata": {},
   "outputs": [
    {
     "data": {
      "image/png": "[encoded data removed]",
      "text/plain": [
       "plot without title"
      ]
     },
     "metadata": {
      "image/png": {
       "height": 420,
       "width": 420
      },
      "text/plain": {
       "height": 420,
       "width": 420
      }
     },
     "output_type": "display_data"
    }
   ],
   "source": [
    "p = ggplot(bob, aes(x=element))\n",
    "p = p + geom_bar(fill = \"#0490CD\")\n",
    "p = p + coord_flip()\n",
    "p = p + geom_text(stat='count', aes(label=..count..), hjust=-0.1)\n",
    "p = p + theme(axis.text.x=element_blank())\n",
    "# p = p + theme(axis.text.y=element_blank())\n",
    "p = p + labs(title = \"The Paintings of Bob Ross\", \n",
    "             subtitle=\"Percentage containing each element\", \n",
    "             caption=\"Source: The Joy of Painting\",\n",
    "             x=\"\", \n",
    "             y=\"\")\n",
    "p = p + theme(panel.grid.major = element_blank(), \n",
    "              panel.grid.minor = element_blank(), \n",
    "              panel.border = element_blank(),\n",
    "              panel.background = element_blank(),\n",
    "              axis.ticks = element_blank())\n",
    "p"
   ]
  },
  {
   "cell_type": "code",
   "execution_count": 12,
   "metadata": {},
   "outputs": [],
   "source": [
    "?fct_infreq"
   ]
  }
 ],
 "metadata": {
  "kernelspec": {
   "display_name": "R",
   "language": "R",
   "name": "ir"
  },
  "language_info": {
   "codemirror_mode": "r",
   "file_extension": ".r",
   "mimetype": "text/x-r-source",
   "name": "R",
   "pygments_lexer": "r",
   "version": "3.6.0"
  }
 },
 "nbformat": 4,
 "nbformat_minor": 4
}
