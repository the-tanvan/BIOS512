{
 "cells": [
  {
   "cell_type": "code",
   "execution_count": 1,
   "metadata": {
    "slideshow": {
     "slide_type": "slide"
    }
   },
   "outputs": [
    {
     "name": "stderr",
     "output_type": "stream",
     "text": [
      "── \u001b[1mAttaching packages\u001b[22m ─────────────────────────────────────── tidyverse 1.2.1 ──\n",
      "\n",
      "\u001b[32m✔\u001b[39m \u001b[34mggplot2\u001b[39m 3.2.0     \u001b[32m✔\u001b[39m \u001b[34mpurrr  \u001b[39m 0.3.2\n",
      "\u001b[32m✔\u001b[39m \u001b[34mtibble \u001b[39m 2.1.3     \u001b[32m✔\u001b[39m \u001b[34mdplyr  \u001b[39m 0.8.3\n",
      "\u001b[32m✔\u001b[39m \u001b[34mtidyr  \u001b[39m 0.8.3     \u001b[32m✔\u001b[39m \u001b[34mstringr\u001b[39m 1.4.0\n",
      "\u001b[32m✔\u001b[39m \u001b[34mreadr  \u001b[39m 1.3.1     \u001b[32m✔\u001b[39m \u001b[34mforcats\u001b[39m 0.4.0\n",
      "\n",
      "── \u001b[1mConflicts\u001b[22m ────────────────────────────────────────── tidyverse_conflicts() ──\n",
      "\u001b[31m✖\u001b[39m \u001b[34mdplyr\u001b[39m::\u001b[32mfilter()\u001b[39m masks \u001b[34mstats\u001b[39m::filter()\n",
      "\u001b[31m✖\u001b[39m \u001b[34mdplyr\u001b[39m::\u001b[32mlag()\u001b[39m    masks \u001b[34mstats\u001b[39m::lag()\n",
      "\n"
     ]
    }
   ],
   "source": [
    "library('tidyverse')"
   ]
  },
  {
   "cell_type": "code",
   "execution_count": 2,
   "metadata": {
    "slideshow": {
     "slide_type": "slide"
    }
   },
   "outputs": [],
   "source": [
    "?dplyr"
   ]
  },
  {
   "cell_type": "markdown",
   "metadata": {
    "slideshow": {
     "slide_type": "slide"
    }
   },
   "source": [
    "# Split, apply, combine (and arrange/sort)"
   ]
  },
  {
   "cell_type": "markdown",
   "metadata": {
    "slideshow": {
     "slide_type": "subslide"
    }
   },
   "source": [
    "## `dplyR` \"verbs\""
   ]
  },
  {
   "cell_type": "markdown",
   "metadata": {
    "slideshow": {
     "slide_type": "slide"
    }
   },
   "source": [
    "- `group_by`\n",
    "- `summarize` : apply statistic to any column in your table, calculate metrics on your table by row\n",
    "- `arrange` : allows you sort your table\n",
    "- `mutate` : adding columns to your table based on other columns"
   ]
  },
  {
   "cell_type": "markdown",
   "metadata": {
    "slideshow": {
     "slide_type": "slide"
    }
   },
   "source": [
    "# What is that weird `%>%`?\n",
    "It's a pipe"
   ]
  },
  {
   "cell_type": "code",
   "execution_count": 3,
   "metadata": {
    "slideshow": {
     "slide_type": "subslide"
    }
   },
   "outputs": [
    {
     "data": {
      "text/html": [
       "<table>\n",
       "<caption>A data.frame: 6 × 5</caption>\n",
       "<thead>\n",
       "\t<tr><th scope=col>Sepal.Length</th><th scope=col>Sepal.Width</th><th scope=col>Petal.Length</th><th scope=col>Petal.Width</th><th scope=col>Species</th></tr>\n",
       "\t<tr><th scope=col>&lt;dbl&gt;</th><th scope=col>&lt;dbl&gt;</th><th scope=col>&lt;dbl&gt;</th><th scope=col>&lt;dbl&gt;</th><th scope=col>&lt;fct&gt;</th></tr>\n",
       "</thead>\n",
       "<tbody>\n",
       "\t<tr><td>5.1</td><td>3.5</td><td>1.4</td><td>0.2</td><td>setosa</td></tr>\n",
       "\t<tr><td>4.9</td><td>3.0</td><td>1.4</td><td>0.2</td><td>setosa</td></tr>\n",
       "\t<tr><td>4.7</td><td>3.2</td><td>1.3</td><td>0.2</td><td>setosa</td></tr>\n",
       "\t<tr><td>4.6</td><td>3.1</td><td>1.5</td><td>0.2</td><td>setosa</td></tr>\n",
       "\t<tr><td>5.0</td><td>3.6</td><td>1.4</td><td>0.2</td><td>setosa</td></tr>\n",
       "\t<tr><td>5.4</td><td>3.9</td><td>1.7</td><td>0.4</td><td>setosa</td></tr>\n",
       "</tbody>\n",
       "</table>\n"
      ],
      "text/latex": [
       "A data.frame: 6 × 5\n",
       "\\begin{tabular}{r|lllll}\n",
       " Sepal.Length & Sepal.Width & Petal.Length & Petal.Width & Species\\\\\n",
       " <dbl> & <dbl> & <dbl> & <dbl> & <fct>\\\\\n",
       "\\hline\n",
       "\t 5.1 & 3.5 & 1.4 & 0.2 & setosa\\\\\n",
       "\t 4.9 & 3.0 & 1.4 & 0.2 & setosa\\\\\n",
       "\t 4.7 & 3.2 & 1.3 & 0.2 & setosa\\\\\n",
       "\t 4.6 & 3.1 & 1.5 & 0.2 & setosa\\\\\n",
       "\t 5.0 & 3.6 & 1.4 & 0.2 & setosa\\\\\n",
       "\t 5.4 & 3.9 & 1.7 & 0.4 & setosa\\\\\n",
       "\\end{tabular}\n"
      ],
      "text/markdown": [
       "\n",
       "A data.frame: 6 × 5\n",
       "\n",
       "| Sepal.Length &lt;dbl&gt; | Sepal.Width &lt;dbl&gt; | Petal.Length &lt;dbl&gt; | Petal.Width &lt;dbl&gt; | Species &lt;fct&gt; |\n",
       "|---|---|---|---|---|\n",
       "| 5.1 | 3.5 | 1.4 | 0.2 | setosa |\n",
       "| 4.9 | 3.0 | 1.4 | 0.2 | setosa |\n",
       "| 4.7 | 3.2 | 1.3 | 0.2 | setosa |\n",
       "| 4.6 | 3.1 | 1.5 | 0.2 | setosa |\n",
       "| 5.0 | 3.6 | 1.4 | 0.2 | setosa |\n",
       "| 5.4 | 3.9 | 1.7 | 0.4 | setosa |\n",
       "\n"
      ],
      "text/plain": [
       "  Sepal.Length Sepal.Width Petal.Length Petal.Width Species\n",
       "1 5.1          3.5         1.4          0.2         setosa \n",
       "2 4.9          3.0         1.4          0.2         setosa \n",
       "3 4.7          3.2         1.3          0.2         setosa \n",
       "4 4.6          3.1         1.5          0.2         setosa \n",
       "5 5.0          3.6         1.4          0.2         setosa \n",
       "6 5.4          3.9         1.7          0.4         setosa "
      ]
     },
     "metadata": {},
     "output_type": "display_data"
    }
   ],
   "source": [
    "iris %>% head"
   ]
  },
  {
   "cell_type": "code",
   "execution_count": 4,
   "metadata": {
    "slideshow": {
     "slide_type": "subslide"
    }
   },
   "outputs": [
    {
     "data": {
      "text/html": [
       "<table>\n",
       "<caption>A data.frame: 6 × 5</caption>\n",
       "<thead>\n",
       "\t<tr><th scope=col>Sepal.Length</th><th scope=col>Sepal.Width</th><th scope=col>Petal.Length</th><th scope=col>Petal.Width</th><th scope=col>Species</th></tr>\n",
       "\t<tr><th scope=col>&lt;dbl&gt;</th><th scope=col>&lt;dbl&gt;</th><th scope=col>&lt;dbl&gt;</th><th scope=col>&lt;dbl&gt;</th><th scope=col>&lt;fct&gt;</th></tr>\n",
       "</thead>\n",
       "<tbody>\n",
       "\t<tr><td>5.1</td><td>3.5</td><td>1.4</td><td>0.2</td><td>setosa</td></tr>\n",
       "\t<tr><td>4.9</td><td>3.0</td><td>1.4</td><td>0.2</td><td>setosa</td></tr>\n",
       "\t<tr><td>4.7</td><td>3.2</td><td>1.3</td><td>0.2</td><td>setosa</td></tr>\n",
       "\t<tr><td>4.6</td><td>3.1</td><td>1.5</td><td>0.2</td><td>setosa</td></tr>\n",
       "\t<tr><td>5.0</td><td>3.6</td><td>1.4</td><td>0.2</td><td>setosa</td></tr>\n",
       "\t<tr><td>5.4</td><td>3.9</td><td>1.7</td><td>0.4</td><td>setosa</td></tr>\n",
       "</tbody>\n",
       "</table>\n"
      ],
      "text/latex": [
       "A data.frame: 6 × 5\n",
       "\\begin{tabular}{r|lllll}\n",
       " Sepal.Length & Sepal.Width & Petal.Length & Petal.Width & Species\\\\\n",
       " <dbl> & <dbl> & <dbl> & <dbl> & <fct>\\\\\n",
       "\\hline\n",
       "\t 5.1 & 3.5 & 1.4 & 0.2 & setosa\\\\\n",
       "\t 4.9 & 3.0 & 1.4 & 0.2 & setosa\\\\\n",
       "\t 4.7 & 3.2 & 1.3 & 0.2 & setosa\\\\\n",
       "\t 4.6 & 3.1 & 1.5 & 0.2 & setosa\\\\\n",
       "\t 5.0 & 3.6 & 1.4 & 0.2 & setosa\\\\\n",
       "\t 5.4 & 3.9 & 1.7 & 0.4 & setosa\\\\\n",
       "\\end{tabular}\n"
      ],
      "text/markdown": [
       "\n",
       "A data.frame: 6 × 5\n",
       "\n",
       "| Sepal.Length &lt;dbl&gt; | Sepal.Width &lt;dbl&gt; | Petal.Length &lt;dbl&gt; | Petal.Width &lt;dbl&gt; | Species &lt;fct&gt; |\n",
       "|---|---|---|---|---|\n",
       "| 5.1 | 3.5 | 1.4 | 0.2 | setosa |\n",
       "| 4.9 | 3.0 | 1.4 | 0.2 | setosa |\n",
       "| 4.7 | 3.2 | 1.3 | 0.2 | setosa |\n",
       "| 4.6 | 3.1 | 1.5 | 0.2 | setosa |\n",
       "| 5.0 | 3.6 | 1.4 | 0.2 | setosa |\n",
       "| 5.4 | 3.9 | 1.7 | 0.4 | setosa |\n",
       "\n"
      ],
      "text/plain": [
       "  Sepal.Length Sepal.Width Petal.Length Petal.Width Species\n",
       "1 5.1          3.5         1.4          0.2         setosa \n",
       "2 4.9          3.0         1.4          0.2         setosa \n",
       "3 4.7          3.2         1.3          0.2         setosa \n",
       "4 4.6          3.1         1.5          0.2         setosa \n",
       "5 5.0          3.6         1.4          0.2         setosa \n",
       "6 5.4          3.9         1.7          0.4         setosa "
      ]
     },
     "metadata": {},
     "output_type": "display_data"
    }
   ],
   "source": [
    "head(iris)"
   ]
  },
  {
   "cell_type": "code",
   "execution_count": 5,
   "metadata": {
    "slideshow": {
     "slide_type": "subslide"
    }
   },
   "outputs": [
    {
     "data": {
      "text/html": [
       "<table>\n",
       "<caption>A tibble: 3 × 2</caption>\n",
       "<thead>\n",
       "\t<tr><th scope=col>Species</th><th scope=col>mean.Sepal.Length</th></tr>\n",
       "\t<tr><th scope=col>&lt;fct&gt;</th><th scope=col>&lt;dbl&gt;</th></tr>\n",
       "</thead>\n",
       "<tbody>\n",
       "\t<tr><td>setosa    </td><td>5.006</td></tr>\n",
       "\t<tr><td>versicolor</td><td>5.936</td></tr>\n",
       "\t<tr><td>virginica </td><td>6.588</td></tr>\n",
       "</tbody>\n",
       "</table>\n"
      ],
      "text/latex": [
       "A tibble: 3 × 2\n",
       "\\begin{tabular}{r|ll}\n",
       " Species & mean.Sepal.Length\\\\\n",
       " <fct> & <dbl>\\\\\n",
       "\\hline\n",
       "\t setosa     & 5.006\\\\\n",
       "\t versicolor & 5.936\\\\\n",
       "\t virginica  & 6.588\\\\\n",
       "\\end{tabular}\n"
      ],
      "text/markdown": [
       "\n",
       "A tibble: 3 × 2\n",
       "\n",
       "| Species &lt;fct&gt; | mean.Sepal.Length &lt;dbl&gt; |\n",
       "|---|---|\n",
       "| setosa     | 5.006 |\n",
       "| versicolor | 5.936 |\n",
       "| virginica  | 6.588 |\n",
       "\n"
      ],
      "text/plain": [
       "  Species    mean.Sepal.Length\n",
       "1 setosa     5.006            \n",
       "2 versicolor 5.936            \n",
       "3 virginica  6.588            "
      ]
     },
     "metadata": {},
     "output_type": "display_data"
    }
   ],
   "source": [
    "# Much easier to read than the set up below\n",
    "\n",
    "iris %>%\n",
    "    group_by(Species) %>%\n",
    "    select(Sepal.Length, Species) %>%\n",
    "    filter(Sepal.Length > 4) %>%\n",
    "    summarize(mean.Sepal.Length = mean(Sepal.Length))"
   ]
  },
  {
   "cell_type": "code",
   "execution_count": 6,
   "metadata": {
    "slideshow": {
     "slide_type": "subslide"
    }
   },
   "outputs": [
    {
     "data": {
      "text/html": [
       "<table>\n",
       "<caption>A tibble: 3 × 2</caption>\n",
       "<thead>\n",
       "\t<tr><th scope=col>Species</th><th scope=col>mean.Sepal.Length</th></tr>\n",
       "\t<tr><th scope=col>&lt;fct&gt;</th><th scope=col>&lt;dbl&gt;</th></tr>\n",
       "</thead>\n",
       "<tbody>\n",
       "\t<tr><td>setosa    </td><td>5.006</td></tr>\n",
       "\t<tr><td>versicolor</td><td>5.936</td></tr>\n",
       "\t<tr><td>virginica </td><td>6.588</td></tr>\n",
       "</tbody>\n",
       "</table>\n"
      ],
      "text/latex": [
       "A tibble: 3 × 2\n",
       "\\begin{tabular}{r|ll}\n",
       " Species & mean.Sepal.Length\\\\\n",
       " <fct> & <dbl>\\\\\n",
       "\\hline\n",
       "\t setosa     & 5.006\\\\\n",
       "\t versicolor & 5.936\\\\\n",
       "\t virginica  & 6.588\\\\\n",
       "\\end{tabular}\n"
      ],
      "text/markdown": [
       "\n",
       "A tibble: 3 × 2\n",
       "\n",
       "| Species &lt;fct&gt; | mean.Sepal.Length &lt;dbl&gt; |\n",
       "|---|---|\n",
       "| setosa     | 5.006 |\n",
       "| versicolor | 5.936 |\n",
       "| virginica  | 6.588 |\n",
       "\n"
      ],
      "text/plain": [
       "  Species    mean.Sepal.Length\n",
       "1 setosa     5.006            \n",
       "2 versicolor 5.936            \n",
       "3 virginica  6.588            "
      ]
     },
     "metadata": {},
     "output_type": "display_data"
    }
   ],
   "source": [
    "summarize(filter(select(group_by(iris, Species), Species, Sepal.Length), Sepal.Length > 4), mean.Sepal.Length = mean(Sepal.Length))"
   ]
  },
  {
   "cell_type": "markdown",
   "metadata": {
    "slideshow": {
     "slide_type": "slide"
    }
   },
   "source": [
    "# group_by"
   ]
  },
  {
   "cell_type": "code",
   "execution_count": 7,
   "metadata": {
    "slideshow": {
     "slide_type": "slide"
    }
   },
   "outputs": [
    {
     "data": {
      "text/html": [
       "<table>\n",
       "<caption>A data.frame: 6 × 5</caption>\n",
       "<thead>\n",
       "\t<tr><th scope=col>Sepal.Length</th><th scope=col>Sepal.Width</th><th scope=col>Petal.Length</th><th scope=col>Petal.Width</th><th scope=col>Species</th></tr>\n",
       "\t<tr><th scope=col>&lt;dbl&gt;</th><th scope=col>&lt;dbl&gt;</th><th scope=col>&lt;dbl&gt;</th><th scope=col>&lt;dbl&gt;</th><th scope=col>&lt;fct&gt;</th></tr>\n",
       "</thead>\n",
       "<tbody>\n",
       "\t<tr><td>5.1</td><td>3.5</td><td>1.4</td><td>0.2</td><td>setosa</td></tr>\n",
       "\t<tr><td>4.9</td><td>3.0</td><td>1.4</td><td>0.2</td><td>setosa</td></tr>\n",
       "\t<tr><td>4.7</td><td>3.2</td><td>1.3</td><td>0.2</td><td>setosa</td></tr>\n",
       "\t<tr><td>4.6</td><td>3.1</td><td>1.5</td><td>0.2</td><td>setosa</td></tr>\n",
       "\t<tr><td>5.0</td><td>3.6</td><td>1.4</td><td>0.2</td><td>setosa</td></tr>\n",
       "\t<tr><td>5.4</td><td>3.9</td><td>1.7</td><td>0.4</td><td>setosa</td></tr>\n",
       "</tbody>\n",
       "</table>\n"
      ],
      "text/latex": [
       "A data.frame: 6 × 5\n",
       "\\begin{tabular}{r|lllll}\n",
       " Sepal.Length & Sepal.Width & Petal.Length & Petal.Width & Species\\\\\n",
       " <dbl> & <dbl> & <dbl> & <dbl> & <fct>\\\\\n",
       "\\hline\n",
       "\t 5.1 & 3.5 & 1.4 & 0.2 & setosa\\\\\n",
       "\t 4.9 & 3.0 & 1.4 & 0.2 & setosa\\\\\n",
       "\t 4.7 & 3.2 & 1.3 & 0.2 & setosa\\\\\n",
       "\t 4.6 & 3.1 & 1.5 & 0.2 & setosa\\\\\n",
       "\t 5.0 & 3.6 & 1.4 & 0.2 & setosa\\\\\n",
       "\t 5.4 & 3.9 & 1.7 & 0.4 & setosa\\\\\n",
       "\\end{tabular}\n"
      ],
      "text/markdown": [
       "\n",
       "A data.frame: 6 × 5\n",
       "\n",
       "| Sepal.Length &lt;dbl&gt; | Sepal.Width &lt;dbl&gt; | Petal.Length &lt;dbl&gt; | Petal.Width &lt;dbl&gt; | Species &lt;fct&gt; |\n",
       "|---|---|---|---|---|\n",
       "| 5.1 | 3.5 | 1.4 | 0.2 | setosa |\n",
       "| 4.9 | 3.0 | 1.4 | 0.2 | setosa |\n",
       "| 4.7 | 3.2 | 1.3 | 0.2 | setosa |\n",
       "| 4.6 | 3.1 | 1.5 | 0.2 | setosa |\n",
       "| 5.0 | 3.6 | 1.4 | 0.2 | setosa |\n",
       "| 5.4 | 3.9 | 1.7 | 0.4 | setosa |\n",
       "\n"
      ],
      "text/plain": [
       "  Sepal.Length Sepal.Width Petal.Length Petal.Width Species\n",
       "1 5.1          3.5         1.4          0.2         setosa \n",
       "2 4.9          3.0         1.4          0.2         setosa \n",
       "3 4.7          3.2         1.3          0.2         setosa \n",
       "4 4.6          3.1         1.5          0.2         setosa \n",
       "5 5.0          3.6         1.4          0.2         setosa \n",
       "6 5.4          3.9         1.7          0.4         setosa "
      ]
     },
     "metadata": {},
     "output_type": "display_data"
    }
   ],
   "source": [
    "iris %>% head"
   ]
  },
  {
   "cell_type": "code",
   "execution_count": 8,
   "metadata": {
    "slideshow": {
     "slide_type": "slide"
    }
   },
   "outputs": [
    {
     "data": {
      "text/html": [
       "<table>\n",
       "<caption>A grouped_df: 6 × 5</caption>\n",
       "<thead>\n",
       "\t<tr><th scope=col>Sepal.Length</th><th scope=col>Sepal.Width</th><th scope=col>Petal.Length</th><th scope=col>Petal.Width</th><th scope=col>Species</th></tr>\n",
       "\t<tr><th scope=col>&lt;dbl&gt;</th><th scope=col>&lt;dbl&gt;</th><th scope=col>&lt;dbl&gt;</th><th scope=col>&lt;dbl&gt;</th><th scope=col>&lt;fct&gt;</th></tr>\n",
       "</thead>\n",
       "<tbody>\n",
       "\t<tr><td>5.1</td><td>3.5</td><td>1.4</td><td>0.2</td><td>setosa</td></tr>\n",
       "\t<tr><td>4.9</td><td>3.0</td><td>1.4</td><td>0.2</td><td>setosa</td></tr>\n",
       "\t<tr><td>4.7</td><td>3.2</td><td>1.3</td><td>0.2</td><td>setosa</td></tr>\n",
       "\t<tr><td>4.6</td><td>3.1</td><td>1.5</td><td>0.2</td><td>setosa</td></tr>\n",
       "\t<tr><td>5.0</td><td>3.6</td><td>1.4</td><td>0.2</td><td>setosa</td></tr>\n",
       "\t<tr><td>5.4</td><td>3.9</td><td>1.7</td><td>0.4</td><td>setosa</td></tr>\n",
       "</tbody>\n",
       "</table>\n"
      ],
      "text/latex": [
       "A grouped_df: 6 × 5\n",
       "\\begin{tabular}{r|lllll}\n",
       " Sepal.Length & Sepal.Width & Petal.Length & Petal.Width & Species\\\\\n",
       " <dbl> & <dbl> & <dbl> & <dbl> & <fct>\\\\\n",
       "\\hline\n",
       "\t 5.1 & 3.5 & 1.4 & 0.2 & setosa\\\\\n",
       "\t 4.9 & 3.0 & 1.4 & 0.2 & setosa\\\\\n",
       "\t 4.7 & 3.2 & 1.3 & 0.2 & setosa\\\\\n",
       "\t 4.6 & 3.1 & 1.5 & 0.2 & setosa\\\\\n",
       "\t 5.0 & 3.6 & 1.4 & 0.2 & setosa\\\\\n",
       "\t 5.4 & 3.9 & 1.7 & 0.4 & setosa\\\\\n",
       "\\end{tabular}\n"
      ],
      "text/markdown": [
       "\n",
       "A grouped_df: 6 × 5\n",
       "\n",
       "| Sepal.Length &lt;dbl&gt; | Sepal.Width &lt;dbl&gt; | Petal.Length &lt;dbl&gt; | Petal.Width &lt;dbl&gt; | Species &lt;fct&gt; |\n",
       "|---|---|---|---|---|\n",
       "| 5.1 | 3.5 | 1.4 | 0.2 | setosa |\n",
       "| 4.9 | 3.0 | 1.4 | 0.2 | setosa |\n",
       "| 4.7 | 3.2 | 1.3 | 0.2 | setosa |\n",
       "| 4.6 | 3.1 | 1.5 | 0.2 | setosa |\n",
       "| 5.0 | 3.6 | 1.4 | 0.2 | setosa |\n",
       "| 5.4 | 3.9 | 1.7 | 0.4 | setosa |\n",
       "\n"
      ],
      "text/plain": [
       "  Sepal.Length Sepal.Width Petal.Length Petal.Width Species\n",
       "1 5.1          3.5         1.4          0.2         setosa \n",
       "2 4.9          3.0         1.4          0.2         setosa \n",
       "3 4.7          3.2         1.3          0.2         setosa \n",
       "4 4.6          3.1         1.5          0.2         setosa \n",
       "5 5.0          3.6         1.4          0.2         setosa \n",
       "6 5.4          3.9         1.7          0.4         setosa "
      ]
     },
     "metadata": {},
     "output_type": "display_data"
    }
   ],
   "source": [
    "# It doesn't look like much has changed, but now the object is described as a grouped_df instead of just a data.frame\n",
    "\n",
    "iris %>%\n",
    "    group_by(Species) %>% \n",
    "    head"
   ]
  },
  {
   "cell_type": "code",
   "execution_count": 9,
   "metadata": {
    "slideshow": {
     "slide_type": "slide"
    }
   },
   "outputs": [
    {
     "data": {
      "text/html": [
       "<table>\n",
       "<caption>A data.frame: 6 × 3</caption>\n",
       "<thead>\n",
       "\t<tr><th scope=col>Species</th><th scope=col>key</th><th scope=col>value</th></tr>\n",
       "\t<tr><th scope=col>&lt;fct&gt;</th><th scope=col>&lt;chr&gt;</th><th scope=col>&lt;dbl&gt;</th></tr>\n",
       "</thead>\n",
       "<tbody>\n",
       "\t<tr><td>setosa</td><td>Sepal.Length</td><td>5.1</td></tr>\n",
       "\t<tr><td>setosa</td><td>Sepal.Length</td><td>4.9</td></tr>\n",
       "\t<tr><td>setosa</td><td>Sepal.Length</td><td>4.7</td></tr>\n",
       "\t<tr><td>setosa</td><td>Sepal.Length</td><td>4.6</td></tr>\n",
       "\t<tr><td>setosa</td><td>Sepal.Length</td><td>5.0</td></tr>\n",
       "\t<tr><td>setosa</td><td>Sepal.Length</td><td>5.4</td></tr>\n",
       "</tbody>\n",
       "</table>\n"
      ],
      "text/latex": [
       "A data.frame: 6 × 3\n",
       "\\begin{tabular}{r|lll}\n",
       " Species & key & value\\\\\n",
       " <fct> & <chr> & <dbl>\\\\\n",
       "\\hline\n",
       "\t setosa & Sepal.Length & 5.1\\\\\n",
       "\t setosa & Sepal.Length & 4.9\\\\\n",
       "\t setosa & Sepal.Length & 4.7\\\\\n",
       "\t setosa & Sepal.Length & 4.6\\\\\n",
       "\t setosa & Sepal.Length & 5.0\\\\\n",
       "\t setosa & Sepal.Length & 5.4\\\\\n",
       "\\end{tabular}\n"
      ],
      "text/markdown": [
       "\n",
       "A data.frame: 6 × 3\n",
       "\n",
       "| Species &lt;fct&gt; | key &lt;chr&gt; | value &lt;dbl&gt; |\n",
       "|---|---|---|\n",
       "| setosa | Sepal.Length | 5.1 |\n",
       "| setosa | Sepal.Length | 4.9 |\n",
       "| setosa | Sepal.Length | 4.7 |\n",
       "| setosa | Sepal.Length | 4.6 |\n",
       "| setosa | Sepal.Length | 5.0 |\n",
       "| setosa | Sepal.Length | 5.4 |\n",
       "\n"
      ],
      "text/plain": [
       "  Species key          value\n",
       "1 setosa  Sepal.Length 5.1  \n",
       "2 setosa  Sepal.Length 4.9  \n",
       "3 setosa  Sepal.Length 4.7  \n",
       "4 setosa  Sepal.Length 4.6  \n",
       "5 setosa  Sepal.Length 5.0  \n",
       "6 setosa  Sepal.Length 5.4  "
      ]
     },
     "metadata": {},
     "output_type": "display_data"
    }
   ],
   "source": [
    "iris %>%\n",
    "    gather(key, value, -Species) %>%\n",
    "    head"
   ]
  },
  {
   "cell_type": "code",
   "execution_count": 10,
   "metadata": {
    "slideshow": {
     "slide_type": "slide"
    }
   },
   "outputs": [
    {
     "data": {
      "text/html": [
       "<table>\n",
       "<caption>A grouped_df: 6 × 3</caption>\n",
       "<thead>\n",
       "\t<tr><th scope=col>Species</th><th scope=col>key</th><th scope=col>value</th></tr>\n",
       "\t<tr><th scope=col>&lt;fct&gt;</th><th scope=col>&lt;chr&gt;</th><th scope=col>&lt;dbl&gt;</th></tr>\n",
       "</thead>\n",
       "<tbody>\n",
       "\t<tr><td>setosa</td><td>Sepal.Length</td><td>5.1</td></tr>\n",
       "\t<tr><td>setosa</td><td>Sepal.Length</td><td>4.9</td></tr>\n",
       "\t<tr><td>setosa</td><td>Sepal.Length</td><td>4.7</td></tr>\n",
       "\t<tr><td>setosa</td><td>Sepal.Length</td><td>4.6</td></tr>\n",
       "\t<tr><td>setosa</td><td>Sepal.Length</td><td>5.0</td></tr>\n",
       "\t<tr><td>setosa</td><td>Sepal.Length</td><td>5.4</td></tr>\n",
       "</tbody>\n",
       "</table>\n"
      ],
      "text/latex": [
       "A grouped_df: 6 × 3\n",
       "\\begin{tabular}{r|lll}\n",
       " Species & key & value\\\\\n",
       " <fct> & <chr> & <dbl>\\\\\n",
       "\\hline\n",
       "\t setosa & Sepal.Length & 5.1\\\\\n",
       "\t setosa & Sepal.Length & 4.9\\\\\n",
       "\t setosa & Sepal.Length & 4.7\\\\\n",
       "\t setosa & Sepal.Length & 4.6\\\\\n",
       "\t setosa & Sepal.Length & 5.0\\\\\n",
       "\t setosa & Sepal.Length & 5.4\\\\\n",
       "\\end{tabular}\n"
      ],
      "text/markdown": [
       "\n",
       "A grouped_df: 6 × 3\n",
       "\n",
       "| Species &lt;fct&gt; | key &lt;chr&gt; | value &lt;dbl&gt; |\n",
       "|---|---|---|\n",
       "| setosa | Sepal.Length | 5.1 |\n",
       "| setosa | Sepal.Length | 4.9 |\n",
       "| setosa | Sepal.Length | 4.7 |\n",
       "| setosa | Sepal.Length | 4.6 |\n",
       "| setosa | Sepal.Length | 5.0 |\n",
       "| setosa | Sepal.Length | 5.4 |\n",
       "\n"
      ],
      "text/plain": [
       "  Species key          value\n",
       "1 setosa  Sepal.Length 5.1  \n",
       "2 setosa  Sepal.Length 4.9  \n",
       "3 setosa  Sepal.Length 4.7  \n",
       "4 setosa  Sepal.Length 4.6  \n",
       "5 setosa  Sepal.Length 5.0  \n",
       "6 setosa  Sepal.Length 5.4  "
      ]
     },
     "metadata": {},
     "output_type": "display_data"
    }
   ],
   "source": [
    "#Gather goes from long to wide\n",
    "\n",
    "iris %>%\n",
    "    gather(key, value, -Species) %>%\n",
    "    group_by(key) %>%\n",
    "    head"
   ]
  },
  {
   "cell_type": "markdown",
   "metadata": {
    "slideshow": {
     "slide_type": "slide"
    }
   },
   "source": [
    "# summarize"
   ]
  },
  {
   "cell_type": "code",
   "execution_count": 11,
   "metadata": {
    "slideshow": {
     "slide_type": "slide"
    }
   },
   "outputs": [
    {
     "data": {
      "text/html": [
       "<table>\n",
       "<caption>A data.frame: 1 × 1</caption>\n",
       "<thead>\n",
       "\t<tr><th scope=col>median.Sepal.Length</th></tr>\n",
       "\t<tr><th scope=col>&lt;dbl&gt;</th></tr>\n",
       "</thead>\n",
       "<tbody>\n",
       "\t<tr><td>5.8</td></tr>\n",
       "</tbody>\n",
       "</table>\n"
      ],
      "text/latex": [
       "A data.frame: 1 × 1\n",
       "\\begin{tabular}{r|l}\n",
       " median.Sepal.Length\\\\\n",
       " <dbl>\\\\\n",
       "\\hline\n",
       "\t 5.8\\\\\n",
       "\\end{tabular}\n"
      ],
      "text/markdown": [
       "\n",
       "A data.frame: 1 × 1\n",
       "\n",
       "| median.Sepal.Length &lt;dbl&gt; |\n",
       "|---|\n",
       "| 5.8 |\n",
       "\n"
      ],
      "text/plain": [
       "  median.Sepal.Length\n",
       "1 5.8                "
      ]
     },
     "metadata": {},
     "output_type": "display_data"
    }
   ],
   "source": [
    "iris %>%\n",
    "    summarize(median.Sepal.Length = median(Sepal.Length))"
   ]
  },
  {
   "cell_type": "code",
   "execution_count": 12,
   "metadata": {
    "slideshow": {
     "slide_type": "slide"
    }
   },
   "outputs": [
    {
     "data": {
      "text/html": [
       "<table>\n",
       "<caption>A tibble: 3 × 2</caption>\n",
       "<thead>\n",
       "\t<tr><th scope=col>Species</th><th scope=col>median.Sepal.Length</th></tr>\n",
       "\t<tr><th scope=col>&lt;fct&gt;</th><th scope=col>&lt;dbl&gt;</th></tr>\n",
       "</thead>\n",
       "<tbody>\n",
       "\t<tr><td>setosa    </td><td>5.0</td></tr>\n",
       "\t<tr><td>versicolor</td><td>5.9</td></tr>\n",
       "\t<tr><td>virginica </td><td>6.5</td></tr>\n",
       "</tbody>\n",
       "</table>\n"
      ],
      "text/latex": [
       "A tibble: 3 × 2\n",
       "\\begin{tabular}{r|ll}\n",
       " Species & median.Sepal.Length\\\\\n",
       " <fct> & <dbl>\\\\\n",
       "\\hline\n",
       "\t setosa     & 5.0\\\\\n",
       "\t versicolor & 5.9\\\\\n",
       "\t virginica  & 6.5\\\\\n",
       "\\end{tabular}\n"
      ],
      "text/markdown": [
       "\n",
       "A tibble: 3 × 2\n",
       "\n",
       "| Species &lt;fct&gt; | median.Sepal.Length &lt;dbl&gt; |\n",
       "|---|---|\n",
       "| setosa     | 5.0 |\n",
       "| versicolor | 5.9 |\n",
       "| virginica  | 6.5 |\n",
       "\n"
      ],
      "text/plain": [
       "  Species    median.Sepal.Length\n",
       "1 setosa     5.0                \n",
       "2 versicolor 5.9                \n",
       "3 virginica  6.5                "
      ]
     },
     "metadata": {},
     "output_type": "display_data"
    }
   ],
   "source": [
    "iris %>%\n",
    "    group_by(Species) %>%\n",
    "    summarize(median.Sepal.Length = median(Sepal.Length))"
   ]
  },
  {
   "cell_type": "code",
   "execution_count": 2,
   "metadata": {
    "slideshow": {
     "slide_type": "slide"
    }
   },
   "outputs": [
    {
     "data": {
      "text/html": [
       "<table>\n",
       "<caption>A tibble: 3 × 2</caption>\n",
       "<thead>\n",
       "\t<tr><th scope=col>Species</th><th scope=col>max.sepal.length</th></tr>\n",
       "\t<tr><th scope=col>&lt;fct&gt;</th><th scope=col>&lt;dbl&gt;</th></tr>\n",
       "</thead>\n",
       "<tbody>\n",
       "\t<tr><td>setosa    </td><td>5.8</td></tr>\n",
       "\t<tr><td>versicolor</td><td>7.0</td></tr>\n",
       "\t<tr><td>virginica </td><td>7.9</td></tr>\n",
       "</tbody>\n",
       "</table>\n"
      ],
      "text/latex": [
       "A tibble: 3 × 2\n",
       "\\begin{tabular}{r|ll}\n",
       " Species & max.sepal.length\\\\\n",
       " <fct> & <dbl>\\\\\n",
       "\\hline\n",
       "\t setosa     & 5.8\\\\\n",
       "\t versicolor & 7.0\\\\\n",
       "\t virginica  & 7.9\\\\\n",
       "\\end{tabular}\n"
      ],
      "text/markdown": [
       "\n",
       "A tibble: 3 × 2\n",
       "\n",
       "| Species &lt;fct&gt; | max.sepal.length &lt;dbl&gt; |\n",
       "|---|---|\n",
       "| setosa     | 5.8 |\n",
       "| versicolor | 7.0 |\n",
       "| virginica  | 7.9 |\n",
       "\n"
      ],
      "text/plain": [
       "  Species    max.sepal.length\n",
       "1 setosa     5.8             \n",
       "2 versicolor 7.0             \n",
       "3 virginica  7.9             "
      ]
     },
     "metadata": {},
     "output_type": "display_data"
    }
   ],
   "source": [
    "# What about max Sepal.Length by Species?\n",
    "\n",
    "iris %>%\n",
    "   group_by(Species) %>%\n",
    "   summarize(max.sepal.length = max(Sepal.Length))"
   ]
  },
  {
   "cell_type": "markdown",
   "metadata": {
    "slideshow": {
     "slide_type": "slide"
    }
   },
   "source": [
    "## group size"
   ]
  },
  {
   "cell_type": "code",
   "execution_count": 3,
   "metadata": {
    "slideshow": {
     "slide_type": "slide"
    }
   },
   "outputs": [
    {
     "data": {
      "text/html": [
       "<table>\n",
       "<caption>A tibble: 3 × 2</caption>\n",
       "<thead>\n",
       "\t<tr><th scope=col>Species</th><th scope=col>total.rows</th></tr>\n",
       "\t<tr><th scope=col>&lt;fct&gt;</th><th scope=col>&lt;int&gt;</th></tr>\n",
       "</thead>\n",
       "<tbody>\n",
       "\t<tr><td>setosa    </td><td>50</td></tr>\n",
       "\t<tr><td>versicolor</td><td>50</td></tr>\n",
       "\t<tr><td>virginica </td><td>50</td></tr>\n",
       "</tbody>\n",
       "</table>\n"
      ],
      "text/latex": [
       "A tibble: 3 × 2\n",
       "\\begin{tabular}{r|ll}\n",
       " Species & total.rows\\\\\n",
       " <fct> & <int>\\\\\n",
       "\\hline\n",
       "\t setosa     & 50\\\\\n",
       "\t versicolor & 50\\\\\n",
       "\t virginica  & 50\\\\\n",
       "\\end{tabular}\n"
      ],
      "text/markdown": [
       "\n",
       "A tibble: 3 × 2\n",
       "\n",
       "| Species &lt;fct&gt; | total.rows &lt;int&gt; |\n",
       "|---|---|\n",
       "| setosa     | 50 |\n",
       "| versicolor | 50 |\n",
       "| virginica  | 50 |\n",
       "\n"
      ],
      "text/plain": [
       "  Species    total.rows\n",
       "1 setosa     50        \n",
       "2 versicolor 50        \n",
       "3 virginica  50        "
      ]
     },
     "metadata": {},
     "output_type": "display_data"
    }
   ],
   "source": [
    "iris %>%\n",
    "    group_by(Species) %>%\n",
    "    summarize(total.rows = n())"
   ]
  },
  {
   "cell_type": "code",
   "execution_count": 15,
   "metadata": {
    "slideshow": {
     "slide_type": "slide"
    }
   },
   "outputs": [
    {
     "data": {
      "image/png": "[encoded data removed]",
      "text/plain": [
       "plot without title"
      ]
     },
     "metadata": {},
     "output_type": "display_data"
    }
   ],
   "source": [
    "options(repr.plot.width = 4, repr.plot.height = 3)\n",
    "df = iris %>%\n",
    "    group_by(Species) %>%\n",
    "    summarize(N = n())\n",
    "\n",
    "ggplot(df, aes(x = Species, y = N, label = N)) +\n",
    "    geom_bar(stat = 'identity') + \n",
    "    geom_text(color = 'white', vjust = 2, size = 6)"
   ]
  },
  {
   "cell_type": "markdown",
   "metadata": {
    "slideshow": {
     "slide_type": "slide"
    }
   },
   "source": [
    "# arrange"
   ]
  },
  {
   "cell_type": "code",
   "execution_count": 16,
   "metadata": {
    "slideshow": {
     "slide_type": "slide"
    }
   },
   "outputs": [
    {
     "data": {
      "text/html": [
       "<table>\n",
       "<caption>A tibble: 3 × 2</caption>\n",
       "<thead>\n",
       "\t<tr><th scope=col>Species</th><th scope=col>median.Sepal.Length</th></tr>\n",
       "\t<tr><th scope=col>&lt;fct&gt;</th><th scope=col>&lt;dbl&gt;</th></tr>\n",
       "</thead>\n",
       "<tbody>\n",
       "\t<tr><td>setosa    </td><td>5.0</td></tr>\n",
       "\t<tr><td>versicolor</td><td>5.9</td></tr>\n",
       "\t<tr><td>virginica </td><td>6.5</td></tr>\n",
       "</tbody>\n",
       "</table>\n"
      ],
      "text/latex": [
       "A tibble: 3 × 2\n",
       "\\begin{tabular}{r|ll}\n",
       " Species & median.Sepal.Length\\\\\n",
       " <fct> & <dbl>\\\\\n",
       "\\hline\n",
       "\t setosa     & 5.0\\\\\n",
       "\t versicolor & 5.9\\\\\n",
       "\t virginica  & 6.5\\\\\n",
       "\\end{tabular}\n"
      ],
      "text/markdown": [
       "\n",
       "A tibble: 3 × 2\n",
       "\n",
       "| Species &lt;fct&gt; | median.Sepal.Length &lt;dbl&gt; |\n",
       "|---|---|\n",
       "| setosa     | 5.0 |\n",
       "| versicolor | 5.9 |\n",
       "| virginica  | 6.5 |\n",
       "\n"
      ],
      "text/plain": [
       "  Species    median.Sepal.Length\n",
       "1 setosa     5.0                \n",
       "2 versicolor 5.9                \n",
       "3 virginica  6.5                "
      ]
     },
     "metadata": {},
     "output_type": "display_data"
    }
   ],
   "source": [
    "iris %>%\n",
    "    group_by(Species) %>%\n",
    "    summarize(median.Sepal.Length = median(Sepal.Length))"
   ]
  },
  {
   "cell_type": "code",
   "execution_count": 17,
   "metadata": {},
   "outputs": [
    {
     "data": {
      "text/html": [
       "<table>\n",
       "<caption>A tibble: 3 × 2</caption>\n",
       "<thead>\n",
       "\t<tr><th scope=col>Species</th><th scope=col>median.Sepal.Length</th></tr>\n",
       "\t<tr><th scope=col>&lt;fct&gt;</th><th scope=col>&lt;dbl&gt;</th></tr>\n",
       "</thead>\n",
       "<tbody>\n",
       "\t<tr><td>setosa    </td><td>5.0</td></tr>\n",
       "\t<tr><td>versicolor</td><td>5.9</td></tr>\n",
       "\t<tr><td>virginica </td><td>6.5</td></tr>\n",
       "</tbody>\n",
       "</table>\n"
      ],
      "text/latex": [
       "A tibble: 3 × 2\n",
       "\\begin{tabular}{r|ll}\n",
       " Species & median.Sepal.Length\\\\\n",
       " <fct> & <dbl>\\\\\n",
       "\\hline\n",
       "\t setosa     & 5.0\\\\\n",
       "\t versicolor & 5.9\\\\\n",
       "\t virginica  & 6.5\\\\\n",
       "\\end{tabular}\n"
      ],
      "text/markdown": [
       "\n",
       "A tibble: 3 × 2\n",
       "\n",
       "| Species &lt;fct&gt; | median.Sepal.Length &lt;dbl&gt; |\n",
       "|---|---|\n",
       "| setosa     | 5.0 |\n",
       "| versicolor | 5.9 |\n",
       "| virginica  | 6.5 |\n",
       "\n"
      ],
      "text/plain": [
       "  Species    median.Sepal.Length\n",
       "1 setosa     5.0                \n",
       "2 versicolor 5.9                \n",
       "3 virginica  6.5                "
      ]
     },
     "metadata": {},
     "output_type": "display_data"
    }
   ],
   "source": [
    "iris %>%\n",
    "    group_by(Species) %>%\n",
    "    summarize(median.Sepal.Length = median(Sepal.Length)) %>%\n",
    "    arrange(median.Sepal.Length)"
   ]
  },
  {
   "cell_type": "code",
   "execution_count": 18,
   "metadata": {},
   "outputs": [
    {
     "data": {
      "text/html": [
       "<table>\n",
       "<caption>A tibble: 3 × 2</caption>\n",
       "<thead>\n",
       "\t<tr><th scope=col>Species</th><th scope=col>median.Sepal.Length</th></tr>\n",
       "\t<tr><th scope=col>&lt;fct&gt;</th><th scope=col>&lt;dbl&gt;</th></tr>\n",
       "</thead>\n",
       "<tbody>\n",
       "\t<tr><td>virginica </td><td>6.5</td></tr>\n",
       "\t<tr><td>versicolor</td><td>5.9</td></tr>\n",
       "\t<tr><td>setosa    </td><td>5.0</td></tr>\n",
       "</tbody>\n",
       "</table>\n"
      ],
      "text/latex": [
       "A tibble: 3 × 2\n",
       "\\begin{tabular}{r|ll}\n",
       " Species & median.Sepal.Length\\\\\n",
       " <fct> & <dbl>\\\\\n",
       "\\hline\n",
       "\t virginica  & 6.5\\\\\n",
       "\t versicolor & 5.9\\\\\n",
       "\t setosa     & 5.0\\\\\n",
       "\\end{tabular}\n"
      ],
      "text/markdown": [
       "\n",
       "A tibble: 3 × 2\n",
       "\n",
       "| Species &lt;fct&gt; | median.Sepal.Length &lt;dbl&gt; |\n",
       "|---|---|\n",
       "| virginica  | 6.5 |\n",
       "| versicolor | 5.9 |\n",
       "| setosa     | 5.0 |\n",
       "\n"
      ],
      "text/plain": [
       "  Species    median.Sepal.Length\n",
       "1 virginica  6.5                \n",
       "2 versicolor 5.9                \n",
       "3 setosa     5.0                "
      ]
     },
     "metadata": {},
     "output_type": "display_data"
    }
   ],
   "source": [
    "iris %>%\n",
    "    group_by(Species) %>%\n",
    "    summarize(median.Sepal.Length = median(Sepal.Length)) %>%\n",
    "    arrange(desc(median.Sepal.Length))"
   ]
  },
  {
   "cell_type": "markdown",
   "metadata": {
    "slideshow": {
     "slide_type": "slide"
    }
   },
   "source": [
    "# mutate"
   ]
  },
  {
   "cell_type": "code",
   "execution_count": 19,
   "metadata": {
    "slideshow": {
     "slide_type": "slide"
    }
   },
   "outputs": [
    {
     "data": {
      "text/html": [
       "<table>\n",
       "<caption>A data.frame: 6 × 6</caption>\n",
       "<thead>\n",
       "\t<tr><th scope=col>Sepal.Length</th><th scope=col>Sepal.Width</th><th scope=col>Petal.Length</th><th scope=col>Petal.Width</th><th scope=col>Species</th><th scope=col>p.width2length</th></tr>\n",
       "\t<tr><th scope=col>&lt;dbl&gt;</th><th scope=col>&lt;dbl&gt;</th><th scope=col>&lt;dbl&gt;</th><th scope=col>&lt;dbl&gt;</th><th scope=col>&lt;fct&gt;</th><th scope=col>&lt;dbl&gt;</th></tr>\n",
       "</thead>\n",
       "<tbody>\n",
       "\t<tr><td>5.1</td><td>3.5</td><td>1.4</td><td>0.2</td><td>setosa</td><td>0.1428571</td></tr>\n",
       "\t<tr><td>4.9</td><td>3.0</td><td>1.4</td><td>0.2</td><td>setosa</td><td>0.1428571</td></tr>\n",
       "\t<tr><td>4.7</td><td>3.2</td><td>1.3</td><td>0.2</td><td>setosa</td><td>0.1538462</td></tr>\n",
       "\t<tr><td>4.6</td><td>3.1</td><td>1.5</td><td>0.2</td><td>setosa</td><td>0.1333333</td></tr>\n",
       "\t<tr><td>5.0</td><td>3.6</td><td>1.4</td><td>0.2</td><td>setosa</td><td>0.1428571</td></tr>\n",
       "\t<tr><td>5.4</td><td>3.9</td><td>1.7</td><td>0.4</td><td>setosa</td><td>0.2352941</td></tr>\n",
       "</tbody>\n",
       "</table>\n"
      ],
      "text/latex": [
       "A data.frame: 6 × 6\n",
       "\\begin{tabular}{r|llllll}\n",
       " Sepal.Length & Sepal.Width & Petal.Length & Petal.Width & Species & p.width2length\\\\\n",
       " <dbl> & <dbl> & <dbl> & <dbl> & <fct> & <dbl>\\\\\n",
       "\\hline\n",
       "\t 5.1 & 3.5 & 1.4 & 0.2 & setosa & 0.1428571\\\\\n",
       "\t 4.9 & 3.0 & 1.4 & 0.2 & setosa & 0.1428571\\\\\n",
       "\t 4.7 & 3.2 & 1.3 & 0.2 & setosa & 0.1538462\\\\\n",
       "\t 4.6 & 3.1 & 1.5 & 0.2 & setosa & 0.1333333\\\\\n",
       "\t 5.0 & 3.6 & 1.4 & 0.2 & setosa & 0.1428571\\\\\n",
       "\t 5.4 & 3.9 & 1.7 & 0.4 & setosa & 0.2352941\\\\\n",
       "\\end{tabular}\n"
      ],
      "text/markdown": [
       "\n",
       "A data.frame: 6 × 6\n",
       "\n",
       "| Sepal.Length &lt;dbl&gt; | Sepal.Width &lt;dbl&gt; | Petal.Length &lt;dbl&gt; | Petal.Width &lt;dbl&gt; | Species &lt;fct&gt; | p.width2length &lt;dbl&gt; |\n",
       "|---|---|---|---|---|---|\n",
       "| 5.1 | 3.5 | 1.4 | 0.2 | setosa | 0.1428571 |\n",
       "| 4.9 | 3.0 | 1.4 | 0.2 | setosa | 0.1428571 |\n",
       "| 4.7 | 3.2 | 1.3 | 0.2 | setosa | 0.1538462 |\n",
       "| 4.6 | 3.1 | 1.5 | 0.2 | setosa | 0.1333333 |\n",
       "| 5.0 | 3.6 | 1.4 | 0.2 | setosa | 0.1428571 |\n",
       "| 5.4 | 3.9 | 1.7 | 0.4 | setosa | 0.2352941 |\n",
       "\n"
      ],
      "text/plain": [
       "  Sepal.Length Sepal.Width Petal.Length Petal.Width Species p.width2length\n",
       "1 5.1          3.5         1.4          0.2         setosa  0.1428571     \n",
       "2 4.9          3.0         1.4          0.2         setosa  0.1428571     \n",
       "3 4.7          3.2         1.3          0.2         setosa  0.1538462     \n",
       "4 4.6          3.1         1.5          0.2         setosa  0.1333333     \n",
       "5 5.0          3.6         1.4          0.2         setosa  0.1428571     \n",
       "6 5.4          3.9         1.7          0.4         setosa  0.2352941     "
      ]
     },
     "metadata": {},
     "output_type": "display_data"
    }
   ],
   "source": [
    "iris %>%\n",
    "    mutate(p.width2length = Petal.Width / Petal.Length) %>%\n",
    "    head"
   ]
  },
  {
   "cell_type": "code",
   "execution_count": 20,
   "metadata": {
    "slideshow": {
     "slide_type": "slide"
    }
   },
   "outputs": [
    {
     "data": {
      "text/html": [
       "<table>\n",
       "<caption>A tibble: 3 × 2</caption>\n",
       "<thead>\n",
       "\t<tr><th scope=col>Species</th><th scope=col>max.p.width2length</th></tr>\n",
       "\t<tr><th scope=col>&lt;fct&gt;</th><th scope=col>&lt;dbl&gt;</th></tr>\n",
       "</thead>\n",
       "<tbody>\n",
       "\t<tr><td>virginica </td><td>0.4705882</td></tr>\n",
       "\t<tr><td>versicolor</td><td>0.3750000</td></tr>\n",
       "\t<tr><td>setosa    </td><td>0.3750000</td></tr>\n",
       "</tbody>\n",
       "</table>\n"
      ],
      "text/latex": [
       "A tibble: 3 × 2\n",
       "\\begin{tabular}{r|ll}\n",
       " Species & max.p.width2length\\\\\n",
       " <fct> & <dbl>\\\\\n",
       "\\hline\n",
       "\t virginica  & 0.4705882\\\\\n",
       "\t versicolor & 0.3750000\\\\\n",
       "\t setosa     & 0.3750000\\\\\n",
       "\\end{tabular}\n"
      ],
      "text/markdown": [
       "\n",
       "A tibble: 3 × 2\n",
       "\n",
       "| Species &lt;fct&gt; | max.p.width2length &lt;dbl&gt; |\n",
       "|---|---|\n",
       "| virginica  | 0.4705882 |\n",
       "| versicolor | 0.3750000 |\n",
       "| setosa     | 0.3750000 |\n",
       "\n"
      ],
      "text/plain": [
       "  Species    max.p.width2length\n",
       "1 virginica  0.4705882         \n",
       "2 versicolor 0.3750000         \n",
       "3 setosa     0.3750000         "
      ]
     },
     "metadata": {},
     "output_type": "display_data"
    }
   ],
   "source": [
    "iris %>%\n",
    "    mutate(p.width2length = Petal.Width / Petal.Length) %>%\n",
    "    group_by(Species) %>%\n",
    "    summarize(max.p.width2length = max(p.width2length)) %>%\n",
    "    arrange(-max.p.width2length)"
   ]
  }
 ],
 "metadata": {
  "celltoolbar": "Slideshow",
  "kernelspec": {
   "display_name": "R",
   "language": "R",
   "name": "ir"
  },
  "language_info": {
   "codemirror_mode": "r",
   "file_extension": ".r",
   "mimetype": "text/x-r-source",
   "name": "R",
   "pygments_lexer": "r",
   "version": "3.6.0"
  }
 },
 "nbformat": 4,
 "nbformat_minor": 2
}
