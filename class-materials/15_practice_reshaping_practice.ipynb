{
 "cells": [
  {
   "cell_type": "markdown",
   "metadata": {},
   "source": [
    "Which song spent the most weeks atop the Billboard charts?"
   ]
  },
  {
   "cell_type": "code",
   "execution_count": 1,
   "metadata": {},
   "outputs": [
    {
     "name": "stderr",
     "output_type": "stream",
     "text": [
      "── \u001b[1mAttaching packages\u001b[22m ─────────────────────────────────────── tidyverse 1.2.1 ──\n",
      "\n",
      "\u001b[32m✔\u001b[39m \u001b[34mggplot2\u001b[39m 3.2.0          \u001b[32m✔\u001b[39m \u001b[34mpurrr  \u001b[39m 0.3.2     \n",
      "\u001b[32m✔\u001b[39m \u001b[34mtibble \u001b[39m 2.1.3          \u001b[32m✔\u001b[39m \u001b[34mdplyr  \u001b[39m 0.8.3     \n",
      "\u001b[32m✔\u001b[39m \u001b[34mtidyr  \u001b[39m 1.0.0.\u001b[31m9000\u001b[39m     \u001b[32m✔\u001b[39m \u001b[34mstringr\u001b[39m 1.4.0     \n",
      "\u001b[32m✔\u001b[39m \u001b[34mreadr  \u001b[39m 1.3.1          \u001b[32m✔\u001b[39m \u001b[34mforcats\u001b[39m 0.4.0     \n",
      "\n",
      "── \u001b[1mConflicts\u001b[22m ────────────────────────────────────────── tidyverse_conflicts() ──\n",
      "\u001b[31m✖\u001b[39m \u001b[34mdplyr\u001b[39m::\u001b[32mfilter()\u001b[39m masks \u001b[34mstats\u001b[39m::filter()\n",
      "\u001b[31m✖\u001b[39m \u001b[34mdplyr\u001b[39m::\u001b[32mlag()\u001b[39m    masks \u001b[34mstats\u001b[39m::lag()\n",
      "\n"
     ]
    }
   ],
   "source": [
    "library('tidyverse')"
   ]
  },
  {
   "cell_type": "code",
   "execution_count": 2,
   "metadata": {},
   "outputs": [
    {
     "name": "stdout",
     "output_type": "stream",
     "text": [
      "\u001b[38;5;246m# A tibble: 317 x 79\u001b[39m\n",
      "   artist track date.entered   wk1   wk2   wk3   wk4   wk5   wk6   wk7   wk8\n",
      "   \u001b[3m\u001b[38;5;246m<chr>\u001b[39m\u001b[23m  \u001b[3m\u001b[38;5;246m<chr>\u001b[39m\u001b[23m \u001b[3m\u001b[38;5;246m<date>\u001b[39m\u001b[23m       \u001b[3m\u001b[38;5;246m<dbl>\u001b[39m\u001b[23m \u001b[3m\u001b[38;5;246m<dbl>\u001b[39m\u001b[23m \u001b[3m\u001b[38;5;246m<dbl>\u001b[39m\u001b[23m \u001b[3m\u001b[38;5;246m<dbl>\u001b[39m\u001b[23m \u001b[3m\u001b[38;5;246m<dbl>\u001b[39m\u001b[23m \u001b[3m\u001b[38;5;246m<dbl>\u001b[39m\u001b[23m \u001b[3m\u001b[38;5;246m<dbl>\u001b[39m\u001b[23m \u001b[3m\u001b[38;5;246m<dbl>\u001b[39m\u001b[23m\n",
      "\u001b[38;5;250m 1\u001b[39m 2 Pac  Baby… 2000-02-26      87    82    72    77    87    94    99    \u001b[31mNA\u001b[39m\n",
      "\u001b[38;5;250m 2\u001b[39m 2Ge+h… The … 2000-09-02      91    87    92    \u001b[31mNA\u001b[39m    \u001b[31mNA\u001b[39m    \u001b[31mNA\u001b[39m    \u001b[31mNA\u001b[39m    \u001b[31mNA\u001b[39m\n",
      "\u001b[38;5;250m 3\u001b[39m 3 Doo… Kryp… 2000-04-08      81    70    68    67    66    57    54    53\n",
      "\u001b[38;5;250m 4\u001b[39m 3 Doo… Loser 2000-10-21      76    76    72    69    67    65    55    59\n",
      "\u001b[38;5;250m 5\u001b[39m 504 B… Wobb… 2000-04-15      57    34    25    17    17    31    36    49\n",
      "\u001b[38;5;250m 6\u001b[39m 98^0   Give… 2000-08-19      51    39    34    26    26    19     2     2\n",
      "\u001b[38;5;250m 7\u001b[39m A*Tee… Danc… 2000-07-08      97    97    96    95   100    \u001b[31mNA\u001b[39m    \u001b[31mNA\u001b[39m    \u001b[31mNA\u001b[39m\n",
      "\u001b[38;5;250m 8\u001b[39m Aaliy… I Do… 2000-01-29      84    62    51    41    38    35    35    38\n",
      "\u001b[38;5;250m 9\u001b[39m Aaliy… Try … 2000-03-18      59    53    38    28    21    18    16    14\n",
      "\u001b[38;5;250m10\u001b[39m Adams… Open… 2000-08-26      76    76    74    69    68    67    61    58\n",
      "\u001b[38;5;246m# … with 307 more rows, and 68 more variables: wk9 \u001b[3m\u001b[38;5;246m<dbl>\u001b[38;5;246m\u001b[23m, wk10 \u001b[3m\u001b[38;5;246m<dbl>\u001b[38;5;246m\u001b[23m,\n",
      "#   wk11 \u001b[3m\u001b[38;5;246m<dbl>\u001b[38;5;246m\u001b[23m, wk12 \u001b[3m\u001b[38;5;246m<dbl>\u001b[38;5;246m\u001b[23m, wk13 \u001b[3m\u001b[38;5;246m<dbl>\u001b[38;5;246m\u001b[23m, wk14 \u001b[3m\u001b[38;5;246m<dbl>\u001b[38;5;246m\u001b[23m, wk15 \u001b[3m\u001b[38;5;246m<dbl>\u001b[38;5;246m\u001b[23m, wk16 \u001b[3m\u001b[38;5;246m<dbl>\u001b[38;5;246m\u001b[23m,\n",
      "#   wk17 \u001b[3m\u001b[38;5;246m<dbl>\u001b[38;5;246m\u001b[23m, wk18 \u001b[3m\u001b[38;5;246m<dbl>\u001b[38;5;246m\u001b[23m, wk19 \u001b[3m\u001b[38;5;246m<dbl>\u001b[38;5;246m\u001b[23m, wk20 \u001b[3m\u001b[38;5;246m<dbl>\u001b[38;5;246m\u001b[23m, wk21 \u001b[3m\u001b[38;5;246m<dbl>\u001b[38;5;246m\u001b[23m, wk22 \u001b[3m\u001b[38;5;246m<dbl>\u001b[38;5;246m\u001b[23m,\n",
      "#   wk23 \u001b[3m\u001b[38;5;246m<dbl>\u001b[38;5;246m\u001b[23m, wk24 \u001b[3m\u001b[38;5;246m<dbl>\u001b[38;5;246m\u001b[23m, wk25 \u001b[3m\u001b[38;5;246m<dbl>\u001b[38;5;246m\u001b[23m, wk26 \u001b[3m\u001b[38;5;246m<dbl>\u001b[38;5;246m\u001b[23m, wk27 \u001b[3m\u001b[38;5;246m<dbl>\u001b[38;5;246m\u001b[23m, wk28 \u001b[3m\u001b[38;5;246m<dbl>\u001b[38;5;246m\u001b[23m,\n",
      "#   wk29 \u001b[3m\u001b[38;5;246m<dbl>\u001b[38;5;246m\u001b[23m, wk30 \u001b[3m\u001b[38;5;246m<dbl>\u001b[38;5;246m\u001b[23m, wk31 \u001b[3m\u001b[38;5;246m<dbl>\u001b[38;5;246m\u001b[23m, wk32 \u001b[3m\u001b[38;5;246m<dbl>\u001b[38;5;246m\u001b[23m, wk33 \u001b[3m\u001b[38;5;246m<dbl>\u001b[38;5;246m\u001b[23m, wk34 \u001b[3m\u001b[38;5;246m<dbl>\u001b[38;5;246m\u001b[23m,\n",
      "#   wk35 \u001b[3m\u001b[38;5;246m<dbl>\u001b[38;5;246m\u001b[23m, wk36 \u001b[3m\u001b[38;5;246m<dbl>\u001b[38;5;246m\u001b[23m, wk37 \u001b[3m\u001b[38;5;246m<dbl>\u001b[38;5;246m\u001b[23m, wk38 \u001b[3m\u001b[38;5;246m<dbl>\u001b[38;5;246m\u001b[23m, wk39 \u001b[3m\u001b[38;5;246m<dbl>\u001b[38;5;246m\u001b[23m, wk40 \u001b[3m\u001b[38;5;246m<dbl>\u001b[38;5;246m\u001b[23m,\n",
      "#   wk41 \u001b[3m\u001b[38;5;246m<dbl>\u001b[38;5;246m\u001b[23m, wk42 \u001b[3m\u001b[38;5;246m<dbl>\u001b[38;5;246m\u001b[23m, wk43 \u001b[3m\u001b[38;5;246m<dbl>\u001b[38;5;246m\u001b[23m, wk44 \u001b[3m\u001b[38;5;246m<dbl>\u001b[38;5;246m\u001b[23m, wk45 \u001b[3m\u001b[38;5;246m<dbl>\u001b[38;5;246m\u001b[23m, wk46 \u001b[3m\u001b[38;5;246m<dbl>\u001b[38;5;246m\u001b[23m,\n",
      "#   wk47 \u001b[3m\u001b[38;5;246m<dbl>\u001b[38;5;246m\u001b[23m, wk48 \u001b[3m\u001b[38;5;246m<dbl>\u001b[38;5;246m\u001b[23m, wk49 \u001b[3m\u001b[38;5;246m<dbl>\u001b[38;5;246m\u001b[23m, wk50 \u001b[3m\u001b[38;5;246m<dbl>\u001b[38;5;246m\u001b[23m, wk51 \u001b[3m\u001b[38;5;246m<dbl>\u001b[38;5;246m\u001b[23m, wk52 \u001b[3m\u001b[38;5;246m<dbl>\u001b[38;5;246m\u001b[23m,\n",
      "#   wk53 \u001b[3m\u001b[38;5;246m<dbl>\u001b[38;5;246m\u001b[23m, wk54 \u001b[3m\u001b[38;5;246m<dbl>\u001b[38;5;246m\u001b[23m, wk55 \u001b[3m\u001b[38;5;246m<dbl>\u001b[38;5;246m\u001b[23m, wk56 \u001b[3m\u001b[38;5;246m<dbl>\u001b[38;5;246m\u001b[23m, wk57 \u001b[3m\u001b[38;5;246m<dbl>\u001b[38;5;246m\u001b[23m, wk58 \u001b[3m\u001b[38;5;246m<dbl>\u001b[38;5;246m\u001b[23m,\n",
      "#   wk59 \u001b[3m\u001b[38;5;246m<dbl>\u001b[38;5;246m\u001b[23m, wk60 \u001b[3m\u001b[38;5;246m<dbl>\u001b[38;5;246m\u001b[23m, wk61 \u001b[3m\u001b[38;5;246m<dbl>\u001b[38;5;246m\u001b[23m, wk62 \u001b[3m\u001b[38;5;246m<dbl>\u001b[38;5;246m\u001b[23m, wk63 \u001b[3m\u001b[38;5;246m<dbl>\u001b[38;5;246m\u001b[23m, wk64 \u001b[3m\u001b[38;5;246m<dbl>\u001b[38;5;246m\u001b[23m,\n",
      "#   wk65 \u001b[3m\u001b[38;5;246m<dbl>\u001b[38;5;246m\u001b[23m, wk66 \u001b[3m\u001b[38;5;246m<lgl>\u001b[38;5;246m\u001b[23m, wk67 \u001b[3m\u001b[38;5;246m<lgl>\u001b[38;5;246m\u001b[23m, wk68 \u001b[3m\u001b[38;5;246m<lgl>\u001b[38;5;246m\u001b[23m, wk69 \u001b[3m\u001b[38;5;246m<lgl>\u001b[38;5;246m\u001b[23m, wk70 \u001b[3m\u001b[38;5;246m<lgl>\u001b[38;5;246m\u001b[23m,\n",
      "#   wk71 \u001b[3m\u001b[38;5;246m<lgl>\u001b[38;5;246m\u001b[23m, wk72 \u001b[3m\u001b[38;5;246m<lgl>\u001b[38;5;246m\u001b[23m, wk73 \u001b[3m\u001b[38;5;246m<lgl>\u001b[38;5;246m\u001b[23m, wk74 \u001b[3m\u001b[38;5;246m<lgl>\u001b[38;5;246m\u001b[23m, wk75 \u001b[3m\u001b[38;5;246m<lgl>\u001b[38;5;246m\u001b[23m, wk76 \u001b[3m\u001b[38;5;246m<lgl>\u001b[38;5;246m\u001b[23m\u001b[39m\n"
     ]
    }
   ],
   "source": [
    "billboard %>% print"
   ]
  }
 ],
 "metadata": {
  "kernelspec": {
   "display_name": "R",
   "language": "R",
   "name": "ir"
  },
  "language_info": {
   "codemirror_mode": "r",
   "file_extension": ".r",
   "mimetype": "text/x-r-source",
   "name": "R",
   "pygments_lexer": "r",
   "version": "3.6.0"
  }
 },
 "nbformat": 4,
 "nbformat_minor": 4
}
