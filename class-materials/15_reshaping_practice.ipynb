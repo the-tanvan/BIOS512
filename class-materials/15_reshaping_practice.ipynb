{
 "cells": [
  {
   "cell_type": "markdown",
   "metadata": {},
   "source": [
    "Which song spent the most weeks atop the Billboard charts?"
   ]
  },
  {
   "cell_type": "code",
   "execution_count": 1,
   "metadata": {},
   "outputs": [
    {
     "name": "stderr",
     "output_type": "stream",
     "text": [
      "── \u001b[1mAttaching packages\u001b[22m ─────────────────────────────────────── tidyverse 1.2.1 ──\n",
      "\n",
      "\u001b[32m✔\u001b[39m \u001b[34mggplot2\u001b[39m 3.2.0          \u001b[32m✔\u001b[39m \u001b[34mpurrr  \u001b[39m 0.3.2     \n",
      "\u001b[32m✔\u001b[39m \u001b[34mtibble \u001b[39m 2.1.3          \u001b[32m✔\u001b[39m \u001b[34mdplyr  \u001b[39m 0.8.3     \n",
      "\u001b[32m✔\u001b[39m \u001b[34mtidyr  \u001b[39m 1.0.0.\u001b[31m9000\u001b[39m     \u001b[32m✔\u001b[39m \u001b[34mstringr\u001b[39m 1.4.0     \n",
      "\u001b[32m✔\u001b[39m \u001b[34mreadr  \u001b[39m 1.3.1          \u001b[32m✔\u001b[39m \u001b[34mforcats\u001b[39m 0.4.0     \n",
      "\n",
      "── \u001b[1mConflicts\u001b[22m ────────────────────────────────────────── tidyverse_conflicts() ──\n",
      "\u001b[31m✖\u001b[39m \u001b[34mdplyr\u001b[39m::\u001b[32mfilter()\u001b[39m masks \u001b[34mstats\u001b[39m::filter()\n",
      "\u001b[31m✖\u001b[39m \u001b[34mdplyr\u001b[39m::\u001b[32mlag()\u001b[39m    masks \u001b[34mstats\u001b[39m::lag()\n",
      "\n"
     ]
    }
   ],
   "source": [
    "library('tidyverse')"
   ]
  },
  {
   "cell_type": "code",
   "execution_count": 4,
   "metadata": {},
   "outputs": [],
   "source": [
    "?billboard"
   ]
  },
  {
   "cell_type": "code",
   "execution_count": 6,
   "metadata": {},
   "outputs": [
    {
     "data": {
      "text/html": [
       "<table>\n",
       "<caption>A tibble: 5 × 79</caption>\n",
       "<thead>\n",
       "\t<tr><th scope=col>artist</th><th scope=col>track</th><th scope=col>date.entered</th><th scope=col>wk1</th><th scope=col>wk2</th><th scope=col>wk3</th><th scope=col>wk4</th><th scope=col>wk5</th><th scope=col>wk6</th><th scope=col>wk7</th><th scope=col>⋯</th><th scope=col>wk67</th><th scope=col>wk68</th><th scope=col>wk69</th><th scope=col>wk70</th><th scope=col>wk71</th><th scope=col>wk72</th><th scope=col>wk73</th><th scope=col>wk74</th><th scope=col>wk75</th><th scope=col>wk76</th></tr>\n",
       "\t<tr><th scope=col>&lt;chr&gt;</th><th scope=col>&lt;chr&gt;</th><th scope=col>&lt;date&gt;</th><th scope=col>&lt;dbl&gt;</th><th scope=col>&lt;dbl&gt;</th><th scope=col>&lt;dbl&gt;</th><th scope=col>&lt;dbl&gt;</th><th scope=col>&lt;dbl&gt;</th><th scope=col>&lt;dbl&gt;</th><th scope=col>&lt;dbl&gt;</th><th scope=col>⋯</th><th scope=col>&lt;lgl&gt;</th><th scope=col>&lt;lgl&gt;</th><th scope=col>&lt;lgl&gt;</th><th scope=col>&lt;lgl&gt;</th><th scope=col>&lt;lgl&gt;</th><th scope=col>&lt;lgl&gt;</th><th scope=col>&lt;lgl&gt;</th><th scope=col>&lt;lgl&gt;</th><th scope=col>&lt;lgl&gt;</th><th scope=col>&lt;lgl&gt;</th></tr>\n",
       "</thead>\n",
       "<tbody>\n",
       "\t<tr><td>2 Pac       </td><td>Baby Don't Cry (Keep...</td><td>2000-02-26</td><td>87</td><td>82</td><td>72</td><td>77</td><td>87</td><td>94</td><td>99</td><td>⋯</td><td>NA</td><td>NA</td><td>NA</td><td>NA</td><td>NA</td><td>NA</td><td>NA</td><td>NA</td><td>NA</td><td>NA</td></tr>\n",
       "\t<tr><td>2Ge+her     </td><td>The Hardest Part Of ...</td><td>2000-09-02</td><td>91</td><td>87</td><td>92</td><td>NA</td><td>NA</td><td>NA</td><td>NA</td><td>⋯</td><td>NA</td><td>NA</td><td>NA</td><td>NA</td><td>NA</td><td>NA</td><td>NA</td><td>NA</td><td>NA</td><td>NA</td></tr>\n",
       "\t<tr><td>3 Doors Down</td><td>Kryptonite             </td><td>2000-04-08</td><td>81</td><td>70</td><td>68</td><td>67</td><td>66</td><td>57</td><td>54</td><td>⋯</td><td>NA</td><td>NA</td><td>NA</td><td>NA</td><td>NA</td><td>NA</td><td>NA</td><td>NA</td><td>NA</td><td>NA</td></tr>\n",
       "\t<tr><td>3 Doors Down</td><td>Loser                  </td><td>2000-10-21</td><td>76</td><td>76</td><td>72</td><td>69</td><td>67</td><td>65</td><td>55</td><td>⋯</td><td>NA</td><td>NA</td><td>NA</td><td>NA</td><td>NA</td><td>NA</td><td>NA</td><td>NA</td><td>NA</td><td>NA</td></tr>\n",
       "\t<tr><td>504 Boyz    </td><td>Wobble Wobble          </td><td>2000-04-15</td><td>57</td><td>34</td><td>25</td><td>17</td><td>17</td><td>31</td><td>36</td><td>⋯</td><td>NA</td><td>NA</td><td>NA</td><td>NA</td><td>NA</td><td>NA</td><td>NA</td><td>NA</td><td>NA</td><td>NA</td></tr>\n",
       "</tbody>\n",
       "</table>\n"
      ],
      "text/latex": [
       "A tibble: 5 × 79\n",
       "\\begin{tabular}{r|lllllllllllllllllllllllllllllllllllllllllllllllllllllllllllllllllllllllllllllll}\n",
       " artist & track & date.entered & wk1 & wk2 & wk3 & wk4 & wk5 & wk6 & wk7 & wk8 & wk9 & wk10 & wk11 & wk12 & wk13 & wk14 & wk15 & wk16 & wk17 & wk18 & wk19 & wk20 & wk21 & wk22 & wk23 & wk24 & wk25 & wk26 & wk27 & wk28 & wk29 & wk30 & wk31 & wk32 & wk33 & wk34 & wk35 & wk36 & wk37 & wk38 & wk39 & wk40 & wk41 & wk42 & wk43 & wk44 & wk45 & wk46 & wk47 & wk48 & wk49 & wk50 & wk51 & wk52 & wk53 & wk54 & wk55 & wk56 & wk57 & wk58 & wk59 & wk60 & wk61 & wk62 & wk63 & wk64 & wk65 & wk66 & wk67 & wk68 & wk69 & wk70 & wk71 & wk72 & wk73 & wk74 & wk75 & wk76\\\\\n",
       " <chr> & <chr> & <date> & <dbl> & <dbl> & <dbl> & <dbl> & <dbl> & <dbl> & <dbl> & <dbl> & <dbl> & <dbl> & <dbl> & <dbl> & <dbl> & <dbl> & <dbl> & <dbl> & <dbl> & <dbl> & <dbl> & <dbl> & <dbl> & <dbl> & <dbl> & <dbl> & <dbl> & <dbl> & <dbl> & <dbl> & <dbl> & <dbl> & <dbl> & <dbl> & <dbl> & <dbl> & <dbl> & <dbl> & <dbl> & <dbl> & <dbl> & <dbl> & <dbl> & <dbl> & <dbl> & <dbl> & <dbl> & <dbl> & <dbl> & <dbl> & <dbl> & <dbl> & <dbl> & <dbl> & <dbl> & <dbl> & <dbl> & <dbl> & <dbl> & <dbl> & <dbl> & <dbl> & <dbl> & <dbl> & <dbl> & <dbl> & <dbl> & <lgl> & <lgl> & <lgl> & <lgl> & <lgl> & <lgl> & <lgl> & <lgl> & <lgl> & <lgl> & <lgl>\\\\\n",
       "\\hline\n",
       "\t 2 Pac        & Baby Don't Cry (Keep... & 2000-02-26 & 87 & 82 & 72 & 77 & 87 & 94 & 99 & NA & NA & NA & NA & NA & NA & NA & NA & NA & NA & NA & NA & NA & NA & NA & NA & NA & NA & NA & NA & NA & NA & NA & NA & NA & NA & NA & NA & NA & NA & NA & NA & NA & NA & NA & NA & NA & NA & NA & NA & NA & NA & NA & NA & NA & NA & NA & NA & NA & NA & NA & NA & NA & NA & NA & NA & NA & NA & NA & NA & NA & NA & NA & NA & NA & NA & NA & NA & NA\\\\\n",
       "\t 2Ge+her      & The Hardest Part Of ... & 2000-09-02 & 91 & 87 & 92 & NA & NA & NA & NA & NA & NA & NA & NA & NA & NA & NA & NA & NA & NA & NA & NA & NA & NA & NA & NA & NA & NA & NA & NA & NA & NA & NA & NA & NA & NA & NA & NA & NA & NA & NA & NA & NA & NA & NA & NA & NA & NA & NA & NA & NA & NA & NA & NA & NA & NA & NA & NA & NA & NA & NA & NA & NA & NA & NA & NA & NA & NA & NA & NA & NA & NA & NA & NA & NA & NA & NA & NA & NA\\\\\n",
       "\t 3 Doors Down & Kryptonite              & 2000-04-08 & 81 & 70 & 68 & 67 & 66 & 57 & 54 & 53 & 51 & 51 & 51 & 51 & 47 & 44 & 38 & 28 & 22 & 18 & 18 & 14 & 12 &  7 &  6 &  6 &  6 &  5 &  5 &  4 &  4 &  4 &  4 &  3 &  3 &  3 &  4 &  5 &  5 &  9 &  9 & 15 & 14 & 13 & 14 & 16 & 17 & 21 & 22 & 24 & 28 & 33 & 42 & 42 & 49 & NA & NA & NA & NA & NA & NA & NA & NA & NA & NA & NA & NA & NA & NA & NA & NA & NA & NA & NA & NA & NA & NA & NA\\\\\n",
       "\t 3 Doors Down & Loser                   & 2000-10-21 & 76 & 76 & 72 & 69 & 67 & 65 & 55 & 59 & 62 & 61 & 61 & 59 & 61 & 66 & 72 & 76 & 75 & 67 & 73 & 70 & NA & NA & NA & NA & NA & NA & NA & NA & NA & NA & NA & NA & NA & NA & NA & NA & NA & NA & NA & NA & NA & NA & NA & NA & NA & NA & NA & NA & NA & NA & NA & NA & NA & NA & NA & NA & NA & NA & NA & NA & NA & NA & NA & NA & NA & NA & NA & NA & NA & NA & NA & NA & NA & NA & NA & NA\\\\\n",
       "\t 504 Boyz     & Wobble Wobble           & 2000-04-15 & 57 & 34 & 25 & 17 & 17 & 31 & 36 & 49 & 53 & 57 & 64 & 70 & 75 & 76 & 78 & 85 & 92 & 96 & NA & NA & NA & NA & NA & NA & NA & NA & NA & NA & NA & NA & NA & NA & NA & NA & NA & NA & NA & NA & NA & NA & NA & NA & NA & NA & NA & NA & NA & NA & NA & NA & NA & NA & NA & NA & NA & NA & NA & NA & NA & NA & NA & NA & NA & NA & NA & NA & NA & NA & NA & NA & NA & NA & NA & NA & NA & NA\\\\\n",
       "\\end{tabular}\n"
      ],
      "text/markdown": [
       "\n",
       "A tibble: 5 × 79\n",
       "\n",
       "| artist &lt;chr&gt; | track &lt;chr&gt; | date.entered &lt;date&gt; | wk1 &lt;dbl&gt; | wk2 &lt;dbl&gt; | wk3 &lt;dbl&gt; | wk4 &lt;dbl&gt; | wk5 &lt;dbl&gt; | wk6 &lt;dbl&gt; | wk7 &lt;dbl&gt; | ⋯ ⋯ | wk67 &lt;lgl&gt; | wk68 &lt;lgl&gt; | wk69 &lt;lgl&gt; | wk70 &lt;lgl&gt; | wk71 &lt;lgl&gt; | wk72 &lt;lgl&gt; | wk73 &lt;lgl&gt; | wk74 &lt;lgl&gt; | wk75 &lt;lgl&gt; | wk76 &lt;lgl&gt; |\n",
       "|---|---|---|---|---|---|---|---|---|---|---|---|---|---|---|---|---|---|---|---|---|\n",
       "| 2 Pac        | Baby Don't Cry (Keep... | 2000-02-26 | 87 | 82 | 72 | 77 | 87 | 94 | 99 | ⋯ | NA | NA | NA | NA | NA | NA | NA | NA | NA | NA |\n",
       "| 2Ge+her      | The Hardest Part Of ... | 2000-09-02 | 91 | 87 | 92 | NA | NA | NA | NA | ⋯ | NA | NA | NA | NA | NA | NA | NA | NA | NA | NA |\n",
       "| 3 Doors Down | Kryptonite              | 2000-04-08 | 81 | 70 | 68 | 67 | 66 | 57 | 54 | ⋯ | NA | NA | NA | NA | NA | NA | NA | NA | NA | NA |\n",
       "| 3 Doors Down | Loser                   | 2000-10-21 | 76 | 76 | 72 | 69 | 67 | 65 | 55 | ⋯ | NA | NA | NA | NA | NA | NA | NA | NA | NA | NA |\n",
       "| 504 Boyz     | Wobble Wobble           | 2000-04-15 | 57 | 34 | 25 | 17 | 17 | 31 | 36 | ⋯ | NA | NA | NA | NA | NA | NA | NA | NA | NA | NA |\n",
       "\n"
      ],
      "text/plain": [
       "  artist       track                   date.entered wk1 wk2 wk3 wk4 wk5 wk6 wk7\n",
       "1 2 Pac        Baby Don't Cry (Keep... 2000-02-26   87  82  72  77  87  94  99 \n",
       "2 2Ge+her      The Hardest Part Of ... 2000-09-02   91  87  92  NA  NA  NA  NA \n",
       "3 3 Doors Down Kryptonite              2000-04-08   81  70  68  67  66  57  54 \n",
       "4 3 Doors Down Loser                   2000-10-21   76  76  72  69  67  65  55 \n",
       "5 504 Boyz     Wobble Wobble           2000-04-15   57  34  25  17  17  31  36 \n",
       "  ⋯ wk67 wk68 wk69 wk70 wk71 wk72 wk73 wk74 wk75 wk76\n",
       "1 ⋯ NA   NA   NA   NA   NA   NA   NA   NA   NA   NA  \n",
       "2 ⋯ NA   NA   NA   NA   NA   NA   NA   NA   NA   NA  \n",
       "3 ⋯ NA   NA   NA   NA   NA   NA   NA   NA   NA   NA  \n",
       "4 ⋯ NA   NA   NA   NA   NA   NA   NA   NA   NA   NA  \n",
       "5 ⋯ NA   NA   NA   NA   NA   NA   NA   NA   NA   NA  "
      ]
     },
     "metadata": {},
     "output_type": "display_data"
    }
   ],
   "source": [
    "billboard %>% head(5)"
   ]
  },
  {
   "cell_type": "code",
   "execution_count": 22,
   "metadata": {},
   "outputs": [
    {
     "data": {
      "text/html": [
       "<table>\n",
       "<caption>A grouped_df: 17 × 3</caption>\n",
       "<thead>\n",
       "\t<tr><th scope=col>track</th><th scope=col>artist</th><th scope=col>n</th></tr>\n",
       "\t<tr><th scope=col>&lt;chr&gt;</th><th scope=col>&lt;chr&gt;</th><th scope=col>&lt;int&gt;</th></tr>\n",
       "</thead>\n",
       "<tbody>\n",
       "\t<tr><td>Independent Women Pa...</td><td>Destiny's Child    </td><td>11</td></tr>\n",
       "\t<tr><td>Maria, Maria           </td><td>Santana            </td><td>10</td></tr>\n",
       "\t<tr><td>Come On Over Baby (A...</td><td>Aguilera, Christina</td><td> 4</td></tr>\n",
       "\t<tr><td>I Knew I Loved You     </td><td>Savage Garden      </td><td> 4</td></tr>\n",
       "\t<tr><td>Music                  </td><td>Madonna            </td><td> 4</td></tr>\n",
       "\t<tr><td>Be With You            </td><td>Iglesias, Enrique  </td><td> 3</td></tr>\n",
       "\t<tr><td>Doesn't Really Matte...</td><td>Janet              </td><td> 3</td></tr>\n",
       "\t<tr><td>Say My Name            </td><td>Destiny's Child    </td><td> 3</td></tr>\n",
       "\t<tr><td>Amazed                 </td><td>Lonestar           </td><td> 2</td></tr>\n",
       "\t<tr><td>Incomplete             </td><td>Sisqo              </td><td> 2</td></tr>\n",
       "\t<tr><td>It's Gonna Be Me       </td><td>N'Sync             </td><td> 2</td></tr>\n",
       "\t<tr><td>What A Girl Wants      </td><td>Aguilera, Christina</td><td> 2</td></tr>\n",
       "\t<tr><td>Bent                   </td><td>matchbox twenty    </td><td> 1</td></tr>\n",
       "\t<tr><td>Everything You Want    </td><td>Vertical Horizon   </td><td> 1</td></tr>\n",
       "\t<tr><td>Thank God I Found Yo...</td><td>Carey, Mariah      </td><td> 1</td></tr>\n",
       "\t<tr><td>Try Again              </td><td>Aaliyah            </td><td> 1</td></tr>\n",
       "\t<tr><td>With Arms Wide Open    </td><td>Creed              </td><td> 1</td></tr>\n",
       "</tbody>\n",
       "</table>\n"
      ],
      "text/latex": [
       "A grouped_df: 17 × 3\n",
       "\\begin{tabular}{r|lll}\n",
       " track & artist & n\\\\\n",
       " <chr> & <chr> & <int>\\\\\n",
       "\\hline\n",
       "\t Independent Women Pa... & Destiny's Child     & 11\\\\\n",
       "\t Maria, Maria            & Santana             & 10\\\\\n",
       "\t Come On Over Baby (A... & Aguilera, Christina &  4\\\\\n",
       "\t I Knew I Loved You      & Savage Garden       &  4\\\\\n",
       "\t Music                   & Madonna             &  4\\\\\n",
       "\t Be With You             & Iglesias, Enrique   &  3\\\\\n",
       "\t Doesn't Really Matte... & Janet               &  3\\\\\n",
       "\t Say My Name             & Destiny's Child     &  3\\\\\n",
       "\t Amazed                  & Lonestar            &  2\\\\\n",
       "\t Incomplete              & Sisqo               &  2\\\\\n",
       "\t It's Gonna Be Me        & N'Sync              &  2\\\\\n",
       "\t What A Girl Wants       & Aguilera, Christina &  2\\\\\n",
       "\t Bent                    & matchbox twenty     &  1\\\\\n",
       "\t Everything You Want     & Vertical Horizon    &  1\\\\\n",
       "\t Thank God I Found Yo... & Carey, Mariah       &  1\\\\\n",
       "\t Try Again               & Aaliyah             &  1\\\\\n",
       "\t With Arms Wide Open     & Creed               &  1\\\\\n",
       "\\end{tabular}\n"
      ],
      "text/markdown": [
       "\n",
       "A grouped_df: 17 × 3\n",
       "\n",
       "| track &lt;chr&gt; | artist &lt;chr&gt; | n &lt;int&gt; |\n",
       "|---|---|---|\n",
       "| Independent Women Pa... | Destiny's Child     | 11 |\n",
       "| Maria, Maria            | Santana             | 10 |\n",
       "| Come On Over Baby (A... | Aguilera, Christina |  4 |\n",
       "| I Knew I Loved You      | Savage Garden       |  4 |\n",
       "| Music                   | Madonna             |  4 |\n",
       "| Be With You             | Iglesias, Enrique   |  3 |\n",
       "| Doesn't Really Matte... | Janet               |  3 |\n",
       "| Say My Name             | Destiny's Child     |  3 |\n",
       "| Amazed                  | Lonestar            |  2 |\n",
       "| Incomplete              | Sisqo               |  2 |\n",
       "| It's Gonna Be Me        | N'Sync              |  2 |\n",
       "| What A Girl Wants       | Aguilera, Christina |  2 |\n",
       "| Bent                    | matchbox twenty     |  1 |\n",
       "| Everything You Want     | Vertical Horizon    |  1 |\n",
       "| Thank God I Found Yo... | Carey, Mariah       |  1 |\n",
       "| Try Again               | Aaliyah             |  1 |\n",
       "| With Arms Wide Open     | Creed               |  1 |\n",
       "\n"
      ],
      "text/plain": [
       "   track                   artist              n \n",
       "1  Independent Women Pa... Destiny's Child     11\n",
       "2  Maria, Maria            Santana             10\n",
       "3  Come On Over Baby (A... Aguilera, Christina  4\n",
       "4  I Knew I Loved You      Savage Garden        4\n",
       "5  Music                   Madonna              4\n",
       "6  Be With You             Iglesias, Enrique    3\n",
       "7  Doesn't Really Matte... Janet                3\n",
       "8  Say My Name             Destiny's Child      3\n",
       "9  Amazed                  Lonestar             2\n",
       "10 Incomplete              Sisqo                2\n",
       "11 It's Gonna Be Me        N'Sync               2\n",
       "12 What A Girl Wants       Aguilera, Christina  2\n",
       "13 Bent                    matchbox twenty      1\n",
       "14 Everything You Want     Vertical Horizon     1\n",
       "15 Thank God I Found Yo... Carey, Mariah        1\n",
       "16 Try Again               Aaliyah              1\n",
       "17 With Arms Wide Open     Creed                1"
      ]
     },
     "metadata": {},
     "output_type": "display_data"
    }
   ],
   "source": [
    "billboard %>% \n",
    "    pivot_longer(names_to = 'week', values_to = 'rank', \n",
    "                 cols = -one_of('track', 'artist', 'date.entered')) %>%\n",
    "    filter(rank == 1) %>%\n",
    "    group_by(track, artist) %>%\n",
    "    count() %>%\n",
    "    arrange(desc(n))"
   ]
  },
  {
   "cell_type": "code",
   "execution_count": 21,
   "metadata": {},
   "outputs": [
    {
     "data": {
      "text/html": [
       "<table>\n",
       "<caption>A grouped_df: 17 × 3</caption>\n",
       "<thead>\n",
       "\t<tr><th scope=col>track</th><th scope=col>artist</th><th scope=col>n</th></tr>\n",
       "\t<tr><th scope=col>&lt;chr&gt;</th><th scope=col>&lt;chr&gt;</th><th scope=col>&lt;int&gt;</th></tr>\n",
       "</thead>\n",
       "<tbody>\n",
       "\t<tr><td>Independent Women Pa...</td><td>Destiny's Child    </td><td>11</td></tr>\n",
       "\t<tr><td>Maria, Maria           </td><td>Santana            </td><td>10</td></tr>\n",
       "\t<tr><td>Come On Over Baby (A...</td><td>Aguilera, Christina</td><td> 4</td></tr>\n",
       "\t<tr><td>I Knew I Loved You     </td><td>Savage Garden      </td><td> 4</td></tr>\n",
       "\t<tr><td>Music                  </td><td>Madonna            </td><td> 4</td></tr>\n",
       "\t<tr><td>Be With You            </td><td>Iglesias, Enrique  </td><td> 3</td></tr>\n",
       "\t<tr><td>Doesn't Really Matte...</td><td>Janet              </td><td> 3</td></tr>\n",
       "\t<tr><td>Say My Name            </td><td>Destiny's Child    </td><td> 3</td></tr>\n",
       "\t<tr><td>Amazed                 </td><td>Lonestar           </td><td> 2</td></tr>\n",
       "\t<tr><td>Incomplete             </td><td>Sisqo              </td><td> 2</td></tr>\n",
       "\t<tr><td>It's Gonna Be Me       </td><td>N'Sync             </td><td> 2</td></tr>\n",
       "\t<tr><td>What A Girl Wants      </td><td>Aguilera, Christina</td><td> 2</td></tr>\n",
       "\t<tr><td>Bent                   </td><td>matchbox twenty    </td><td> 1</td></tr>\n",
       "\t<tr><td>Everything You Want    </td><td>Vertical Horizon   </td><td> 1</td></tr>\n",
       "\t<tr><td>Thank God I Found Yo...</td><td>Carey, Mariah      </td><td> 1</td></tr>\n",
       "\t<tr><td>Try Again              </td><td>Aaliyah            </td><td> 1</td></tr>\n",
       "\t<tr><td>With Arms Wide Open    </td><td>Creed              </td><td> 1</td></tr>\n",
       "</tbody>\n",
       "</table>\n"
      ],
      "text/latex": [
       "A grouped_df: 17 × 3\n",
       "\\begin{tabular}{r|lll}\n",
       " track & artist & n\\\\\n",
       " <chr> & <chr> & <int>\\\\\n",
       "\\hline\n",
       "\t Independent Women Pa... & Destiny's Child     & 11\\\\\n",
       "\t Maria, Maria            & Santana             & 10\\\\\n",
       "\t Come On Over Baby (A... & Aguilera, Christina &  4\\\\\n",
       "\t I Knew I Loved You      & Savage Garden       &  4\\\\\n",
       "\t Music                   & Madonna             &  4\\\\\n",
       "\t Be With You             & Iglesias, Enrique   &  3\\\\\n",
       "\t Doesn't Really Matte... & Janet               &  3\\\\\n",
       "\t Say My Name             & Destiny's Child     &  3\\\\\n",
       "\t Amazed                  & Lonestar            &  2\\\\\n",
       "\t Incomplete              & Sisqo               &  2\\\\\n",
       "\t It's Gonna Be Me        & N'Sync              &  2\\\\\n",
       "\t What A Girl Wants       & Aguilera, Christina &  2\\\\\n",
       "\t Bent                    & matchbox twenty     &  1\\\\\n",
       "\t Everything You Want     & Vertical Horizon    &  1\\\\\n",
       "\t Thank God I Found Yo... & Carey, Mariah       &  1\\\\\n",
       "\t Try Again               & Aaliyah             &  1\\\\\n",
       "\t With Arms Wide Open     & Creed               &  1\\\\\n",
       "\\end{tabular}\n"
      ],
      "text/markdown": [
       "\n",
       "A grouped_df: 17 × 3\n",
       "\n",
       "| track &lt;chr&gt; | artist &lt;chr&gt; | n &lt;int&gt; |\n",
       "|---|---|---|\n",
       "| Independent Women Pa... | Destiny's Child     | 11 |\n",
       "| Maria, Maria            | Santana             | 10 |\n",
       "| Come On Over Baby (A... | Aguilera, Christina |  4 |\n",
       "| I Knew I Loved You      | Savage Garden       |  4 |\n",
       "| Music                   | Madonna             |  4 |\n",
       "| Be With You             | Iglesias, Enrique   |  3 |\n",
       "| Doesn't Really Matte... | Janet               |  3 |\n",
       "| Say My Name             | Destiny's Child     |  3 |\n",
       "| Amazed                  | Lonestar            |  2 |\n",
       "| Incomplete              | Sisqo               |  2 |\n",
       "| It's Gonna Be Me        | N'Sync              |  2 |\n",
       "| What A Girl Wants       | Aguilera, Christina |  2 |\n",
       "| Bent                    | matchbox twenty     |  1 |\n",
       "| Everything You Want     | Vertical Horizon    |  1 |\n",
       "| Thank God I Found Yo... | Carey, Mariah       |  1 |\n",
       "| Try Again               | Aaliyah             |  1 |\n",
       "| With Arms Wide Open     | Creed               |  1 |\n",
       "\n"
      ],
      "text/plain": [
       "   track                   artist              n \n",
       "1  Independent Women Pa... Destiny's Child     11\n",
       "2  Maria, Maria            Santana             10\n",
       "3  Come On Over Baby (A... Aguilera, Christina  4\n",
       "4  I Knew I Loved You      Savage Garden        4\n",
       "5  Music                   Madonna              4\n",
       "6  Be With You             Iglesias, Enrique    3\n",
       "7  Doesn't Really Matte... Janet                3\n",
       "8  Say My Name             Destiny's Child      3\n",
       "9  Amazed                  Lonestar             2\n",
       "10 Incomplete              Sisqo                2\n",
       "11 It's Gonna Be Me        N'Sync               2\n",
       "12 What A Girl Wants       Aguilera, Christina  2\n",
       "13 Bent                    matchbox twenty      1\n",
       "14 Everything You Want     Vertical Horizon     1\n",
       "15 Thank God I Found Yo... Carey, Mariah        1\n",
       "16 Try Again               Aaliyah              1\n",
       "17 With Arms Wide Open     Creed                1"
      ]
     },
     "metadata": {},
     "output_type": "display_data"
    }
   ],
   "source": [
    "billboard %>% \n",
    "    pivot_longer(names_to = 'week', values_to = 'rank', \n",
    "                 cols = -one_of('track', 'artist', 'date.entered')) %>%\n",
    "    filter(rank == 1) %>%\n",
    "    group_by(track, artist) %>%\n",
    "    summarize(n = n()) %>%\n",
    "    arrange(desc(n))"
   ]
  },
  {
   "cell_type": "code",
   "execution_count": 24,
   "metadata": {},
   "outputs": [
    {
     "name": "stderr",
     "output_type": "stream",
     "text": [
      "ERROR while rich displaying an object: Error: stat_count() must not be used with a y aesthetic.\n",
      "\n",
      "Traceback:\n",
      "1. FUN(X[[i]], ...)\n",
      "2. tryCatch(withCallingHandlers({\n",
      " .     if (!mime %in% names(repr::mime2repr)) \n",
      " .         stop(\"No repr_* for mimetype \", mime, \" in repr::mime2repr\")\n",
      " .     rpr <- repr::mime2repr[[mime]](obj)\n",
      " .     if (is.null(rpr)) \n",
      " .         return(NULL)\n",
      " .     prepare_content(is.raw(rpr), rpr)\n",
      " . }, error = error_handler), error = outer_handler)\n",
      "3. tryCatchList(expr, classes, parentenv, handlers)\n",
      "4. tryCatchOne(expr, names, parentenv, handlers[[1L]])\n",
      "5. doTryCatch(return(expr), name, parentenv, handler)\n",
      "6. withCallingHandlers({\n",
      " .     if (!mime %in% names(repr::mime2repr)) \n",
      " .         stop(\"No repr_* for mimetype \", mime, \" in repr::mime2repr\")\n",
      " .     rpr <- repr::mime2repr[[mime]](obj)\n",
      " .     if (is.null(rpr)) \n",
      " .         return(NULL)\n",
      " .     prepare_content(is.raw(rpr), rpr)\n",
      " . }, error = error_handler)\n",
      "7. repr::mime2repr[[mime]](obj)\n",
      "8. repr_text.default(obj)\n",
      "9. paste(capture.output(print(obj)), collapse = \"\\n\")\n",
      "10. capture.output(print(obj))\n",
      "11. evalVis(expr)\n",
      "12. withVisible(eval(expr, pf))\n",
      "13. eval(expr, pf)\n",
      "14. eval(expr, pf)\n",
      "15. print(obj)\n",
      "16. print.ggplot(obj)\n",
      "17. ggplot_build(x)\n",
      "18. ggplot_build.ggplot(x)\n",
      "19. by_layer(function(l, d) l$compute_statistic(d, layout))\n",
      "20. f(l = layers[[i]], d = data[[i]])\n",
      "21. l$compute_statistic(d, layout)\n",
      "22. f(..., self = self)\n",
      "23. self$stat$setup_params(data, self$stat_params)\n",
      "24. f(...)\n",
      "25. stop(\"stat_count() must not be used with a y aesthetic.\", call. = FALSE)\n"
     ]
    },
    {
     "data": {
      "image/png": "[encoded data removed]",
      "text/plain": [
       "plot without title"
      ]
     },
     "metadata": {
      "image/png": {
       "height": 420,
       "width": 420
      },
      "text/plain": {
       "height": 420,
       "width": 420
      }
     },
     "output_type": "display_data"
    }
   ],
   "source": [
    "billboard.long = billboard %>% \n",
    "    pivot_longer(names_to = 'week', values_to = 'rank', \n",
    "                 cols = -one_of('track', 'artist', 'date.entered')) %>%\n",
    "    filter(rank == 1) %>%\n",
    "    group_by(track, artist) %>%\n",
    "    summarize(n = n()) %>%\n",
    "    arrange(desc(n))\n",
    "\n",
    "# Use forcats to order by n\n",
    "\n",
    "# Make bar chart with track on x axis and n on y axis"
   ]
  }
 ],
 "metadata": {
  "kernelspec": {
   "display_name": "R",
   "language": "R",
   "name": "ir"
  },
  "language_info": {
   "codemirror_mode": "r",
   "file_extension": ".r",
   "mimetype": "text/x-r-source",
   "name": "R",
   "pygments_lexer": "r",
   "version": "3.6.0"
  }
 },
 "nbformat": 4,
 "nbformat_minor": 4
}
