{
 "cells": [
  {
   "cell_type": "markdown",
   "metadata": {},
   "source": [
    "# Gather"
   ]
  },
  {
   "cell_type": "code",
   "execution_count": 1,
   "metadata": {},
   "outputs": [
    {
     "name": "stderr",
     "output_type": "stream",
     "text": [
      "── \u001b[1mAttaching packages\u001b[22m ─────────────────────────────────────── tidyverse 1.2.1 ──\n",
      "\n",
      "\u001b[32m✔\u001b[39m \u001b[34mggplot2\u001b[39m 3.2.0     \u001b[32m✔\u001b[39m \u001b[34mpurrr  \u001b[39m 0.3.2\n",
      "\u001b[32m✔\u001b[39m \u001b[34mtibble \u001b[39m 2.1.3     \u001b[32m✔\u001b[39m \u001b[34mdplyr  \u001b[39m 0.8.3\n",
      "\u001b[32m✔\u001b[39m \u001b[34mtidyr  \u001b[39m 0.8.3     \u001b[32m✔\u001b[39m \u001b[34mstringr\u001b[39m 1.4.0\n",
      "\u001b[32m✔\u001b[39m \u001b[34mreadr  \u001b[39m 1.3.1     \u001b[32m✔\u001b[39m \u001b[34mforcats\u001b[39m 0.4.0\n",
      "\n",
      "── \u001b[1mConflicts\u001b[22m ────────────────────────────────────────── tidyverse_conflicts() ──\n",
      "\u001b[31m✖\u001b[39m \u001b[34mdplyr\u001b[39m::\u001b[32mfilter()\u001b[39m masks \u001b[34mstats\u001b[39m::filter()\n",
      "\u001b[31m✖\u001b[39m \u001b[34mdplyr\u001b[39m::\u001b[32mlag()\u001b[39m    masks \u001b[34mstats\u001b[39m::lag()\n",
      "\n"
     ]
    }
   ],
   "source": [
    "library('tidyverse')"
   ]
  },
  {
   "cell_type": "code",
   "execution_count": 6,
   "metadata": {},
   "outputs": [
    {
     "name": "stdout",
     "output_type": "stream",
     "text": [
      "\u001b[38;5;246m# A tibble: 150 x 5\u001b[39m\n",
      "   Sepal.Length Sepal.Width Petal.Length Petal.Width Species\n",
      "          \u001b[3m\u001b[38;5;246m<dbl>\u001b[39m\u001b[23m       \u001b[3m\u001b[38;5;246m<dbl>\u001b[39m\u001b[23m        \u001b[3m\u001b[38;5;246m<dbl>\u001b[39m\u001b[23m       \u001b[3m\u001b[38;5;246m<dbl>\u001b[39m\u001b[23m \u001b[3m\u001b[38;5;246m<fct>\u001b[39m\u001b[23m  \n",
      "\u001b[38;5;250m 1\u001b[39m          5.1         3.5          1.4         0.2 setosa \n",
      "\u001b[38;5;250m 2\u001b[39m          4.9         3            1.4         0.2 setosa \n",
      "\u001b[38;5;250m 3\u001b[39m          4.7         3.2          1.3         0.2 setosa \n",
      "\u001b[38;5;250m 4\u001b[39m          4.6         3.1          1.5         0.2 setosa \n",
      "\u001b[38;5;250m 5\u001b[39m          5           3.6          1.4         0.2 setosa \n",
      "\u001b[38;5;250m 6\u001b[39m          5.4         3.9          1.7         0.4 setosa \n",
      "\u001b[38;5;250m 7\u001b[39m          4.6         3.4          1.4         0.3 setosa \n",
      "\u001b[38;5;250m 8\u001b[39m          5           3.4          1.5         0.2 setosa \n",
      "\u001b[38;5;250m 9\u001b[39m          4.4         2.9          1.4         0.2 setosa \n",
      "\u001b[38;5;250m10\u001b[39m          4.9         3.1          1.5         0.1 setosa \n",
      "\u001b[38;5;246m# … with 140 more rows\u001b[39m\n"
     ]
    }
   ],
   "source": [
    "iris %>% as_tibble %>% print"
   ]
  },
  {
   "cell_type": "markdown",
   "metadata": {},
   "source": [
    "How would we compare distribution of values for each measurement?"
   ]
  },
  {
   "cell_type": "markdown",
   "metadata": {},
   "source": [
    "![](https://github.com/gadenbuie/tidyexplain/raw/master/images/tidyr-spread-gather.gif)"
   ]
  },
  {
   "cell_type": "code",
   "execution_count": 14,
   "metadata": {},
   "outputs": [],
   "source": [
    "iris.long = iris %>% \n",
    "    as_tibble %>%\n",
    "    gather(key, value, -Species)\n",
    "# the -species means to exclude the species column\n",
    "# alternatively could do the following\n",
    "\n",
    "iris.long = iris %>% \n",
    "    as_tibble %>%\n",
    "    select(-Species) %>%\n",
    "    gather(key, value)\n",
    "\n",
    "iris.long %>% print"
   ]
  },
  {
   "cell_type": "code",
   "execution_count": 34,
   "metadata": {},
   "outputs": [],
   "source": [
    "# ?gather"
   ]
  },
  {
   "cell_type": "code",
   "execution_count": null,
   "metadata": {},
   "outputs": [],
   "source": []
  },
  {
   "cell_type": "markdown",
   "metadata": {},
   "source": [
    "# Spread"
   ]
  },
  {
   "cell_type": "markdown",
   "metadata": {},
   "source": [
    "![](https://github.com/gadenbuie/tidyexplain/raw/master/images/tidyr-spread-gather.gif)"
   ]
  },
  {
   "cell_type": "code",
   "execution_count": 47,
   "metadata": {},
   "outputs": [],
   "source": [
    "# Why won't this work?\n",
    "\n",
    "# iris.long %>% spread(key, value)"
   ]
  },
  {
   "cell_type": "code",
   "execution_count": 48,
   "metadata": {},
   "outputs": [],
   "source": [
    "# iris %>%\n",
    "#     group_by(Species) %>%\n",
    "#     slice(1) %>%\n",
    "#     ungroup() %>%\n",
    "#     gather(key, value, -Species) %>%\n",
    "#     spread(key, value) %>%\n",
    "#     print"
   ]
  }
 ],
 "metadata": {
  "kernelspec": {
   "display_name": "R",
   "language": "R",
   "name": "ir"
  },
  "language_info": {
   "codemirror_mode": "r",
   "file_extension": ".r",
   "mimetype": "text/x-r-source",
   "name": "R",
   "pygments_lexer": "r",
   "version": "3.6.0"
  }
 },
 "nbformat": 4,
 "nbformat_minor": 2
}
